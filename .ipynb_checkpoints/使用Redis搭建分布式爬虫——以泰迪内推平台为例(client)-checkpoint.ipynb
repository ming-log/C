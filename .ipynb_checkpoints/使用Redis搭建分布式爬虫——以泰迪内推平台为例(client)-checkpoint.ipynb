{
 "cells": [
  {
   "cell_type": "markdown",
   "id": "8a52835c",
   "metadata": {},
   "source": [
    "该脚本作用：获取Redis数据库中的任务并将其实现"
   ]
  },
  {
   "cell_type": "code",
   "execution_count": 63,
   "id": "5953b993",
   "metadata": {
    "ExecuteTime": {
     "end_time": "2023-03-22T09:57:34.538309Z",
     "start_time": "2023-03-22T09:57:34.523309Z"
    }
   },
   "outputs": [
    {
     "name": "stdout",
     "output_type": "stream",
     "text": [
      "主机名： Ming-Log\n",
      "IP： 192.168.0.162\n",
      "Windows平台： Windows\n"
     ]
    }
   ],
   "source": [
    "# 获取电脑信息\n",
    "import uuid\n",
    "import socket\n",
    "import platform\n",
    "\n",
    "mac = uuid.UUID(int=uuid.getnode() ).hex[-12:]\n",
    "\n",
    "##################查看用户主机名和IP地址\n",
    "# 获取主机名\n",
    "hostname = socket.gethostname()\n",
    "# 获取IP\n",
    "ip = socket.gethostbyname(hostname)\n",
    " \n",
    "print(\"主机名：\", hostname)\n",
    "print(\"IP：\", ip)\n",
    "\n",
    "################查看用户电脑系统类型\n",
    "system_type = platform.system()\n",
    "print(\"Windows平台：\", system_type)"
   ]
  },
  {
   "cell_type": "code",
   "execution_count": 9,
   "id": "78d13196",
   "metadata": {
    "ExecuteTime": {
     "end_time": "2023-03-22T09:00:58.440764Z",
     "start_time": "2023-03-22T09:00:58.346535Z"
    }
   },
   "outputs": [],
   "source": [
    "import redis\n",
    "import requests"
   ]
  },
  {
   "cell_type": "code",
   "execution_count": 2,
   "id": "b5d6f488",
   "metadata": {
    "ExecuteTime": {
     "end_time": "2023-03-22T08:04:31.909549Z",
     "start_time": "2023-03-22T08:04:31.895550Z"
    }
   },
   "outputs": [],
   "source": [
    "# 连接Redis数据库\n",
    "redis_conn = redis.Redis(host=\"192.168.128.128\", port=6379, password=\"minglog\")"
   ]
  },
  {
   "cell_type": "markdown",
   "id": "c7fd1841",
   "metadata": {},
   "source": [
    "# 岗位信息任务"
   ]
  },
  {
   "cell_type": "markdown",
   "id": "23f94c24",
   "metadata": {},
   "source": [
    "## 获取任务"
   ]
  },
  {
   "cell_type": "code",
   "execution_count": 6,
   "id": "2ee1840f",
   "metadata": {
    "ExecuteTime": {
     "end_time": "2023-03-22T08:08:14.596214Z",
     "start_time": "2023-03-22T08:08:14.590212Z"
    }
   },
   "outputs": [],
   "source": [
    "job_id = redis_conn.spop('all_job_list').decode()"
   ]
  },
  {
   "cell_type": "code",
   "execution_count": 7,
   "id": "a90992c8",
   "metadata": {
    "ExecuteTime": {
     "end_time": "2023-03-22T08:08:25.748331Z",
     "start_time": "2023-03-22T08:08:25.743331Z"
    }
   },
   "outputs": [
    {
     "name": "stdout",
     "output_type": "stream",
     "text": [
      "1482193656365580295\n"
     ]
    }
   ],
   "source": [
    "print(job_id)"
   ]
  },
  {
   "cell_type": "markdown",
   "id": "edcf0c50",
   "metadata": {},
   "source": [
    "## 获取数据"
   ]
  },
  {
   "cell_type": "code",
   "execution_count": 8,
   "id": "24476685",
   "metadata": {
    "ExecuteTime": {
     "end_time": "2023-03-22T09:00:48.529830Z",
     "start_time": "2023-03-22T09:00:48.523821Z"
    }
   },
   "outputs": [],
   "source": [
    "# 二级页面API\n",
    "job_secondPage_api = 'https://www.5iai.com/api/enterprise/job/public'"
   ]
  },
  {
   "cell_type": "code",
   "execution_count": 10,
   "id": "1e46e087",
   "metadata": {
    "ExecuteTime": {
     "end_time": "2023-03-22T09:01:11.134144Z",
     "start_time": "2023-03-22T09:01:11.123212Z"
    }
   },
   "outputs": [],
   "source": [
    "job_secondPage_params = {\n",
    "    'id': job_id\n",
    "}"
   ]
  },
  {
   "cell_type": "code",
   "execution_count": 11,
   "id": "0a9de39f",
   "metadata": {
    "ExecuteTime": {
     "end_time": "2023-03-22T09:01:21.232120Z",
     "start_time": "2023-03-22T09:01:20.864709Z"
    }
   },
   "outputs": [],
   "source": [
    "job_secondPage_response = requests.get(job_secondPage_api, params=job_secondPage_params)"
   ]
  },
  {
   "cell_type": "code",
   "execution_count": 12,
   "id": "470c9686",
   "metadata": {
    "ExecuteTime": {
     "end_time": "2023-03-22T09:01:35.512725Z",
     "start_time": "2023-03-22T09:01:35.505726Z"
    }
   },
   "outputs": [],
   "source": [
    "job_secondPage_dict = job_secondPage_response.json()\n",
    "if 'data' in job_secondPage_dict.keys():\n",
    "    # 获取岗位技能\n",
    "    job_skillsList = ','.join([i['labelName'] for i in job_secondPage_dict['data']['skillsList']])\n",
    "    # 获取工作地点\n",
    "    job_address = job_secondPage_dict['data']['enterpriseAddress']['detailedAddress']\n",
    "    # 获取岗位职责\n",
    "    job_Requiredments = job_secondPage_dict['data']['jobRequiredments']\n",
    "else:\n",
    "    # 如果没有岗位详细信息，即二级页面为空\n",
    "    job_skillsList = ''\n",
    "    job_address = ''\n",
    "    job_Requiredments = ''"
   ]
  },
  {
   "cell_type": "markdown",
   "id": "9ff48753",
   "metadata": {},
   "source": [
    "## 存储到数据库中"
   ]
  },
  {
   "cell_type": "code",
   "execution_count": 25,
   "id": "9cedc854",
   "metadata": {
    "ExecuteTime": {
     "end_time": "2023-03-22T09:05:18.389218Z",
     "start_time": "2023-03-22T09:05:18.331610Z"
    }
   },
   "outputs": [],
   "source": [
    "import pymysql\n",
    "# 连接数据库\n",
    "conn = pymysql.connect(host='localhost',\n",
    "                      port=3306,\n",
    "                      database='tipdm_cup',\n",
    "                      user='root',\n",
    "                      passwd='123456')\n",
    "# 创建游标\n",
    "cursor = conn.cursor()"
   ]
  },
  {
   "cell_type": "code",
   "execution_count": 50,
   "id": "c9da6dae",
   "metadata": {
    "ExecuteTime": {
     "end_time": "2023-03-22T09:13:57.962787Z",
     "start_time": "2023-03-22T09:13:57.946163Z"
    }
   },
   "outputs": [],
   "source": [
    "job_sql =  \"update job_1 set job_skillsList='%s', job_address='%s', job_Requiredments='%s' where job_id='%s';\" % (job_skillsList, job_address, job_Requiredments, job_id)"
   ]
  },
  {
   "cell_type": "code",
   "execution_count": 51,
   "id": "6b2856d5",
   "metadata": {
    "ExecuteTime": {
     "end_time": "2023-03-22T09:13:58.275113Z",
     "start_time": "2023-03-22T09:13:58.266198Z"
    }
   },
   "outputs": [
    {
     "data": {
      "text/plain": [
       "1"
      ]
     },
     "execution_count": 51,
     "metadata": {},
     "output_type": "execute_result"
    }
   ],
   "source": [
    "cursor.execute(job_sql)"
   ]
  },
  {
   "cell_type": "code",
   "execution_count": 53,
   "id": "f87a3f55",
   "metadata": {
    "ExecuteTime": {
     "end_time": "2023-03-22T09:15:07.559397Z",
     "start_time": "2023-03-22T09:15:07.547399Z"
    }
   },
   "outputs": [],
   "source": [
    "conn.commit()"
   ]
  },
  {
   "cell_type": "markdown",
   "id": "942abe59",
   "metadata": {},
   "source": [
    "## 写成函数"
   ]
  },
  {
   "cell_type": "code",
   "execution_count": 60,
   "id": "52c2ffb8",
   "metadata": {
    "ExecuteTime": {
     "end_time": "2023-03-22T09:47:48.591624Z",
     "start_time": "2023-03-22T09:47:48.587563Z"
    }
   },
   "outputs": [],
   "source": [
    "import redis\n",
    "import pymysql\n",
    "import uuid\n",
    "import socket\n",
    "import platform"
   ]
  },
  {
   "cell_type": "code",
   "execution_count": null,
   "id": "96ccde19",
   "metadata": {},
   "outputs": [],
   "source": [
    "def get_job_info():\n",
    "    # 连接Redis数据库\n",
    "    redis_conn = redis.Redis(host=\"192.168.128.128\", port=6379, password=\"minglog\")\n",
    "    # 连接数据库\n",
    "    conn = pymysql.connect(host='localhost',\n",
    "                          port=3306,\n",
    "                          database='tipdm_cup',\n",
    "                          user='root',\n",
    "                          passwd='123456')\n",
    "    # 创建游标\n",
    "    cursor = conn.cursor()\n",
    "    # 获取相关设备信息\n",
    "    mac = uuid.UUID(int=uuid.getnode() ).hex[-12:]\n",
    "    # 获取主机名\n",
    "    hostname = socket.gethostname()\n",
    "    # 获取IP\n",
    "    ip = socket.gethostbyname(hostname)\n",
    "    # 系统版本\n",
    "    system_type = platform.system()\n",
    "    while True:\n",
    "        if redis_conn.scard('all_job_list') != 0:\n",
    "            # 获取任务\n",
    "            job_id = redis_conn.spop('all_job_list').decode()\n",
    "            print(f\"IP: {ip}, MAC:{mac}[{system_type}]: {job_id}\")\n",
    "            # 二级页面API\n",
    "            job_secondPage_api = 'https://www.5iai.com/api/enterprise/job/public'\n",
    "            # 二级页面参数\n",
    "            job_secondPage_params = {\n",
    "            'id': job_id\n",
    "            }\n",
    "            # 获取二级页面响应\n",
    "            job_secondPage_response = requests.get(job_secondPage_api, params=job_secondPage_params)\n",
    "            job_secondPage_dict = job_secondPage_response.json()\n",
    "            # 解析二级页面响应\n",
    "            if 'data' in job_secondPage_dict.keys():\n",
    "                # 获取岗位技能\n",
    "                job_skillsList = ','.join([i['labelName'] for i in job_secondPage_dict['data']['skillsList']])\n",
    "                # 获取工作地点\n",
    "                job_address = job_secondPage_dict['data']['enterpriseAddress']['detailedAddress']\n",
    "                # 获取岗位职责\n",
    "                job_Requiredments = job_secondPage_dict['data']['jobRequiredments']\n",
    "            else:\n",
    "                # 如果没有岗位详细信息，即二级页面为空\n",
    "                job_skillsList = ''\n",
    "                job_address = ''\n",
    "                job_Requiredments = ''\n",
    "            # 生成sql命令\n",
    "            job_sql =  \"update job_1 set job_skillsList='%s', job_address='%s', job_Requiredments='%s' where job_id='%s';\" % (job_skillsList, job_address, job_Requiredments, job_id)\n",
    "            # 运行sql命令\n",
    "            cursor.execute(job_sql)\n",
    "            # 提交sql命令\n",
    "            conn.commit()\n",
    "        else:\n",
    "            # 关闭redis连接\n",
    "            redis_conn.close()\n",
    "            # 关闭mysql连接\n",
    "            cursor.close()\n",
    "            conn.close()\n",
    "            break"
   ]
  }
 ],
 "metadata": {
  "kernelspec": {
   "display_name": "spider2",
   "language": "python",
   "name": "spider2"
  },
  "language_info": {
   "codemirror_mode": {
    "name": "ipython",
    "version": 3
   },
   "file_extension": ".py",
   "mimetype": "text/x-python",
   "name": "python",
   "nbconvert_exporter": "python",
   "pygments_lexer": "ipython3",
   "version": "3.8.12"
  },
  "toc": {
   "base_numbering": 1,
   "nav_menu": {},
   "number_sections": true,
   "sideBar": true,
   "skip_h1_title": false,
   "title_cell": "Table of Contents",
   "title_sidebar": "Contents",
   "toc_cell": false,
   "toc_position": {
    "height": "calc(100% - 180px)",
    "left": "10px",
    "top": "150px",
    "width": "227.458px"
   },
   "toc_section_display": true,
   "toc_window_display": true
  },
  "varInspector": {
   "cols": {
    "lenName": 16,
    "lenType": 16,
    "lenVar": 40
   },
   "kernels_config": {
    "python": {
     "delete_cmd_postfix": "",
     "delete_cmd_prefix": "del ",
     "library": "var_list.py",
     "varRefreshCmd": "print(var_dic_list())"
    },
    "r": {
     "delete_cmd_postfix": ") ",
     "delete_cmd_prefix": "rm(",
     "library": "var_list.r",
     "varRefreshCmd": "cat(var_dic_list()) "
    }
   },
   "types_to_exclude": [
    "module",
    "function",
    "builtin_function_or_method",
    "instance",
    "_Feature"
   ],
   "window_display": false
  }
 },
 "nbformat": 4,
 "nbformat_minor": 5
}
