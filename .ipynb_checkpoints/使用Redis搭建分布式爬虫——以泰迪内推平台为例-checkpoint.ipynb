{
 "cells": [
  {
   "cell_type": "code",
   "execution_count": 1,
   "id": "ddecc551",
   "metadata": {
    "ExecuteTime": {
     "end_time": "2023-03-17T06:42:27.857152Z",
     "start_time": "2023-03-17T06:42:27.717204Z"
    }
   },
   "outputs": [],
   "source": [
    "import redis\n",
    "import requests"
   ]
  },
  {
   "cell_type": "markdown",
   "id": "b54da36c",
   "metadata": {},
   "source": [
    "# 获取任务列表"
   ]
  },
  {
   "cell_type": "code",
   "execution_count": 2,
   "id": "fd31ae35",
   "metadata": {
    "ExecuteTime": {
     "end_time": "2023-03-17T06:43:31.623529Z",
     "start_time": "2023-03-17T06:43:31.613528Z"
    }
   },
   "outputs": [],
   "source": [
    "# 岗位API\n",
    "job_api = 'https://www.5iai.com/api/enterprise/job/public/es'\n",
    "# 设定Get请求参数\n",
    "job_params = {\n",
    "    'pageSize': '2000',\n",
    "    'pageNumber': 1\n",
    "}"
   ]
  },
  {
   "cell_type": "code",
   "execution_count": 3,
   "id": "b40ab23b",
   "metadata": {
    "ExecuteTime": {
     "end_time": "2023-03-17T06:43:58.953954Z",
     "start_time": "2023-03-17T06:43:58.282100Z"
    }
   },
   "outputs": [],
   "source": [
    "# 发送GET请求\n",
    "job_response = requests.get(job_api, params=job_params)"
   ]
  },
  {
   "cell_type": "code",
   "execution_count": 4,
   "id": "c0af3ede",
   "metadata": {
    "ExecuteTime": {
     "end_time": "2023-03-17T06:44:08.651985Z",
     "start_time": "2023-03-17T06:44:08.620975Z"
    }
   },
   "outputs": [
    {
     "name": "stdout",
     "output_type": "stream",
     "text": [
      "共获取1574个岗位\n"
     ]
    }
   ],
   "source": [
    "# 将响应内容转化为字典\n",
    "job_dict = job_response.json()\n",
    "# 获取岗位信息列表\n",
    "job_list = job_dict['data']['content']\n",
    "# 查看岗位数量\n",
    "print('共获取%d个岗位' % len(job_list))"
   ]
  },
  {
   "cell_type": "code",
   "execution_count": 15,
   "id": "2af1cf17",
   "metadata": {
    "ExecuteTime": {
     "end_time": "2023-03-17T06:56:54.475795Z",
     "start_time": "2023-03-17T06:56:54.465797Z"
    }
   },
   "outputs": [],
   "source": [
    "all_job_id = [i['id'] for i in job_list]"
   ]
  },
  {
   "cell_type": "markdown",
   "id": "af0bc1bd",
   "metadata": {},
   "source": [
    "# 将所有任务加入到Redis数据库中"
   ]
  },
  {
   "cell_type": "code",
   "execution_count": 19,
   "id": "7e59b888",
   "metadata": {
    "ExecuteTime": {
     "end_time": "2023-03-17T06:57:18.592849Z",
     "start_time": "2023-03-17T06:57:18.578752Z"
    }
   },
   "outputs": [],
   "source": [
    "# 连接Redis数据库\n",
    "redis_conn = redis.Redis(host=\"192.168.128.128\", port=6379, password=\"minglog\")"
   ]
  },
  {
   "cell_type": "code",
   "execution_count": 20,
   "id": "b11e48ac",
   "metadata": {
    "ExecuteTime": {
     "end_time": "2023-03-17T06:57:19.029279Z",
     "start_time": "2023-03-17T06:57:19.008958Z"
    }
   },
   "outputs": [
    {
     "data": {
      "text/plain": [
       "1574"
      ]
     },
     "execution_count": 20,
     "metadata": {},
     "output_type": "execute_result"
    }
   ],
   "source": [
    "# 可以放入服务器的Redis数据库中\n",
    "redis_conn.sadd('all_list', *job_id)"
   ]
  },
  {
   "cell_type": "markdown",
   "id": "d2de6c13",
   "metadata": {},
   "source": [
    "# 具体工作代码"
   ]
  },
  {
   "cell_type": "code",
   "execution_count": null,
   "id": "252031c4",
   "metadata": {},
   "outputs": [],
   "source": [
    "# 定义函数\n",
    "def work():\n",
    "    while True:\n",
    "        # 让服务器的all_list中有任务时，获取一个任务\n",
    "        if redis_conn.scard('all_list') > 0:\n",
    "            # 函数功能，根据job_id将所有的岗位信息抓取下来并存入数据库\n",
    "            # 不同的电脑都可以使用该代码直接进行相关任务。\n",
    "            job_id = redis_conn.spop('all_list').decode()\n",
    "            pass\n",
    "        else:\n",
    "            break"
   ]
  },
  {
   "cell_type": "code",
   "execution_count": null,
   "id": "cd729a24",
   "metadata": {},
   "outputs": [],
   "source": []
  },
  {
   "cell_type": "code",
   "execution_count": null,
   "id": "f8a57f43",
   "metadata": {},
   "outputs": [],
   "source": []
  },
  {
   "cell_type": "code",
   "execution_count": null,
   "id": "2fcd804f",
   "metadata": {},
   "outputs": [],
   "source": []
  }
 ],
 "metadata": {
  "kernelspec": {
   "display_name": "spider2",
   "language": "python",
   "name": "spider2"
  },
  "language_info": {
   "codemirror_mode": {
    "name": "ipython",
    "version": 3
   },
   "file_extension": ".py",
   "mimetype": "text/x-python",
   "name": "python",
   "nbconvert_exporter": "python",
   "pygments_lexer": "ipython3",
   "version": "3.8.12"
  },
  "toc": {
   "base_numbering": 1,
   "nav_menu": {},
   "number_sections": true,
   "sideBar": true,
   "skip_h1_title": false,
   "title_cell": "Table of Contents",
   "title_sidebar": "Contents",
   "toc_cell": false,
   "toc_position": {},
   "toc_section_display": true,
   "toc_window_display": true
  },
  "varInspector": {
   "cols": {
    "lenName": 16,
    "lenType": 16,
    "lenVar": 40
   },
   "kernels_config": {
    "python": {
     "delete_cmd_postfix": "",
     "delete_cmd_prefix": "del ",
     "library": "var_list.py",
     "varRefreshCmd": "print(var_dic_list())"
    },
    "r": {
     "delete_cmd_postfix": ") ",
     "delete_cmd_prefix": "rm(",
     "library": "var_list.r",
     "varRefreshCmd": "cat(var_dic_list()) "
    }
   },
   "position": {
    "height": "484.844px",
    "left": "1550px",
    "right": "20px",
    "top": "118px",
    "width": "350px"
   },
   "types_to_exclude": [
    "module",
    "function",
    "builtin_function_or_method",
    "instance",
    "_Feature"
   ],
   "window_display": false
  }
 },
 "nbformat": 4,
 "nbformat_minor": 5
}
