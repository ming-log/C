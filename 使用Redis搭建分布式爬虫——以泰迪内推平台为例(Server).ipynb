{
 "cells": [
  {
   "cell_type": "markdown",
   "id": "eb49498f",
   "metadata": {},
   "source": [
    "该脚本作用：\n",
    "将泰迪内推平台任务下发，将所有简单的一级页面内存储到数据库中。"
   ]
  },
  {
   "cell_type": "code",
   "execution_count": 2,
   "id": "ddecc551",
   "metadata": {
    "ExecuteTime": {
     "end_time": "2023-03-22T07:20:55.758237Z",
     "start_time": "2023-03-22T07:20:55.612908Z"
    }
   },
   "outputs": [],
   "source": [
    "import redis\n",
    "import requests"
   ]
  },
  {
   "cell_type": "markdown",
   "id": "cb2e35fc",
   "metadata": {},
   "source": [
    "# 岗位信息"
   ]
  },
  {
   "cell_type": "markdown",
   "id": "b54da36c",
   "metadata": {},
   "source": [
    "## 获取岗位信息列表"
   ]
  },
  {
   "cell_type": "code",
   "execution_count": 3,
   "id": "fd31ae35",
   "metadata": {
    "ExecuteTime": {
     "end_time": "2023-03-22T07:20:59.457781Z",
     "start_time": "2023-03-22T07:20:59.452782Z"
    }
   },
   "outputs": [],
   "source": [
    "# 岗位API\n",
    "job_api = 'https://www.5iai.com/api/enterprise/job/public/es'\n",
    "# 设定Get请求参数\n",
    "job_params = {\n",
    "    'pageSize': '2000',\n",
    "    'pageNumber': 1\n",
    "}"
   ]
  },
  {
   "cell_type": "code",
   "execution_count": 4,
   "id": "b40ab23b",
   "metadata": {
    "ExecuteTime": {
     "end_time": "2023-03-22T07:21:00.904737Z",
     "start_time": "2023-03-22T07:21:00.252911Z"
    }
   },
   "outputs": [],
   "source": [
    "# 发送GET请求\n",
    "job_response = requests.get(job_api, params=job_params)"
   ]
  },
  {
   "cell_type": "code",
   "execution_count": 5,
   "id": "c0af3ede",
   "metadata": {
    "ExecuteTime": {
     "end_time": "2023-03-22T07:21:00.951725Z",
     "start_time": "2023-03-22T07:21:00.920869Z"
    }
   },
   "outputs": [
    {
     "name": "stdout",
     "output_type": "stream",
     "text": [
      "共获取1574个岗位\n"
     ]
    }
   ],
   "source": [
    "# 将响应内容转化为字典\n",
    "job_dict = job_response.json()\n",
    "# 获取岗位信息列表\n",
    "job_list = job_dict['data']['content']\n",
    "# 查看岗位数量\n",
    "print('共获取%d个岗位' % len(job_list))"
   ]
  },
  {
   "cell_type": "markdown",
   "id": "c200d809",
   "metadata": {},
   "source": [
    "## 将一级页面内容存储到数据库"
   ]
  },
  {
   "cell_type": "code",
   "execution_count": 6,
   "id": "2af1cf17",
   "metadata": {
    "ExecuteTime": {
     "end_time": "2023-03-22T07:22:20.393286Z",
     "start_time": "2023-03-22T07:22:20.384285Z"
    }
   },
   "outputs": [],
   "source": [
    "all_job_id = [i['id'] for i in job_list]  # 获取招聘信息ID\n",
    "job_name = [i['enterpriseExtInfo']['shortName'] for i in job_list]\n",
    "job_positionName = [i['positionName'] for i in job_list]\n",
    "job_educationalRequirements = [i['educationalRequirements'] for i in job_list]\n",
    "job_count = [i['count'] for i in job_list]\n",
    "job_econKind = [i['enterpriseExtInfo']['econKind'] for i in job_list]\n",
    "job_minimumWage = [i['minimumWage'] for i in job_list]\n",
    "job_maximumWage =  [i['maximumWage'] for i in job_list]"
   ]
  },
  {
   "cell_type": "code",
   "execution_count": 7,
   "id": "18590b4e",
   "metadata": {
    "ExecuteTime": {
     "end_time": "2023-03-22T07:27:09.301016Z",
     "start_time": "2023-03-22T07:27:09.197774Z"
    }
   },
   "outputs": [],
   "source": [
    "import pymysql\n",
    "# 连接数据库\n",
    "conn = pymysql.connect(host='localhost',\n",
    "                      port=3306,\n",
    "                      database='tipdm_cup',\n",
    "                      user='root',\n",
    "                      passwd='123456')"
   ]
  },
  {
   "cell_type": "code",
   "execution_count": 8,
   "id": "38e91da9",
   "metadata": {
    "ExecuteTime": {
     "end_time": "2023-03-22T07:27:13.822908Z",
     "start_time": "2023-03-22T07:27:13.806890Z"
    }
   },
   "outputs": [],
   "source": [
    "# 创建游标\n",
    "cursor = conn.cursor()"
   ]
  },
  {
   "cell_type": "code",
   "execution_count": 9,
   "id": "452c788f",
   "metadata": {
    "ExecuteTime": {
     "end_time": "2023-03-22T07:34:03.540865Z",
     "start_time": "2023-03-22T07:34:03.533906Z"
    }
   },
   "outputs": [],
   "source": [
    "job_sql = \"insert into job_1(job_id, job_name, job_positionName, job_educationalRequirements, job_count, job_econKind, job_minimumWage, job_maximumWage) Values\" + \",\".join([str(i) for i in list(zip(all_job_id, job_name, job_positionName, job_educationalRequirements, job_count, job_econKind, job_minimumWage, job_maximumWage))])"
   ]
  },
  {
   "cell_type": "code",
   "execution_count": 10,
   "id": "0edaaf1b",
   "metadata": {
    "ExecuteTime": {
     "end_time": "2023-03-22T07:34:55.876233Z",
     "start_time": "2023-03-22T07:34:55.837449Z"
    }
   },
   "outputs": [
    {
     "data": {
      "text/plain": [
       "1574"
      ]
     },
     "execution_count": 10,
     "metadata": {},
     "output_type": "execute_result"
    }
   ],
   "source": [
    "cursor.execute(job_sql)"
   ]
  },
  {
   "cell_type": "code",
   "execution_count": 11,
   "id": "e304ab7b",
   "metadata": {
    "ExecuteTime": {
     "end_time": "2023-03-22T07:35:15.739953Z",
     "start_time": "2023-03-22T07:35:15.726904Z"
    }
   },
   "outputs": [],
   "source": [
    "conn.commit()\n",
    "cursor.close()\n",
    "conn.close()"
   ]
  },
  {
   "cell_type": "markdown",
   "id": "af0bc1bd",
   "metadata": {},
   "source": [
    "## 将岗位二级标签任务加入到Redis数据库中"
   ]
  },
  {
   "cell_type": "code",
   "execution_count": 12,
   "id": "7e59b888",
   "metadata": {
    "ExecuteTime": {
     "end_time": "2023-03-22T08:06:03.883023Z",
     "start_time": "2023-03-22T08:06:03.871023Z"
    }
   },
   "outputs": [],
   "source": [
    "# 连接Redis数据库\n",
    "redis_conn = redis.Redis(host=\"192.168.128.128\", port=6379, password=\"minglog\")"
   ]
  },
  {
   "cell_type": "code",
   "execution_count": 13,
   "id": "b11e48ac",
   "metadata": {
    "ExecuteTime": {
     "end_time": "2023-03-22T08:08:08.990297Z",
     "start_time": "2023-03-22T08:08:08.966297Z"
    }
   },
   "outputs": [
    {
     "data": {
      "text/plain": [
       "1"
      ]
     },
     "execution_count": 13,
     "metadata": {},
     "output_type": "execute_result"
    }
   ],
   "source": [
    "# 可以放入服务器的Redis数据库中\n",
    "redis_conn.sadd('all_job_list', *all_job_id)"
   ]
  },
  {
   "cell_type": "code",
   "execution_count": 14,
   "id": "6d0d6a1e",
   "metadata": {
    "ExecuteTime": {
     "end_time": "2023-03-22T08:01:16.981124Z",
     "start_time": "2023-03-22T08:01:16.974125Z"
    }
   },
   "outputs": [],
   "source": [
    "redis_conn.close()"
   ]
  },
  {
   "cell_type": "markdown",
   "id": "a5c834e1",
   "metadata": {},
   "source": [
    "# 求职信息"
   ]
  },
  {
   "cell_type": "markdown",
   "id": "9e7d82cf",
   "metadata": {},
   "source": [
    "## 获取求职信息列表"
   ]
  },
  {
   "cell_type": "code",
   "execution_count": 15,
   "id": "de9da47f",
   "metadata": {
    "ExecuteTime": {
     "end_time": "2023-03-22T07:37:31.165925Z",
     "start_time": "2023-03-22T07:37:31.158926Z"
    }
   },
   "outputs": [],
   "source": [
    "# 求职API\n",
    "user_api = 'https://www.5iai.com/api/resume/baseInfo/public/es'\n",
    "# 设定Get请求参数\n",
    "user_params = {\n",
    "    'pageSize': 99999,\n",
    "    'pageNumber': 1\n",
    "}"
   ]
  },
  {
   "cell_type": "code",
   "execution_count": 16,
   "id": "7fe61aad",
   "metadata": {
    "ExecuteTime": {
     "end_time": "2023-03-22T07:37:36.379713Z",
     "start_time": "2023-03-22T07:37:35.333987Z"
    }
   },
   "outputs": [],
   "source": [
    "# 发送GET请求\n",
    "user_response = requests.get(user_api, params=user_params)"
   ]
  },
  {
   "cell_type": "code",
   "execution_count": 17,
   "id": "9f3330b5",
   "metadata": {
    "ExecuteTime": {
     "end_time": "2023-03-22T07:37:47.430479Z",
     "start_time": "2023-03-22T07:37:47.375399Z"
    }
   },
   "outputs": [],
   "source": [
    "# 将响应内容转化为字典\n",
    "user_dict = user_response.json()\n",
    "# 获取求职者信息列表\n",
    "user_list =  user_dict['data']['content']"
   ]
  },
  {
   "cell_type": "markdown",
   "id": "15218b3b",
   "metadata": {},
   "source": [
    "## 将一级页面内容存储到数据库"
   ]
  },
  {
   "cell_type": "code",
   "execution_count": 18,
   "id": "9098f6ce",
   "metadata": {
    "ExecuteTime": {
     "end_time": "2023-03-22T07:59:12.031458Z",
     "start_time": "2023-03-22T07:59:12.015458Z"
    }
   },
   "outputs": [],
   "source": [
    "user_id = [i['id'] for i in user_list]\n",
    "user_name = [i['username'] for i in user_list]\n",
    "user_exp = [i['exp'] for i in user_list]\n",
    "user_expectPosition = [i['expectPosition'] for i in user_list]\n",
    "user_willSalaryEnd = [i['willSalaryEnd'] for i in user_list]\n",
    "user_willSalaryStart = [i['willSalaryStart'] for i in user_list]"
   ]
  },
  {
   "cell_type": "code",
   "execution_count": 19,
   "id": "c4990146",
   "metadata": {
    "ExecuteTime": {
     "end_time": "2023-03-22T07:59:12.327978Z",
     "start_time": "2023-03-22T07:59:12.309979Z"
    }
   },
   "outputs": [],
   "source": [
    "user_exp = ['无经验'  if i == None else i for i in user_exp]"
   ]
  },
  {
   "cell_type": "code",
   "execution_count": 20,
   "id": "e166110e",
   "metadata": {
    "ExecuteTime": {
     "end_time": "2023-03-22T07:59:13.478144Z",
     "start_time": "2023-03-22T07:59:13.462205Z"
    }
   },
   "outputs": [],
   "source": [
    "import pymysql\n",
    "# 连接数据库\n",
    "conn = pymysql.connect(host='localhost',\n",
    "                      port=3306,\n",
    "                      database='tipdm_cup',\n",
    "                      user='root',\n",
    "                      passwd='123456')"
   ]
  },
  {
   "cell_type": "code",
   "execution_count": 21,
   "id": "295201ab",
   "metadata": {
    "ExecuteTime": {
     "end_time": "2023-03-22T07:59:23.971220Z",
     "start_time": "2023-03-22T07:59:23.965210Z"
    }
   },
   "outputs": [],
   "source": [
    "# 创建游标\n",
    "cursor = conn.cursor()"
   ]
  },
  {
   "cell_type": "code",
   "execution_count": 22,
   "id": "317b4ad0",
   "metadata": {
    "ExecuteTime": {
     "end_time": "2023-03-22T07:59:24.435987Z",
     "start_time": "2023-03-22T07:59:24.405842Z"
    }
   },
   "outputs": [],
   "source": [
    "job_sql = \"insert into user_1(user_id, user_name, user_exp, user_expectPosition, user_willSalaryEnd, user_willSalaryStart) Values\" + \",\".join([str(i) for i in list(zip(user_id, user_name, user_exp, user_expectPosition, user_willSalaryEnd, user_willSalaryStart))])"
   ]
  },
  {
   "cell_type": "code",
   "execution_count": 23,
   "id": "eb02ba0d",
   "metadata": {
    "ExecuteTime": {
     "end_time": "2023-03-22T07:59:25.262510Z",
     "start_time": "2023-03-22T07:59:25.143022Z"
    }
   },
   "outputs": [
    {
     "data": {
      "text/plain": [
       "10911"
      ]
     },
     "execution_count": 23,
     "metadata": {},
     "output_type": "execute_result"
    }
   ],
   "source": [
    "cursor.execute(job_sql)"
   ]
  },
  {
   "cell_type": "code",
   "execution_count": 24,
   "id": "c901dbb8",
   "metadata": {
    "ExecuteTime": {
     "end_time": "2023-03-22T07:59:25.811104Z",
     "start_time": "2023-03-22T07:59:25.800106Z"
    }
   },
   "outputs": [],
   "source": [
    "conn.commit()\n",
    "cursor.close()\n",
    "conn.close()"
   ]
  },
  {
   "cell_type": "markdown",
   "id": "bbd0d1d1",
   "metadata": {},
   "source": [
    "## 将求职二级标签任务加入到Redis数据库中"
   ]
  },
  {
   "cell_type": "code",
   "execution_count": 25,
   "id": "2a9eff32",
   "metadata": {
    "ExecuteTime": {
     "end_time": "2023-03-22T08:00:57.134472Z",
     "start_time": "2023-03-22T08:00:57.118442Z"
    }
   },
   "outputs": [],
   "source": [
    "# 连接Redis数据库\n",
    "redis_conn = redis.Redis(host=\"192.168.128.128\", port=6379, password=\"minglog\")"
   ]
  },
  {
   "cell_type": "code",
   "execution_count": 26,
   "id": "19719dd0",
   "metadata": {
    "ExecuteTime": {
     "end_time": "2023-03-22T08:05:51.183711Z",
     "start_time": "2023-03-22T08:05:51.142588Z"
    }
   },
   "outputs": [
    {
     "data": {
      "text/plain": [
       "0"
      ]
     },
     "execution_count": 26,
     "metadata": {},
     "output_type": "execute_result"
    }
   ],
   "source": [
    "# 可以放入服务器的Redis数据库中\n",
    "redis_conn.sadd('all_user_list', *user_id)"
   ]
  },
  {
   "cell_type": "code",
   "execution_count": 27,
   "id": "8089be47",
   "metadata": {
    "ExecuteTime": {
     "end_time": "2023-03-22T08:01:09.738793Z",
     "start_time": "2023-03-22T08:01:09.733793Z"
    }
   },
   "outputs": [],
   "source": [
    "redis_conn.close()"
   ]
  }
 ],
 "metadata": {
  "kernelspec": {
   "display_name": "spider2",
   "language": "python",
   "name": "spider2"
  },
  "language_info": {
   "codemirror_mode": {
    "name": "ipython",
    "version": 3
   },
   "file_extension": ".py",
   "mimetype": "text/x-python",
   "name": "python",
   "nbconvert_exporter": "python",
   "pygments_lexer": "ipython3",
   "version": "3.8.13"
  },
  "toc": {
   "base_numbering": 1,
   "nav_menu": {},
   "number_sections": true,
   "sideBar": true,
   "skip_h1_title": false,
   "title_cell": "Table of Contents",
   "title_sidebar": "Contents",
   "toc_cell": false,
   "toc_position": {
    "height": "calc(100% - 180px)",
    "left": "10px",
    "top": "150px",
    "width": "368.438px"
   },
   "toc_section_display": true,
   "toc_window_display": true
  },
  "varInspector": {
   "cols": {
    "lenName": 16,
    "lenType": 16,
    "lenVar": 40
   },
   "kernels_config": {
    "python": {
     "delete_cmd_postfix": "",
     "delete_cmd_prefix": "del ",
     "library": "var_list.py",
     "varRefreshCmd": "print(var_dic_list())"
    },
    "r": {
     "delete_cmd_postfix": ") ",
     "delete_cmd_prefix": "rm(",
     "library": "var_list.r",
     "varRefreshCmd": "cat(var_dic_list()) "
    }
   },
   "position": {
    "height": "484.844px",
    "left": "1550px",
    "right": "20px",
    "top": "118px",
    "width": "350px"
   },
   "types_to_exclude": [
    "module",
    "function",
    "builtin_function_or_method",
    "instance",
    "_Feature"
   ],
   "window_display": false
  }
 },
 "nbformat": 4,
 "nbformat_minor": 5
}
