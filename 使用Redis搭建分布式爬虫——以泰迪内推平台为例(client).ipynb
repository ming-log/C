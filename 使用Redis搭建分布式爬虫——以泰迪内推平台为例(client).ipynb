{
 "cells": [
  {
   "cell_type": "markdown",
   "id": "8a52835c",
   "metadata": {},
   "source": [
    "该脚本作用：获取Redis数据库中的任务并将其实现"
   ]
  },
  {
   "cell_type": "code",
   "execution_count": 20,
   "id": "5953b993",
   "metadata": {
    "ExecuteTime": {
     "end_time": "2023-03-22T09:57:34.538309Z",
     "start_time": "2023-03-22T09:57:34.523309Z"
    },
    "vscode": {
     "languageId": "python"
    }
   },
   "outputs": [
    {
     "name": "stdout",
     "output_type": "stream",
     "text": [
      "主机名： DESKTOP-M5MISQV\n",
      "IP： 192.168.1.9\n",
      "Windows平台： Windows\n"
     ]
    }
   ],
   "source": [
    "# 获取电脑信息\n",
    "import uuid\n",
    "import socket\n",
    "import platform\n",
    "\n",
    "mac = uuid.UUID(int=uuid.getnode() ).hex[-12:]\n",
    "\n",
    "##################查看用户主机名和IP地址\n",
    "# 获取主机名\n",
    "hostname = socket.gethostname()\n",
    "# 获取IP\n",
    "ip = socket.gethostbyname(hostname)\n",
    " \n",
    "print(\"主机名：\", hostname)\n",
    "print(\"IP：\", ip)\n",
    "\n",
    "################查看用户电脑系统类型\n",
    "system_type = platform.system()\n",
    "print(\"Windows平台：\", system_type)"
   ]
  },
  {
   "cell_type": "code",
   "execution_count": 21,
   "id": "78d13196",
   "metadata": {
    "ExecuteTime": {
     "end_time": "2023-03-22T09:00:58.440764Z",
     "start_time": "2023-03-22T09:00:58.346535Z"
    },
    "vscode": {
     "languageId": "python"
    }
   },
   "outputs": [],
   "source": [
    "import redis\n",
    "import requests"
   ]
  },
  {
   "cell_type": "code",
   "execution_count": 22,
   "id": "b5d6f488",
   "metadata": {
    "ExecuteTime": {
     "end_time": "2023-03-22T08:04:31.909549Z",
     "start_time": "2023-03-22T08:04:31.895550Z"
    },
    "vscode": {
     "languageId": "python"
    }
   },
   "outputs": [],
   "source": [
    "# 连接Redis数据库\n",
    "redis_conn = redis.Redis(host=\"192.168.128.128\", port=6379, password=\"minglog\")"
   ]
  },
  {
   "cell_type": "markdown",
   "id": "c7fd1841",
   "metadata": {},
   "source": [
    "# 岗位信息任务"
   ]
  },
  {
   "cell_type": "markdown",
   "id": "23f94c24",
   "metadata": {},
   "source": [
    "## 获取任务"
   ]
  },
  {
   "cell_type": "code",
   "execution_count": 23,
   "id": "5c2a9cfe",
   "metadata": {
    "vscode": {
     "languageId": "python"
    }
   },
   "outputs": [],
   "source": [
    "job_id = redis_conn.spop('all_job_list').decode() "
   ]
  },
  {
   "cell_type": "code",
   "execution_count": 24,
   "id": "a90992c8",
   "metadata": {
    "ExecuteTime": {
     "end_time": "2023-03-22T08:08:25.748331Z",
     "start_time": "2023-03-22T08:08:25.743331Z"
    },
    "vscode": {
     "languageId": "python"
    }
   },
   "outputs": [
    {
     "name": "stdout",
     "output_type": "stream",
     "text": [
      "1482183448503386112\n"
     ]
    }
   ],
   "source": [
    "print(job_id)"
   ]
  },
  {
   "cell_type": "markdown",
   "id": "edcf0c50",
   "metadata": {},
   "source": [
    "## 获取数据"
   ]
  },
  {
   "cell_type": "code",
   "execution_count": 25,
   "id": "24476685",
   "metadata": {
    "ExecuteTime": {
     "end_time": "2023-03-22T09:00:48.529830Z",
     "start_time": "2023-03-22T09:00:48.523821Z"
    },
    "vscode": {
     "languageId": "python"
    }
   },
   "outputs": [],
   "source": [
    "# 二级页面API\n",
    "job_secondPage_api = 'https://www.5iai.com/api/enterprise/job/public'"
   ]
  },
  {
   "cell_type": "code",
   "execution_count": 26,
   "id": "1e46e087",
   "metadata": {
    "ExecuteTime": {
     "end_time": "2023-03-22T09:01:11.134144Z",
     "start_time": "2023-03-22T09:01:11.123212Z"
    },
    "vscode": {
     "languageId": "python"
    }
   },
   "outputs": [],
   "source": [
    "job_secondPage_params = {\n",
    "    'id': job_id\n",
    "}"
   ]
  },
  {
   "cell_type": "code",
   "execution_count": 27,
   "id": "0a9de39f",
   "metadata": {
    "ExecuteTime": {
     "end_time": "2023-03-22T09:01:21.232120Z",
     "start_time": "2023-03-22T09:01:20.864709Z"
    },
    "vscode": {
     "languageId": "python"
    }
   },
   "outputs": [],
   "source": [
    "job_secondPage_response = requests.get(job_secondPage_api, params=job_secondPage_params)"
   ]
  },
  {
   "cell_type": "code",
   "execution_count": 28,
   "id": "470c9686",
   "metadata": {
    "ExecuteTime": {
     "end_time": "2023-03-22T09:01:35.512725Z",
     "start_time": "2023-03-22T09:01:35.505726Z"
    },
    "vscode": {
     "languageId": "python"
    }
   },
   "outputs": [],
   "source": [
    "job_secondPage_dict = job_secondPage_response.json()\n",
    "if 'data' in job_secondPage_dict.keys():\n",
    "    # 获取岗位技能\n",
    "    job_skillsList = ','.join([i['labelName'] for i in job_secondPage_dict['data']['skillsList']])\n",
    "    # 获取工作地点\n",
    "    job_address = job_secondPage_dict['data']['enterpriseAddress']['detailedAddress']\n",
    "    # 获取岗位职责\n",
    "    job_Requiredments = job_secondPage_dict['data']['jobRequiredments']\n",
    "else:\n",
    "    # 如果没有岗位详细信息，即二级页面为空\n",
    "    job_skillsList = ''\n",
    "    job_address = ''\n",
    "    job_Requiredments = ''"
   ]
  },
  {
   "cell_type": "markdown",
   "id": "9ff48753",
   "metadata": {},
   "source": [
    "## 存储到数据库中"
   ]
  },
  {
   "cell_type": "code",
   "execution_count": 29,
   "id": "9cedc854",
   "metadata": {
    "ExecuteTime": {
     "end_time": "2023-03-22T09:05:18.389218Z",
     "start_time": "2023-03-22T09:05:18.331610Z"
    },
    "vscode": {
     "languageId": "python"
    }
   },
   "outputs": [],
   "source": [
    "import pymysql\n",
    "# 连接数据库\n",
    "conn = pymysql.connect(host='localhost',\n",
    "                      port=3306,\n",
    "                      database='tipdm_cup',\n",
    "                      user='root',\n",
    "                      passwd='123456')\n",
    "# 创建游标\n",
    "cursor = conn.cursor()"
   ]
  },
  {
   "cell_type": "code",
   "execution_count": 30,
   "id": "c9da6dae",
   "metadata": {
    "ExecuteTime": {
     "end_time": "2023-03-22T09:13:57.962787Z",
     "start_time": "2023-03-22T09:13:57.946163Z"
    },
    "vscode": {
     "languageId": "python"
    }
   },
   "outputs": [],
   "source": [
    "job_sql =  \"update job_1 set job_skillsList='%s', job_address='%s', job_Requiredments='%s' where job_id='%s';\" % (job_skillsList, job_address, job_Requiredments, job_id)"
   ]
  },
  {
   "cell_type": "code",
   "execution_count": 31,
   "id": "6b2856d5",
   "metadata": {
    "ExecuteTime": {
     "end_time": "2023-03-22T09:13:58.275113Z",
     "start_time": "2023-03-22T09:13:58.266198Z"
    },
    "vscode": {
     "languageId": "python"
    }
   },
   "outputs": [
    {
     "data": {
      "text/plain": [
       "1"
      ]
     },
     "execution_count": 31,
     "metadata": {},
     "output_type": "execute_result"
    }
   ],
   "source": [
    "cursor.execute(job_sql)"
   ]
  },
  {
   "cell_type": "code",
   "execution_count": 32,
   "id": "f87a3f55",
   "metadata": {
    "ExecuteTime": {
     "end_time": "2023-03-22T09:15:07.559397Z",
     "start_time": "2023-03-22T09:15:07.547399Z"
    },
    "vscode": {
     "languageId": "python"
    }
   },
   "outputs": [],
   "source": [
    "conn.commit()"
   ]
  },
  {
   "cell_type": "markdown",
   "id": "942abe59",
   "metadata": {},
   "source": [
    "## 写成函数"
   ]
  },
  {
   "cell_type": "code",
   "execution_count": 5,
   "id": "52c2ffb8",
   "metadata": {
    "ExecuteTime": {
     "end_time": "2023-03-23T06:02:19.262345Z",
     "start_time": "2023-03-23T06:02:19.164914Z"
    },
    "vscode": {
     "languageId": "python"
    }
   },
   "outputs": [],
   "source": [
    "import redis\n",
    "import requests\n",
    "import pymysql\n",
    "import uuid\n",
    "import socket\n",
    "import platform"
   ]
  },
  {
   "cell_type": "code",
   "execution_count": 34,
   "id": "96ccde19",
   "metadata": {
    "vscode": {
     "languageId": "python"
    }
   },
   "outputs": [],
   "source": [
    "def get_job_info():\n",
    "    n = 1\n",
    "    # 连接Redis数据库\n",
    "    redis_conn = redis.Redis(host=\"192.168.128.128\", port=6379, password=\"minglog\")\n",
    "    # 连接数据库\n",
    "    conn = pymysql.connect(host='localhost',\n",
    "                          port=3306,\n",
    "                          database='tipdm_cup',\n",
    "                          user='root',\n",
    "                          passwd='123456')\n",
    "    # 创建游标\n",
    "    cursor = conn.cursor()\n",
    "    # 获取相关设备信息\n",
    "    mac = uuid.UUID(int=uuid.getnode() ).hex[-12:]\n",
    "    # 获取主机名\n",
    "    hostname = socket.gethostname()\n",
    "    # 获取IP\n",
    "    ip = socket.gethostbyname(hostname)\n",
    "    # 系统版本\n",
    "    system_type = platform.system()\n",
    "    while True:\n",
    "        if redis_conn.scard('all_job_list') != 0:\n",
    "            # 获取任务\n",
    "            job_id = redis_conn.spop('all_job_list').decode()\n",
    "            print(f\"IP: {ip}, MAC:{mac}[{system_type}]:JobID{n}-{job_id}\")\n",
    "            # 二级页面API\n",
    "            job_secondPage_api = 'https://www.5iai.com/api/enterprise/job/public'\n",
    "            # 二级页面参数\n",
    "            job_secondPage_params = {\n",
    "            'id': job_id\n",
    "            }\n",
    "            # 获取二级页面响应\n",
    "            job_secondPage_response = requests.get(job_secondPage_api, params=job_secondPage_params)\n",
    "            job_secondPage_dict = job_secondPage_response.json()\n",
    "            # 解析二级页面响应\n",
    "            if 'data' in job_secondPage_dict.keys():\n",
    "                # 获取岗位技能\n",
    "                job_skillsList = ','.join([i['labelName'] for i in job_secondPage_dict['data']['skillsList']])\n",
    "                # 获取工作地点\n",
    "                job_address = job_secondPage_dict['data']['enterpriseAddress']['detailedAddress']\n",
    "                # 获取岗位职责\n",
    "                job_Requiredments = job_secondPage_dict['data']['jobRequiredments']\n",
    "            else:\n",
    "                # 如果没有岗位详细信息，即二级页面为空\n",
    "                job_skillsList = ''\n",
    "                job_address = ''\n",
    "                job_Requiredments = ''\n",
    "            # 生成sql命令\n",
    "            job_sql =  \"update job_1 set job_skillsList='%s', job_address='%s', job_Requiredments='%s' where job_id='%s';\" % (job_skillsList, job_address, job_Requiredments, job_id)\n",
    "            # 运行sql命令\n",
    "            cursor.execute(job_sql)\n",
    "            # 提交sql命令\n",
    "            conn.commit()\n",
    "        else:\n",
    "            # 关闭redis连接\n",
    "            redis_conn.close()\n",
    "            # 关闭mysql连接\n",
    "            cursor.close()\n",
    "            conn.close()\n",
    "            break\n",
    "    n += 1"
   ]
  },
  {
   "cell_type": "code",
   "execution_count": null,
   "id": "590b5c84",
   "metadata": {},
   "outputs": [],
   "source": [
    "get_job_info()"
   ]
  },
  {
   "cell_type": "markdown",
   "id": "0ba23890",
   "metadata": {},
   "source": [
    "# 求职信息任务"
   ]
  },
  {
   "cell_type": "code",
   "execution_count": 6,
   "id": "63ec15b6",
   "metadata": {
    "ExecuteTime": {
     "end_time": "2023-03-23T06:02:25.740957Z",
     "start_time": "2023-03-23T06:02:25.732916Z"
    },
    "vscode": {
     "languageId": "python"
    }
   },
   "outputs": [],
   "source": [
    "import redis\n",
    "import requests\n",
    "import pymysql\n",
    "import uuid\n",
    "import socket\n",
    "import platform"
   ]
  },
  {
   "cell_type": "code",
   "execution_count": 10,
   "id": "8b570df7",
   "metadata": {
    "ExecuteTime": {
     "end_time": "2023-03-23T06:04:53.931147Z",
     "start_time": "2023-03-23T06:04:53.918190Z"
    },
    "vscode": {
     "languageId": "python"
    }
   },
   "outputs": [],
   "source": [
    "def get_user_info():\n",
    "    n = 1\n",
    "    # 连接Redis数据库\n",
    "    redis_conn = redis.Redis(host=\"192.168.128.128\", port=6379, password=\"minglog\")\n",
    "    # 连接数据库\n",
    "    conn = pymysql.connect(host='192.168.0.162',\n",
    "                          port=3306,\n",
    "                          database='tipdm_cup',\n",
    "                          user='root',\n",
    "                          passwd='123456')\n",
    "    # 创建游标\n",
    "    cursor = conn.cursor()\n",
    "    # 获取相关设备信息\n",
    "    mac = uuid.UUID(int=uuid.getnode() ).hex[-12:]\n",
    "    # 获取主机名\n",
    "    hostname = socket.gethostname()\n",
    "    # 获取IP\n",
    "    ip = socket.gethostbyname(hostname)\n",
    "    # 系统版本\n",
    "    system_type = platform.system()\n",
    "    while True:\n",
    "        if redis_conn.scard('all_user_list') != 0:\n",
    "            # 获取任务\n",
    "            user_id = redis_conn.spop('all_user_list').decode()\n",
    "            print(f\"IP: {ip}, MAC:{mac}[{system_type}]:JobID{n}-{user_id}\")\n",
    "            # 二级页面URL\n",
    "            user_url = 'https://www.5iai.com/api/resume/baseInfo/public/' + user_id\n",
    "            # 二级页面响应\n",
    "            user_Secoond_response = requests.get(user_url)\n",
    "            user_Secoond_dict = user_Secoond_response.json()\n",
    "            # 解析二级页面响应\n",
    "            if 'data' in user_Secoond_dict.keys():\n",
    "                # 获取学历信息\n",
    "                user_educationExperienceList = ','.join([i['school']+'_'+i['speciality']+'_'+i['educationalBackground']for i in user_Secoond_dict['data']['educationExperienceList']])\n",
    "                # 获取预期工作地点\n",
    "                user_city = user_Secoond_dict['data']['city']\n",
    "                # 获取知识储备/技能\n",
    "                user_skillList = ','.join([i['name']+'_'+i['level'] for i in user_Secoond_dict['data']['skillList']])\n",
    "                # 获取工作经历\n",
    "                user_workExperienceList = ','.join([i['company'] + '_' + i['positionName'] for i in user_Secoond_dict['data']['workExperienceList']])\n",
    "                # 获取项目经历\n",
    "                user_projectExperienceList = ','.join([i['roleName'] for i in user_Secoond_dict['data']['projectExperienceList']])\n",
    "                # 获取竞赛经历\n",
    "                user_competitionExperienceList = ','.join([i['name']+'_'+i['level'] for i in user_Secoond_dict['data']['competitionExperienceList']])\n",
    "                # 获取证书情况\n",
    "                user_certList = ','.join([i['name'] for i in user_Secoond_dict['data']['certList']])\n",
    "                # 获取电子版简历上传情况\n",
    "                user_attachmentList = ','.join([i['name']+'_'+i['file'] for i in user_Secoond_dict['data']['attachmentList']])\n",
    "            else:\n",
    "                # 如果没有岗位详细信息，即二级页面为空\n",
    "                user_educationExperienceList = ''\n",
    "                user_city = ''\n",
    "                user_skillList = ''\n",
    "                user_workExperienceList = \"\"\n",
    "                user_projectExperienceList = \"\"\n",
    "                user_competitionExperienceList = \"\"\n",
    "                user_certList = \"\"\n",
    "                user_attachmentList = \"\"\n",
    "            # 生成sql命令\n",
    "            user_sql =  \"update user_1 set user_educationExperienceList='%s', user_city='%s', user_skillList='%s', user_workExperienceList='%s', user_projectExperienceList='%s', user_competitionExperienceList='%s', user_certList='%s', user_attachmentList='%s' where user_id='%s';\" % (user_educationExperienceList, user_city, user_skillList, user_workExperienceList, user_projectExperienceList, user_competitionExperienceList, user_certList, user_attachmentList, user_id)\n",
    "            # 运行sql命令\n",
    "            cursor.execute(user_sql)\n",
    "            # 提交sql命令\n",
    "            conn.commit()\n",
    "        else:\n",
    "            # 关闭redis连接\n",
    "            redis_conn.close()\n",
    "            # 关闭mysql连接\n",
    "            cursor.close()\n",
    "            conn.close()\n",
    "            break\n",
    "    n += 1"
   ]
  },
  {
   "cell_type": "code",
   "execution_count": 11,
   "id": "91ca1e1d",
   "metadata": {
    "ExecuteTime": {
     "end_time": "2023-03-23T06:05:00.527334Z",
     "start_time": "2023-03-23T06:04:55.244946Z"
    }
   },
   "outputs": [
    {
     "name": "stdout",
     "output_type": "stream",
     "text": [
      "IP: 192.168.0.162, MAC:386893b5e766[Windows]:JobID-7536606235520069140\n",
      "IP: 192.168.0.162, MAC:386893b5e766[Windows]:JobID-7535661858111024660\n",
      "IP: 192.168.0.162, MAC:386893b5e766[Windows]:JobID-7532142072282410516\n",
      "IP: 192.168.0.162, MAC:386893b5e766[Windows]:JobID-7532442509539733012\n",
      "IP: 192.168.0.162, MAC:386893b5e766[Windows]:JobID-7539568513118826004\n",
      "IP: 192.168.0.162, MAC:386893b5e766[Windows]:JobID-7533901823462796820\n",
      "IP: 192.168.0.162, MAC:386893b5e766[Windows]:JobID-7535061421683043860\n",
      "IP: 192.168.0.162, MAC:386893b5e766[Windows]:JobID-7534160049781534228\n",
      "IP: 192.168.0.162, MAC:386893b5e766[Windows]:JobID-7539267667839610388\n",
      "IP: 192.168.0.162, MAC:386893b5e766[Windows]:JobID-7533558397877808660\n",
      "IP: 192.168.0.162, MAC:386893b5e766[Windows]:JobID-7534545797974257172\n",
      "IP: 192.168.0.162, MAC:386893b5e766[Windows]:JobID-7534117074338770452\n",
      "IP: 192.168.0.162, MAC:386893b5e766[Windows]:JobID-7534288336159698452\n",
      "IP: 192.168.0.162, MAC:386893b5e766[Windows]:JobID-7539482171391274516\n",
      "IP: 192.168.0.162, MAC:386893b5e766[Windows]:JobID-7536434561382280724\n",
      "IP: 192.168.0.162, MAC:386893b5e766[Windows]:JobID-7538366098369605140\n",
      "IP: 192.168.0.162, MAC:386893b5e766[Windows]:JobID-7537292923481288212\n",
      "IP: 192.168.0.162, MAC:386893b5e766[Windows]:JobID-7532957308614798868\n",
      "IP: 192.168.0.162, MAC:386893b5e766[Windows]:JobID-7537636374836080148\n",
      "IP: 192.168.0.162, MAC:386893b5e766[Windows]:JobID-7537379372583022100\n",
      "IP: 192.168.0.162, MAC:386893b5e766[Windows]:JobID-7533086127568907796\n",
      "IP: 192.168.0.162, MAC:386893b5e766[Windows]:JobID-7536520318994279956\n",
      "IP: 192.168.0.162, MAC:386893b5e766[Windows]:JobID-7532699868275076628\n",
      "IP: 192.168.0.162, MAC:386893b5e766[Windows]:JobID-7532141879008882196\n",
      "IP: 192.168.0.162, MAC:386893b5e766[Windows]:JobID-7536005172026863124\n",
      "IP: 192.168.0.162, MAC:386893b5e766[Windows]:JobID-7535704726179606036\n"
     ]
    },
    {
     "ename": "KeyboardInterrupt",
     "evalue": "",
     "output_type": "error",
     "traceback": [
      "\u001b[1;31m---------------------------------------------------------------------------\u001b[0m",
      "\u001b[1;31mKeyboardInterrupt\u001b[0m                         Traceback (most recent call last)",
      "Input \u001b[1;32mIn [11]\u001b[0m, in \u001b[0;36m<cell line: 1>\u001b[1;34m()\u001b[0m\n\u001b[1;32m----> 1\u001b[0m \u001b[43mget_user_info\u001b[49m\u001b[43m(\u001b[49m\u001b[43m)\u001b[49m\n",
      "Input \u001b[1;32mIn [10]\u001b[0m, in \u001b[0;36mget_user_info\u001b[1;34m()\u001b[0m\n\u001b[0;32m     26\u001b[0m user_url \u001b[38;5;241m=\u001b[39m \u001b[38;5;124m'\u001b[39m\u001b[38;5;124mhttps://www.5iai.com/api/resume/baseInfo/public/\u001b[39m\u001b[38;5;124m'\u001b[39m \u001b[38;5;241m+\u001b[39m user_id\n\u001b[0;32m     27\u001b[0m \u001b[38;5;66;03m# 二级页面响应\u001b[39;00m\n\u001b[1;32m---> 28\u001b[0m user_Secoond_response \u001b[38;5;241m=\u001b[39m \u001b[43mrequests\u001b[49m\u001b[38;5;241;43m.\u001b[39;49m\u001b[43mget\u001b[49m\u001b[43m(\u001b[49m\u001b[43muser_url\u001b[49m\u001b[43m)\u001b[49m\n\u001b[0;32m     29\u001b[0m user_Secoond_dict \u001b[38;5;241m=\u001b[39m user_Secoond_response\u001b[38;5;241m.\u001b[39mjson()\n\u001b[0;32m     30\u001b[0m \u001b[38;5;66;03m# 解析二级页面响应\u001b[39;00m\n",
      "File \u001b[1;32mD:\\Users\\Python\\Anaconda3.8\\envs\\spider2\\lib\\site-packages\\requests\\api.py:75\u001b[0m, in \u001b[0;36mget\u001b[1;34m(url, params, **kwargs)\u001b[0m\n\u001b[0;32m     64\u001b[0m \u001b[38;5;28;01mdef\u001b[39;00m \u001b[38;5;21mget\u001b[39m(url, params\u001b[38;5;241m=\u001b[39m\u001b[38;5;28;01mNone\u001b[39;00m, \u001b[38;5;241m*\u001b[39m\u001b[38;5;241m*\u001b[39mkwargs):\n\u001b[0;32m     65\u001b[0m     \u001b[38;5;124mr\u001b[39m\u001b[38;5;124;03m\"\"\"Sends a GET request.\u001b[39;00m\n\u001b[0;32m     66\u001b[0m \n\u001b[0;32m     67\u001b[0m \u001b[38;5;124;03m    :param url: URL for the new :class:`Request` object.\u001b[39;00m\n\u001b[1;32m   (...)\u001b[0m\n\u001b[0;32m     72\u001b[0m \u001b[38;5;124;03m    :rtype: requests.Response\u001b[39;00m\n\u001b[0;32m     73\u001b[0m \u001b[38;5;124;03m    \"\"\"\u001b[39;00m\n\u001b[1;32m---> 75\u001b[0m     \u001b[38;5;28;01mreturn\u001b[39;00m \u001b[43mrequest\u001b[49m\u001b[43m(\u001b[49m\u001b[38;5;124;43m'\u001b[39;49m\u001b[38;5;124;43mget\u001b[39;49m\u001b[38;5;124;43m'\u001b[39;49m\u001b[43m,\u001b[49m\u001b[43m \u001b[49m\u001b[43murl\u001b[49m\u001b[43m,\u001b[49m\u001b[43m \u001b[49m\u001b[43mparams\u001b[49m\u001b[38;5;241;43m=\u001b[39;49m\u001b[43mparams\u001b[49m\u001b[43m,\u001b[49m\u001b[43m \u001b[49m\u001b[38;5;241;43m*\u001b[39;49m\u001b[38;5;241;43m*\u001b[39;49m\u001b[43mkwargs\u001b[49m\u001b[43m)\u001b[49m\n",
      "File \u001b[1;32mD:\\Users\\Python\\Anaconda3.8\\envs\\spider2\\lib\\site-packages\\requests\\api.py:61\u001b[0m, in \u001b[0;36mrequest\u001b[1;34m(method, url, **kwargs)\u001b[0m\n\u001b[0;32m     57\u001b[0m \u001b[38;5;66;03m# By using the 'with' statement we are sure the session is closed, thus we\u001b[39;00m\n\u001b[0;32m     58\u001b[0m \u001b[38;5;66;03m# avoid leaving sockets open which can trigger a ResourceWarning in some\u001b[39;00m\n\u001b[0;32m     59\u001b[0m \u001b[38;5;66;03m# cases, and look like a memory leak in others.\u001b[39;00m\n\u001b[0;32m     60\u001b[0m \u001b[38;5;28;01mwith\u001b[39;00m sessions\u001b[38;5;241m.\u001b[39mSession() \u001b[38;5;28;01mas\u001b[39;00m session:\n\u001b[1;32m---> 61\u001b[0m     \u001b[38;5;28;01mreturn\u001b[39;00m \u001b[43msession\u001b[49m\u001b[38;5;241;43m.\u001b[39;49m\u001b[43mrequest\u001b[49m\u001b[43m(\u001b[49m\u001b[43mmethod\u001b[49m\u001b[38;5;241;43m=\u001b[39;49m\u001b[43mmethod\u001b[49m\u001b[43m,\u001b[49m\u001b[43m \u001b[49m\u001b[43murl\u001b[49m\u001b[38;5;241;43m=\u001b[39;49m\u001b[43murl\u001b[49m\u001b[43m,\u001b[49m\u001b[43m \u001b[49m\u001b[38;5;241;43m*\u001b[39;49m\u001b[38;5;241;43m*\u001b[39;49m\u001b[43mkwargs\u001b[49m\u001b[43m)\u001b[49m\n",
      "File \u001b[1;32mD:\\Users\\Python\\Anaconda3.8\\envs\\spider2\\lib\\site-packages\\requests\\sessions.py:529\u001b[0m, in \u001b[0;36mSession.request\u001b[1;34m(self, method, url, params, data, headers, cookies, files, auth, timeout, allow_redirects, proxies, hooks, stream, verify, cert, json)\u001b[0m\n\u001b[0;32m    524\u001b[0m send_kwargs \u001b[38;5;241m=\u001b[39m {\n\u001b[0;32m    525\u001b[0m     \u001b[38;5;124m'\u001b[39m\u001b[38;5;124mtimeout\u001b[39m\u001b[38;5;124m'\u001b[39m: timeout,\n\u001b[0;32m    526\u001b[0m     \u001b[38;5;124m'\u001b[39m\u001b[38;5;124mallow_redirects\u001b[39m\u001b[38;5;124m'\u001b[39m: allow_redirects,\n\u001b[0;32m    527\u001b[0m }\n\u001b[0;32m    528\u001b[0m send_kwargs\u001b[38;5;241m.\u001b[39mupdate(settings)\n\u001b[1;32m--> 529\u001b[0m resp \u001b[38;5;241m=\u001b[39m \u001b[38;5;28;43mself\u001b[39;49m\u001b[38;5;241;43m.\u001b[39;49m\u001b[43msend\u001b[49m\u001b[43m(\u001b[49m\u001b[43mprep\u001b[49m\u001b[43m,\u001b[49m\u001b[43m \u001b[49m\u001b[38;5;241;43m*\u001b[39;49m\u001b[38;5;241;43m*\u001b[39;49m\u001b[43msend_kwargs\u001b[49m\u001b[43m)\u001b[49m\n\u001b[0;32m    531\u001b[0m \u001b[38;5;28;01mreturn\u001b[39;00m resp\n",
      "File \u001b[1;32mD:\\Users\\Python\\Anaconda3.8\\envs\\spider2\\lib\\site-packages\\requests\\sessions.py:645\u001b[0m, in \u001b[0;36mSession.send\u001b[1;34m(self, request, **kwargs)\u001b[0m\n\u001b[0;32m    642\u001b[0m start \u001b[38;5;241m=\u001b[39m preferred_clock()\n\u001b[0;32m    644\u001b[0m \u001b[38;5;66;03m# Send the request\u001b[39;00m\n\u001b[1;32m--> 645\u001b[0m r \u001b[38;5;241m=\u001b[39m \u001b[43madapter\u001b[49m\u001b[38;5;241;43m.\u001b[39;49m\u001b[43msend\u001b[49m\u001b[43m(\u001b[49m\u001b[43mrequest\u001b[49m\u001b[43m,\u001b[49m\u001b[43m \u001b[49m\u001b[38;5;241;43m*\u001b[39;49m\u001b[38;5;241;43m*\u001b[39;49m\u001b[43mkwargs\u001b[49m\u001b[43m)\u001b[49m\n\u001b[0;32m    647\u001b[0m \u001b[38;5;66;03m# Total elapsed time of the request (approximately)\u001b[39;00m\n\u001b[0;32m    648\u001b[0m elapsed \u001b[38;5;241m=\u001b[39m preferred_clock() \u001b[38;5;241m-\u001b[39m start\n",
      "File \u001b[1;32mD:\\Users\\Python\\Anaconda3.8\\envs\\spider2\\lib\\site-packages\\requests\\adapters.py:440\u001b[0m, in \u001b[0;36mHTTPAdapter.send\u001b[1;34m(self, request, stream, timeout, verify, cert, proxies)\u001b[0m\n\u001b[0;32m    438\u001b[0m \u001b[38;5;28;01mtry\u001b[39;00m:\n\u001b[0;32m    439\u001b[0m     \u001b[38;5;28;01mif\u001b[39;00m \u001b[38;5;129;01mnot\u001b[39;00m chunked:\n\u001b[1;32m--> 440\u001b[0m         resp \u001b[38;5;241m=\u001b[39m \u001b[43mconn\u001b[49m\u001b[38;5;241;43m.\u001b[39;49m\u001b[43murlopen\u001b[49m\u001b[43m(\u001b[49m\n\u001b[0;32m    441\u001b[0m \u001b[43m            \u001b[49m\u001b[43mmethod\u001b[49m\u001b[38;5;241;43m=\u001b[39;49m\u001b[43mrequest\u001b[49m\u001b[38;5;241;43m.\u001b[39;49m\u001b[43mmethod\u001b[49m\u001b[43m,\u001b[49m\n\u001b[0;32m    442\u001b[0m \u001b[43m            \u001b[49m\u001b[43murl\u001b[49m\u001b[38;5;241;43m=\u001b[39;49m\u001b[43murl\u001b[49m\u001b[43m,\u001b[49m\n\u001b[0;32m    443\u001b[0m \u001b[43m            \u001b[49m\u001b[43mbody\u001b[49m\u001b[38;5;241;43m=\u001b[39;49m\u001b[43mrequest\u001b[49m\u001b[38;5;241;43m.\u001b[39;49m\u001b[43mbody\u001b[49m\u001b[43m,\u001b[49m\n\u001b[0;32m    444\u001b[0m \u001b[43m            \u001b[49m\u001b[43mheaders\u001b[49m\u001b[38;5;241;43m=\u001b[39;49m\u001b[43mrequest\u001b[49m\u001b[38;5;241;43m.\u001b[39;49m\u001b[43mheaders\u001b[49m\u001b[43m,\u001b[49m\n\u001b[0;32m    445\u001b[0m \u001b[43m            \u001b[49m\u001b[43mredirect\u001b[49m\u001b[38;5;241;43m=\u001b[39;49m\u001b[38;5;28;43;01mFalse\u001b[39;49;00m\u001b[43m,\u001b[49m\n\u001b[0;32m    446\u001b[0m \u001b[43m            \u001b[49m\u001b[43massert_same_host\u001b[49m\u001b[38;5;241;43m=\u001b[39;49m\u001b[38;5;28;43;01mFalse\u001b[39;49;00m\u001b[43m,\u001b[49m\n\u001b[0;32m    447\u001b[0m \u001b[43m            \u001b[49m\u001b[43mpreload_content\u001b[49m\u001b[38;5;241;43m=\u001b[39;49m\u001b[38;5;28;43;01mFalse\u001b[39;49;00m\u001b[43m,\u001b[49m\n\u001b[0;32m    448\u001b[0m \u001b[43m            \u001b[49m\u001b[43mdecode_content\u001b[49m\u001b[38;5;241;43m=\u001b[39;49m\u001b[38;5;28;43;01mFalse\u001b[39;49;00m\u001b[43m,\u001b[49m\n\u001b[0;32m    449\u001b[0m \u001b[43m            \u001b[49m\u001b[43mretries\u001b[49m\u001b[38;5;241;43m=\u001b[39;49m\u001b[38;5;28;43mself\u001b[39;49m\u001b[38;5;241;43m.\u001b[39;49m\u001b[43mmax_retries\u001b[49m\u001b[43m,\u001b[49m\n\u001b[0;32m    450\u001b[0m \u001b[43m            \u001b[49m\u001b[43mtimeout\u001b[49m\u001b[38;5;241;43m=\u001b[39;49m\u001b[43mtimeout\u001b[49m\n\u001b[0;32m    451\u001b[0m \u001b[43m        \u001b[49m\u001b[43m)\u001b[49m\n\u001b[0;32m    453\u001b[0m     \u001b[38;5;66;03m# Send the request.\u001b[39;00m\n\u001b[0;32m    454\u001b[0m     \u001b[38;5;28;01melse\u001b[39;00m:\n\u001b[0;32m    455\u001b[0m         \u001b[38;5;28;01mif\u001b[39;00m \u001b[38;5;28mhasattr\u001b[39m(conn, \u001b[38;5;124m'\u001b[39m\u001b[38;5;124mproxy_pool\u001b[39m\u001b[38;5;124m'\u001b[39m):\n",
      "File \u001b[1;32m~\\AppData\\Roaming\\Python\\Python38\\site-packages\\urllib3\\connectionpool.py:699\u001b[0m, in \u001b[0;36mHTTPConnectionPool.urlopen\u001b[1;34m(self, method, url, body, headers, retries, redirect, assert_same_host, timeout, pool_timeout, release_conn, chunked, body_pos, **response_kw)\u001b[0m\n\u001b[0;32m    696\u001b[0m     \u001b[38;5;28mself\u001b[39m\u001b[38;5;241m.\u001b[39m_prepare_proxy(conn)\n\u001b[0;32m    698\u001b[0m \u001b[38;5;66;03m# Make the request on the httplib connection object.\u001b[39;00m\n\u001b[1;32m--> 699\u001b[0m httplib_response \u001b[38;5;241m=\u001b[39m \u001b[38;5;28;43mself\u001b[39;49m\u001b[38;5;241;43m.\u001b[39;49m\u001b[43m_make_request\u001b[49m\u001b[43m(\u001b[49m\n\u001b[0;32m    700\u001b[0m \u001b[43m    \u001b[49m\u001b[43mconn\u001b[49m\u001b[43m,\u001b[49m\n\u001b[0;32m    701\u001b[0m \u001b[43m    \u001b[49m\u001b[43mmethod\u001b[49m\u001b[43m,\u001b[49m\n\u001b[0;32m    702\u001b[0m \u001b[43m    \u001b[49m\u001b[43murl\u001b[49m\u001b[43m,\u001b[49m\n\u001b[0;32m    703\u001b[0m \u001b[43m    \u001b[49m\u001b[43mtimeout\u001b[49m\u001b[38;5;241;43m=\u001b[39;49m\u001b[43mtimeout_obj\u001b[49m\u001b[43m,\u001b[49m\n\u001b[0;32m    704\u001b[0m \u001b[43m    \u001b[49m\u001b[43mbody\u001b[49m\u001b[38;5;241;43m=\u001b[39;49m\u001b[43mbody\u001b[49m\u001b[43m,\u001b[49m\n\u001b[0;32m    705\u001b[0m \u001b[43m    \u001b[49m\u001b[43mheaders\u001b[49m\u001b[38;5;241;43m=\u001b[39;49m\u001b[43mheaders\u001b[49m\u001b[43m,\u001b[49m\n\u001b[0;32m    706\u001b[0m \u001b[43m    \u001b[49m\u001b[43mchunked\u001b[49m\u001b[38;5;241;43m=\u001b[39;49m\u001b[43mchunked\u001b[49m\u001b[43m,\u001b[49m\n\u001b[0;32m    707\u001b[0m \u001b[43m\u001b[49m\u001b[43m)\u001b[49m\n\u001b[0;32m    709\u001b[0m \u001b[38;5;66;03m# If we're going to release the connection in ``finally:``, then\u001b[39;00m\n\u001b[0;32m    710\u001b[0m \u001b[38;5;66;03m# the response doesn't need to know about the connection. Otherwise\u001b[39;00m\n\u001b[0;32m    711\u001b[0m \u001b[38;5;66;03m# it will also try to release it and we'll have a double-release\u001b[39;00m\n\u001b[0;32m    712\u001b[0m \u001b[38;5;66;03m# mess.\u001b[39;00m\n\u001b[0;32m    713\u001b[0m response_conn \u001b[38;5;241m=\u001b[39m conn \u001b[38;5;28;01mif\u001b[39;00m \u001b[38;5;129;01mnot\u001b[39;00m release_conn \u001b[38;5;28;01melse\u001b[39;00m \u001b[38;5;28;01mNone\u001b[39;00m\n",
      "File \u001b[1;32m~\\AppData\\Roaming\\Python\\Python38\\site-packages\\urllib3\\connectionpool.py:382\u001b[0m, in \u001b[0;36mHTTPConnectionPool._make_request\u001b[1;34m(self, conn, method, url, timeout, chunked, **httplib_request_kw)\u001b[0m\n\u001b[0;32m    380\u001b[0m \u001b[38;5;66;03m# Trigger any extra validation we need to do.\u001b[39;00m\n\u001b[0;32m    381\u001b[0m \u001b[38;5;28;01mtry\u001b[39;00m:\n\u001b[1;32m--> 382\u001b[0m     \u001b[38;5;28;43mself\u001b[39;49m\u001b[38;5;241;43m.\u001b[39;49m\u001b[43m_validate_conn\u001b[49m\u001b[43m(\u001b[49m\u001b[43mconn\u001b[49m\u001b[43m)\u001b[49m\n\u001b[0;32m    383\u001b[0m \u001b[38;5;28;01mexcept\u001b[39;00m (SocketTimeout, BaseSSLError) \u001b[38;5;28;01mas\u001b[39;00m e:\n\u001b[0;32m    384\u001b[0m     \u001b[38;5;66;03m# Py2 raises this as a BaseSSLError, Py3 raises it as socket timeout.\u001b[39;00m\n\u001b[0;32m    385\u001b[0m     \u001b[38;5;28mself\u001b[39m\u001b[38;5;241m.\u001b[39m_raise_timeout(err\u001b[38;5;241m=\u001b[39me, url\u001b[38;5;241m=\u001b[39murl, timeout_value\u001b[38;5;241m=\u001b[39mconn\u001b[38;5;241m.\u001b[39mtimeout)\n",
      "File \u001b[1;32m~\\AppData\\Roaming\\Python\\Python38\\site-packages\\urllib3\\connectionpool.py:1010\u001b[0m, in \u001b[0;36mHTTPSConnectionPool._validate_conn\u001b[1;34m(self, conn)\u001b[0m\n\u001b[0;32m   1008\u001b[0m \u001b[38;5;66;03m# Force connect early to allow us to validate the connection.\u001b[39;00m\n\u001b[0;32m   1009\u001b[0m \u001b[38;5;28;01mif\u001b[39;00m \u001b[38;5;129;01mnot\u001b[39;00m \u001b[38;5;28mgetattr\u001b[39m(conn, \u001b[38;5;124m\"\u001b[39m\u001b[38;5;124msock\u001b[39m\u001b[38;5;124m\"\u001b[39m, \u001b[38;5;28;01mNone\u001b[39;00m):  \u001b[38;5;66;03m# AppEngine might not have  `.sock`\u001b[39;00m\n\u001b[1;32m-> 1010\u001b[0m     \u001b[43mconn\u001b[49m\u001b[38;5;241;43m.\u001b[39;49m\u001b[43mconnect\u001b[49m\u001b[43m(\u001b[49m\u001b[43m)\u001b[49m\n\u001b[0;32m   1012\u001b[0m \u001b[38;5;28;01mif\u001b[39;00m \u001b[38;5;129;01mnot\u001b[39;00m conn\u001b[38;5;241m.\u001b[39mis_verified:\n\u001b[0;32m   1013\u001b[0m     warnings\u001b[38;5;241m.\u001b[39mwarn(\n\u001b[0;32m   1014\u001b[0m         (\n\u001b[0;32m   1015\u001b[0m             \u001b[38;5;124m\"\u001b[39m\u001b[38;5;124mUnverified HTTPS request is being made to host \u001b[39m\u001b[38;5;124m'\u001b[39m\u001b[38;5;132;01m%s\u001b[39;00m\u001b[38;5;124m'\u001b[39m\u001b[38;5;124m. \u001b[39m\u001b[38;5;124m\"\u001b[39m\n\u001b[1;32m   (...)\u001b[0m\n\u001b[0;32m   1020\u001b[0m         InsecureRequestWarning,\n\u001b[0;32m   1021\u001b[0m     )\n",
      "File \u001b[1;32m~\\AppData\\Roaming\\Python\\Python38\\site-packages\\urllib3\\connection.py:353\u001b[0m, in \u001b[0;36mHTTPSConnection.connect\u001b[1;34m(self)\u001b[0m\n\u001b[0;32m    351\u001b[0m \u001b[38;5;28;01mdef\u001b[39;00m \u001b[38;5;21mconnect\u001b[39m(\u001b[38;5;28mself\u001b[39m):\n\u001b[0;32m    352\u001b[0m     \u001b[38;5;66;03m# Add certificate verification\u001b[39;00m\n\u001b[1;32m--> 353\u001b[0m     conn \u001b[38;5;241m=\u001b[39m \u001b[38;5;28;43mself\u001b[39;49m\u001b[38;5;241;43m.\u001b[39;49m\u001b[43m_new_conn\u001b[49m\u001b[43m(\u001b[49m\u001b[43m)\u001b[49m\n\u001b[0;32m    354\u001b[0m     hostname \u001b[38;5;241m=\u001b[39m \u001b[38;5;28mself\u001b[39m\u001b[38;5;241m.\u001b[39mhost\n\u001b[0;32m    355\u001b[0m     tls_in_tls \u001b[38;5;241m=\u001b[39m \u001b[38;5;28;01mFalse\u001b[39;00m\n",
      "File \u001b[1;32m~\\AppData\\Roaming\\Python\\Python38\\site-packages\\urllib3\\connection.py:169\u001b[0m, in \u001b[0;36mHTTPConnection._new_conn\u001b[1;34m(self)\u001b[0m\n\u001b[0;32m    166\u001b[0m     extra_kw[\u001b[38;5;124m\"\u001b[39m\u001b[38;5;124msocket_options\u001b[39m\u001b[38;5;124m\"\u001b[39m] \u001b[38;5;241m=\u001b[39m \u001b[38;5;28mself\u001b[39m\u001b[38;5;241m.\u001b[39msocket_options\n\u001b[0;32m    168\u001b[0m \u001b[38;5;28;01mtry\u001b[39;00m:\n\u001b[1;32m--> 169\u001b[0m     conn \u001b[38;5;241m=\u001b[39m \u001b[43mconnection\u001b[49m\u001b[38;5;241;43m.\u001b[39;49m\u001b[43mcreate_connection\u001b[49m\u001b[43m(\u001b[49m\n\u001b[0;32m    170\u001b[0m \u001b[43m        \u001b[49m\u001b[43m(\u001b[49m\u001b[38;5;28;43mself\u001b[39;49m\u001b[38;5;241;43m.\u001b[39;49m\u001b[43m_dns_host\u001b[49m\u001b[43m,\u001b[49m\u001b[43m \u001b[49m\u001b[38;5;28;43mself\u001b[39;49m\u001b[38;5;241;43m.\u001b[39;49m\u001b[43mport\u001b[49m\u001b[43m)\u001b[49m\u001b[43m,\u001b[49m\u001b[43m \u001b[49m\u001b[38;5;28;43mself\u001b[39;49m\u001b[38;5;241;43m.\u001b[39;49m\u001b[43mtimeout\u001b[49m\u001b[43m,\u001b[49m\u001b[43m \u001b[49m\u001b[38;5;241;43m*\u001b[39;49m\u001b[38;5;241;43m*\u001b[39;49m\u001b[43mextra_kw\u001b[49m\n\u001b[0;32m    171\u001b[0m \u001b[43m    \u001b[49m\u001b[43m)\u001b[49m\n\u001b[0;32m    173\u001b[0m \u001b[38;5;28;01mexcept\u001b[39;00m SocketTimeout:\n\u001b[0;32m    174\u001b[0m     \u001b[38;5;28;01mraise\u001b[39;00m ConnectTimeoutError(\n\u001b[0;32m    175\u001b[0m         \u001b[38;5;28mself\u001b[39m,\n\u001b[0;32m    176\u001b[0m         \u001b[38;5;124m\"\u001b[39m\u001b[38;5;124mConnection to \u001b[39m\u001b[38;5;132;01m%s\u001b[39;00m\u001b[38;5;124m timed out. (connect timeout=\u001b[39m\u001b[38;5;132;01m%s\u001b[39;00m\u001b[38;5;124m)\u001b[39m\u001b[38;5;124m\"\u001b[39m\n\u001b[0;32m    177\u001b[0m         \u001b[38;5;241m%\u001b[39m (\u001b[38;5;28mself\u001b[39m\u001b[38;5;241m.\u001b[39mhost, \u001b[38;5;28mself\u001b[39m\u001b[38;5;241m.\u001b[39mtimeout),\n\u001b[0;32m    178\u001b[0m     )\n",
      "File \u001b[1;32m~\\AppData\\Roaming\\Python\\Python38\\site-packages\\urllib3\\util\\connection.py:86\u001b[0m, in \u001b[0;36mcreate_connection\u001b[1;34m(address, timeout, source_address, socket_options)\u001b[0m\n\u001b[0;32m     84\u001b[0m     \u001b[38;5;28;01mif\u001b[39;00m source_address:\n\u001b[0;32m     85\u001b[0m         sock\u001b[38;5;241m.\u001b[39mbind(source_address)\n\u001b[1;32m---> 86\u001b[0m     \u001b[43msock\u001b[49m\u001b[38;5;241;43m.\u001b[39;49m\u001b[43mconnect\u001b[49m\u001b[43m(\u001b[49m\u001b[43msa\u001b[49m\u001b[43m)\u001b[49m\n\u001b[0;32m     87\u001b[0m     \u001b[38;5;28;01mreturn\u001b[39;00m sock\n\u001b[0;32m     89\u001b[0m \u001b[38;5;28;01mexcept\u001b[39;00m socket\u001b[38;5;241m.\u001b[39merror \u001b[38;5;28;01mas\u001b[39;00m e:\n",
      "\u001b[1;31mKeyboardInterrupt\u001b[0m: "
     ]
    }
   ],
   "source": [
    "get_user_info()"
   ]
  }
 ],
 "metadata": {
  "kernelspec": {
   "display_name": "spider2",
   "language": "python",
   "name": "spider2"
  },
  "language_info": {
   "codemirror_mode": {
    "name": "ipython",
    "version": 3
   },
   "file_extension": ".py",
   "mimetype": "text/x-python",
   "name": "python",
   "nbconvert_exporter": "python",
   "pygments_lexer": "ipython3",
   "version": "3.8.12"
  },
  "toc": {
   "base_numbering": 1,
   "nav_menu": {},
   "number_sections": true,
   "sideBar": true,
   "skip_h1_title": false,
   "title_cell": "Table of Contents",
   "title_sidebar": "Contents",
   "toc_cell": false,
   "toc_position": {
    "height": "calc(100% - 180px)",
    "left": "10px",
    "top": "150px",
    "width": "165px"
   },
   "toc_section_display": true,
   "toc_window_display": true
  },
  "varInspector": {
   "cols": {
    "lenName": 16,
    "lenType": 16,
    "lenVar": 40
   },
   "kernels_config": {
    "python": {
     "delete_cmd_postfix": "",
     "delete_cmd_prefix": "del ",
     "library": "var_list.py",
     "varRefreshCmd": "print(var_dic_list())"
    },
    "r": {
     "delete_cmd_postfix": ") ",
     "delete_cmd_prefix": "rm(",
     "library": "var_list.r",
     "varRefreshCmd": "cat(var_dic_list()) "
    }
   },
   "types_to_exclude": [
    "module",
    "function",
    "builtin_function_or_method",
    "instance",
    "_Feature"
   ],
   "window_display": false
  }
 },
 "nbformat": 4,
 "nbformat_minor": 5
}
