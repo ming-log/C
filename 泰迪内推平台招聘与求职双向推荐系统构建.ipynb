{
 "cells": [
  {
   "cell_type": "markdown",
   "id": "c7101a3c",
   "metadata": {},
   "source": [
    "# 招聘与求职信息抓取\n",
    "此问题分为以下两个部分\n",
    "- 招聘信息抓取\n",
    "- 求职信息抓取"
   ]
  },
  {
   "cell_type": "code",
   "execution_count": 1,
   "id": "fefae1e4",
   "metadata": {
    "ExecuteTime": {
     "end_time": "2023-03-20T08:55:33.185278Z",
     "start_time": "2023-03-20T08:55:33.036676Z"
    }
   },
   "outputs": [],
   "source": [
    "import requests"
   ]
  },
  {
   "cell_type": "markdown",
   "id": "05c8deee",
   "metadata": {},
   "source": [
    "## 招聘信息抓取"
   ]
  },
  {
   "cell_type": "markdown",
   "id": "358f5d3c",
   "metadata": {},
   "source": [
    "根据问题2可以分析出，有以下字段需要抓取：\n",
    "1. 招聘信息ID\n",
    "2. 企业名称\n",
    "3. 招聘岗位\n",
    "4. 学历要求\n",
    "5. 岗位需求量\n",
    "6. 公司类型\n",
    "7. 薪资待遇\n",
    "8. 岗位技能\n",
    "9. 企业工作地点"
   ]
  },
  {
   "cell_type": "code",
   "execution_count": 85,
   "id": "6e45bb71",
   "metadata": {
    "ExecuteTime": {
     "end_time": "2023-03-15T10:15:08.708476Z",
     "start_time": "2023-03-15T10:15:08.697467Z"
    }
   },
   "outputs": [],
   "source": [
    "# 岗位API\n",
    "job_api = 'https://www.5iai.com/api/enterprise/job/public/es'"
   ]
  },
  {
   "cell_type": "code",
   "execution_count": 80,
   "id": "857dee4c",
   "metadata": {
    "ExecuteTime": {
     "end_time": "2023-03-15T10:14:41.004678Z",
     "start_time": "2023-03-15T10:14:40.995681Z"
    }
   },
   "outputs": [],
   "source": [
    "# 设定Get请求参数\n",
    "job_params = {\n",
    "    'pageSize': '2000',\n",
    "    'pageNumber': 1\n",
    "}"
   ]
  },
  {
   "cell_type": "code",
   "execution_count": 81,
   "id": "b9d2d880",
   "metadata": {
    "ExecuteTime": {
     "end_time": "2023-03-15T10:14:42.176057Z",
     "start_time": "2023-03-15T10:14:41.639869Z"
    }
   },
   "outputs": [],
   "source": [
    "# 发送GET请求\n",
    "job_response = requests.get(job_api, params=job_params)"
   ]
  },
  {
   "cell_type": "code",
   "execution_count": 82,
   "id": "07f5c9f9",
   "metadata": {
    "ExecuteTime": {
     "end_time": "2023-03-15T10:14:42.707134Z",
     "start_time": "2023-03-15T10:14:42.680132Z"
    }
   },
   "outputs": [],
   "source": [
    "# 将响应内容转化为字典\n",
    "job_dict = job_response.json()"
   ]
  },
  {
   "cell_type": "code",
   "execution_count": 83,
   "id": "5f57b624",
   "metadata": {
    "ExecuteTime": {
     "end_time": "2023-03-15T10:14:44.096118Z",
     "start_time": "2023-03-15T10:14:44.079159Z"
    }
   },
   "outputs": [
    {
     "name": "stdout",
     "output_type": "stream",
     "text": [
      "共获取1574个岗位\n"
     ]
    }
   ],
   "source": [
    "# 获取岗位信息列表\n",
    "job_list = job_dict['data']['content']\n",
    "# 查看岗位数量\n",
    "print('共获取%d个岗位' % len(job_list))"
   ]
  },
  {
   "cell_type": "markdown",
   "id": "90a1cb91",
   "metadata": {},
   "source": [
    "### 招聘信息ID"
   ]
  },
  {
   "cell_type": "code",
   "execution_count": 22,
   "id": "d376bdc8",
   "metadata": {
    "ExecuteTime": {
     "end_time": "2023-03-15T02:55:53.788736Z",
     "start_time": "2023-03-15T02:55:53.783794Z"
    }
   },
   "outputs": [],
   "source": [
    "job_id = [i['id'] for i in job_list]"
   ]
  },
  {
   "cell_type": "markdown",
   "id": "2c00e4e6",
   "metadata": {},
   "source": [
    "### 企业名称"
   ]
  },
  {
   "cell_type": "code",
   "execution_count": 29,
   "id": "6340e5ea",
   "metadata": {
    "ExecuteTime": {
     "end_time": "2023-03-15T02:57:32.322203Z",
     "start_time": "2023-03-15T02:57:32.305258Z"
    }
   },
   "outputs": [],
   "source": [
    "job_name = [i['enterpriseExtInfo']['shortName'] for i in job_list]"
   ]
  },
  {
   "cell_type": "markdown",
   "id": "6908685c",
   "metadata": {},
   "source": [
    "### 招聘岗位"
   ]
  },
  {
   "cell_type": "code",
   "execution_count": 30,
   "id": "970f663c",
   "metadata": {
    "ExecuteTime": {
     "end_time": "2023-03-15T02:57:35.383378Z",
     "start_time": "2023-03-15T02:57:35.368427Z"
    }
   },
   "outputs": [],
   "source": [
    "job_positionName = [i['positionName'] for i in job_list]"
   ]
  },
  {
   "cell_type": "markdown",
   "id": "b564d04c",
   "metadata": {},
   "source": [
    "### 学历要求"
   ]
  },
  {
   "cell_type": "code",
   "execution_count": 31,
   "id": "6b3dc097",
   "metadata": {
    "ExecuteTime": {
     "end_time": "2023-03-15T02:57:58.180069Z",
     "start_time": "2023-03-15T02:57:58.169116Z"
    }
   },
   "outputs": [],
   "source": [
    "job_educationalRequirements = [i['educationalRequirements'] for i in job_list]"
   ]
  },
  {
   "cell_type": "code",
   "execution_count": 90,
   "id": "3266654c",
   "metadata": {
    "ExecuteTime": {
     "end_time": "2023-03-15T03:47:26.939559Z",
     "start_time": "2023-03-15T03:47:26.924610Z"
    }
   },
   "outputs": [
    {
     "data": {
      "text/plain": [
       "2"
      ]
     },
     "execution_count": 90,
     "metadata": {},
     "output_type": "execute_result"
    }
   ],
   "source": [
    "job_educationalRequirements"
   ]
  },
  {
   "cell_type": "code",
   "execution_count": 105,
   "id": "9ca552a1",
   "metadata": {
    "ExecuteTime": {
     "end_time": "2023-03-15T03:52:56.225294Z",
     "start_time": "2023-03-15T03:52:56.045145Z"
    }
   },
   "outputs": [
    {
     "data": {
      "text/plain": [
       "{'0': '不限', '1': '技工', '2': '大专', '3': '本科', '4': '硕士', '5': '博士'}"
      ]
     },
     "execution_count": 105,
     "metadata": {},
     "output_type": "execute_result"
    }
   ],
   "source": [
    "# 在此出学历要求为数值，经过观察发现在网页的加载过程中会去请求一个educational_requirements的API接口，观察发现其中有上述数值对应的具体学历名称\n",
    "# 后续在使用时可调用以下字典还原为具体名称\n",
    "education_dict = {i['value']: i['label'] for i in requests.get('https://www.5iai.com/api/dict/data/public/list/tree?dictType=education_requirement').json()['data']}\n",
    "education_dict"
   ]
  },
  {
   "cell_type": "markdown",
   "id": "f9bd60c9",
   "metadata": {},
   "source": [
    "### 岗位需求量"
   ]
  },
  {
   "cell_type": "markdown",
   "id": "34f591c7",
   "metadata": {},
   "source": [
    "0代表人数不限"
   ]
  },
  {
   "cell_type": "code",
   "execution_count": 33,
   "id": "a8eb6127",
   "metadata": {
    "ExecuteTime": {
     "end_time": "2023-03-15T02:59:08.110438Z",
     "start_time": "2023-03-15T02:59:08.097469Z"
    }
   },
   "outputs": [],
   "source": [
    "job_count = [i['count'] for i in job_list]"
   ]
  },
  {
   "cell_type": "markdown",
   "id": "d1f1b80a",
   "metadata": {},
   "source": [
    "### 公司类型"
   ]
  },
  {
   "cell_type": "code",
   "execution_count": 34,
   "id": "1526b4b9",
   "metadata": {
    "ExecuteTime": {
     "end_time": "2023-03-15T03:00:34.287846Z",
     "start_time": "2023-03-15T03:00:34.272898Z"
    }
   },
   "outputs": [],
   "source": [
    "job_econKind = [i['enterpriseExtInfo']['econKind'] for i in job_list]"
   ]
  },
  {
   "cell_type": "markdown",
   "id": "62a764aa",
   "metadata": {},
   "source": [
    "### 薪资待遇"
   ]
  },
  {
   "cell_type": "markdown",
   "id": "adda0018",
   "metadata": {},
   "source": [
    "薪资待遇分为最高薪资和最低薪资"
   ]
  },
  {
   "cell_type": "code",
   "execution_count": 36,
   "id": "3d03f9c9",
   "metadata": {
    "ExecuteTime": {
     "end_time": "2023-03-15T03:03:50.010035Z",
     "start_time": "2023-03-15T03:03:50.000069Z"
    }
   },
   "outputs": [],
   "source": [
    "job_minimumWage = [i['minimumWage'] for i in job_list]\n",
    "job_maximumWage =  [i['maximumWage'] for i in job_list]"
   ]
  },
  {
   "cell_type": "markdown",
   "id": "40172d3d",
   "metadata": {},
   "source": [
    "### 岗位技能、企业工作地点"
   ]
  },
  {
   "cell_type": "markdown",
   "id": "c1a1a13e",
   "metadata": {},
   "source": [
    "岗位技能和工作地点在二级页面"
   ]
  },
  {
   "cell_type": "code",
   "execution_count": 71,
   "id": "e434e8d0",
   "metadata": {
    "ExecuteTime": {
     "end_time": "2023-03-15T03:25:14.054497Z",
     "start_time": "2023-03-15T03:21:19.846451Z"
    }
   },
   "outputs": [],
   "source": [
    "# 二级页面详细信息API\n",
    "job_secondPage_api = 'https://www.5iai.com/api/enterprise/job/public'\n",
    "job_skillsList = []\n",
    "job_address = []\n",
    "job_Requiredments = []\n",
    "for i in range(len(job_id)):\n",
    "    job_secondPage_params = {\n",
    "        'id': job_id[i]\n",
    "    }\n",
    "    # 访问二级页面\n",
    "    job_secondPage_response = requests.get(job_secondPage_api, params=job_secondPage_params)\n",
    "    job_secondPage_dict = job_secondPage_response.json()\n",
    "    if 'data' in job_secondPage_dict.keys():\n",
    "        # 获取岗位技能\n",
    "        job_skillsList.append([i['labelName'] for i in job_secondPage_dict['data']['skillsList']])\n",
    "        # 获取工作地点\n",
    "        job_address.append(job_secondPage_dict['data']['enterpriseAddress']['detailedAddress'])\n",
    "        # 获取岗位职责\n",
    "        job_Requiredments.append(job_secondPage_dict['data']['jobRequiredments'])\n",
    "    else:\n",
    "        # 如果没有岗位详细信息，即二级页面为空\n",
    "        job_skillsList.append('')\n",
    "        job_address.append('')\n",
    "        job_Requiredments.append('')"
   ]
  },
  {
   "cell_type": "markdown",
   "id": "960cff21",
   "metadata": {},
   "source": [
    "## 循环将招聘信息数据存储到数据库中"
   ]
  },
  {
   "cell_type": "code",
   "execution_count": 2,
   "id": "99430522",
   "metadata": {
    "ExecuteTime": {
     "end_time": "2023-03-20T08:55:40.388665Z",
     "start_time": "2023-03-20T08:55:40.301933Z"
    }
   },
   "outputs": [],
   "source": [
    "import pymysql"
   ]
  },
  {
   "cell_type": "code",
   "execution_count": 3,
   "id": "ab57995c",
   "metadata": {
    "ExecuteTime": {
     "end_time": "2023-03-20T08:55:42.149051Z",
     "start_time": "2023-03-20T08:55:42.113217Z"
    }
   },
   "outputs": [],
   "source": [
    "# 连接数据库\n",
    "conn = pymysql.connect(host='localhost',\n",
    "                      port=3306,\n",
    "                      database='tipdm_cup',\n",
    "                      user='root',\n",
    "                      passwd='123456')"
   ]
  },
  {
   "cell_type": "code",
   "execution_count": 4,
   "id": "61476496",
   "metadata": {
    "ExecuteTime": {
     "end_time": "2023-03-20T08:55:43.583715Z",
     "start_time": "2023-03-20T08:55:43.571669Z"
    }
   },
   "outputs": [],
   "source": [
    "# 创建游标\n",
    "cursor = conn.cursor()"
   ]
  },
  {
   "cell_type": "code",
   "execution_count": 87,
   "id": "ace29649",
   "metadata": {
    "ExecuteTime": {
     "end_time": "2023-03-15T10:15:43.535723Z",
     "start_time": "2023-03-15T10:15:43.521724Z"
    }
   },
   "outputs": [],
   "source": [
    "# 二级页面API\n",
    "job_secondPage_api = 'https://www.5iai.com/api/enterprise/job/public'"
   ]
  },
  {
   "cell_type": "code",
   "execution_count": 88,
   "id": "94955e6f",
   "metadata": {
    "ExecuteTime": {
     "end_time": "2023-03-15T10:15:44.102343Z",
     "start_time": "2023-03-15T10:15:43.920472Z"
    }
   },
   "outputs": [
    {
     "name": "stdout",
     "output_type": "stream",
     "text": [
      "岗位1: 1631112859985510400已保存！\n"
     ]
    }
   ],
   "source": [
    "n = 1\n",
    "for i in job_list:\n",
    "    job_id = i['id']\n",
    "    job_name = i['enterpriseExtInfo']['shortName']\n",
    "    job_positionName = i['positionName']\n",
    "    job_educationalRequirements = i['educationalRequirements']\n",
    "    job_count = i['count']\n",
    "    job_econKind = i['enterpriseExtInfo']['econKind']\n",
    "    job_minimumWage = i['minimumWage']\n",
    "    job_maximumWage = i['maximumWage']\n",
    "    \n",
    "    job_secondPage_params = {\n",
    "        'id': job_id\n",
    "    }\n",
    "    # 访问二级页面\n",
    "    job_secondPage_response = requests.get(job_secondPage_api, params=job_secondPage_params)\n",
    "    job_secondPage_dict = job_secondPage_response.json()\n",
    "    if 'data' in job_secondPage_dict.keys():\n",
    "        # 获取岗位技能\n",
    "        job_skillsList = ','.join([i['labelName'] for i in job_secondPage_dict['data']['skillsList']])\n",
    "        # 获取工作地点\n",
    "        job_address = job_secondPage_dict['data']['enterpriseAddress']['detailedAddress']\n",
    "        # 获取岗位职责\n",
    "        job_Requiredments = job_secondPage_dict['data']['jobRequiredments']\n",
    "    else:\n",
    "        # 如果没有岗位详细信息，即二级页面为空\n",
    "        job_skillsList = ''\n",
    "        job_address = ''\n",
    "        job_Requiredments = ''\n",
    "    \n",
    "    job_sql = f\"insert into job values(0, '{job_id}', '{job_name}', '{job_positionName}', '{job_educationalRequirements}', '{job_count}', '{job_econKind}', '{job_minimumWage}', '{job_maximumWage}', '{job_skillsList}', '{job_address}', '{job_Requiredments}')\"\n",
    "    cursor.execute(job_sql)\n",
    "    # 提交数据库\n",
    "    conn.commit()\n",
    "    print(f'岗位{n}: {job_id}已保存！')\n",
    "    n += 1"
   ]
  },
  {
   "cell_type": "code",
   "execution_count": null,
   "id": "ece42297",
   "metadata": {},
   "outputs": [],
   "source": [
    "# 关闭游标\n",
    "cursor.close()\n",
    "# 关闭数据库\n",
    "conn.close()"
   ]
  },
  {
   "cell_type": "markdown",
   "id": "6a8b9be7",
   "metadata": {},
   "source": [
    "## 求职信息抓取"
   ]
  },
  {
   "cell_type": "markdown",
   "id": "51cffa91",
   "metadata": {},
   "source": [
    "根据问题2可以分析出，有以下字段需要抓取：\n",
    "1. 求职信息ID\n",
    "2. 姓名\n",
    "3. 学历\n",
    "4. 工作经验\n",
    "5. 预期岗位\n",
    "6. 预期薪资\n",
    "7. 预期工作地点\n",
    "8. 知识储备/技能\n",
    "9. 工作经历\n",
    "10. 项目经历\n",
    "11. 竞赛经历\n",
    "12. 证书"
   ]
  },
  {
   "cell_type": "code",
   "execution_count": 2,
   "id": "26971853",
   "metadata": {
    "ExecuteTime": {
     "end_time": "2023-03-15T08:50:41.572812Z",
     "start_time": "2023-03-15T08:50:41.564551Z"
    }
   },
   "outputs": [],
   "source": [
    "# 求职API\n",
    "user_api = 'https://www.5iai.com/api/resume/baseInfo/public/es'"
   ]
  },
  {
   "cell_type": "code",
   "execution_count": 3,
   "id": "8583b2e2",
   "metadata": {
    "ExecuteTime": {
     "end_time": "2023-03-15T08:50:42.378148Z",
     "start_time": "2023-03-15T08:50:42.363148Z"
    }
   },
   "outputs": [],
   "source": [
    "# 设定Get请求参数\n",
    "user_params = {\n",
    "    'pageSize': 99999,\n",
    "    'pageNumber': 1\n",
    "}"
   ]
  },
  {
   "cell_type": "code",
   "execution_count": 4,
   "id": "0e81a4a7",
   "metadata": {
    "ExecuteTime": {
     "end_time": "2023-03-15T08:50:44.503878Z",
     "start_time": "2023-03-15T08:50:43.418963Z"
    }
   },
   "outputs": [],
   "source": [
    "# 发送GET请求\n",
    "user_response = requests.get(user_api, params=user_params)"
   ]
  },
  {
   "cell_type": "code",
   "execution_count": 5,
   "id": "4fc1193f",
   "metadata": {
    "ExecuteTime": {
     "end_time": "2023-03-15T08:50:44.598643Z",
     "start_time": "2023-03-15T08:50:44.521274Z"
    }
   },
   "outputs": [],
   "source": [
    "# 将响应内容转化为字典\n",
    "user_dict = user_response.json()"
   ]
  },
  {
   "cell_type": "code",
   "execution_count": 6,
   "id": "ca7db949",
   "metadata": {
    "ExecuteTime": {
     "end_time": "2023-03-15T08:50:45.330063Z",
     "start_time": "2023-03-15T08:50:45.323128Z"
    }
   },
   "outputs": [],
   "source": [
    "# 获取求职者信息列表\n",
    "user_list =  user_dict['data']['content']"
   ]
  },
  {
   "cell_type": "markdown",
   "id": "4401379b",
   "metadata": {},
   "source": [
    "### 求职信息ID"
   ]
  },
  {
   "cell_type": "code",
   "execution_count": 213,
   "id": "bd02ff97",
   "metadata": {
    "ExecuteTime": {
     "end_time": "2023-03-15T13:22:01.076075Z",
     "start_time": "2023-03-15T13:22:01.062076Z"
    }
   },
   "outputs": [],
   "source": [
    "user_id = [i['id'] for i in user_list]"
   ]
  },
  {
   "cell_type": "markdown",
   "id": "896e041b",
   "metadata": {},
   "source": [
    "### 姓名"
   ]
  },
  {
   "cell_type": "code",
   "execution_count": 8,
   "id": "bc56d5c1",
   "metadata": {
    "ExecuteTime": {
     "end_time": "2023-03-15T08:50:47.722335Z",
     "start_time": "2023-03-15T08:50:47.707334Z"
    }
   },
   "outputs": [],
   "source": [
    "user_name = [i['username'] for i in user_list]"
   ]
  },
  {
   "cell_type": "markdown",
   "id": "8ad2195a",
   "metadata": {},
   "source": [
    "### 工作经验"
   ]
  },
  {
   "cell_type": "code",
   "execution_count": 199,
   "id": "06c9531a",
   "metadata": {
    "ExecuteTime": {
     "end_time": "2023-03-15T11:01:13.251744Z",
     "start_time": "2023-03-15T11:01:13.246755Z"
    }
   },
   "outputs": [],
   "source": [
    "user_exp = [i['exp'] for i in user_list]"
   ]
  },
  {
   "cell_type": "markdown",
   "id": "4a50ab4c",
   "metadata": {},
   "source": [
    "### 预期岗位"
   ]
  },
  {
   "cell_type": "code",
   "execution_count": 10,
   "id": "201afcd6",
   "metadata": {
    "ExecuteTime": {
     "end_time": "2023-03-15T08:50:49.170580Z",
     "start_time": "2023-03-15T08:50:49.155579Z"
    }
   },
   "outputs": [],
   "source": [
    "user_expectPosition = [i['expectPosition'] for i in user_list]"
   ]
  },
  {
   "cell_type": "markdown",
   "id": "6107d234",
   "metadata": {},
   "source": [
    "### 预期薪资"
   ]
  },
  {
   "cell_type": "code",
   "execution_count": 11,
   "id": "f28685c0",
   "metadata": {
    "ExecuteTime": {
     "end_time": "2023-03-15T08:50:51.931371Z",
     "start_time": "2023-03-15T08:50:51.923301Z"
    }
   },
   "outputs": [],
   "source": [
    "user_willSalaryEnd = [i['willSalaryEnd'] for i in user_list]\n",
    "user_willSalaryStart = [i['willSalaryStart'] for i in user_list]"
   ]
  },
  {
   "cell_type": "markdown",
   "id": "7debc07b",
   "metadata": {},
   "source": [
    "### 二级页面数据抓取"
   ]
  },
  {
   "cell_type": "markdown",
   "id": "7a0ba27e",
   "metadata": {},
   "source": [
    "学历、预期工作地点、知识储备/技能、工作经历、项目经历、竞赛经历、证书情况等信息在二级页面"
   ]
  },
  {
   "cell_type": "code",
   "execution_count": 200,
   "id": "3069912c",
   "metadata": {
    "ExecuteTime": {
     "end_time": "2023-03-15T11:02:02.420267Z",
     "start_time": "2023-03-15T11:02:02.407199Z"
    }
   },
   "outputs": [
    {
     "data": {
      "text/plain": [
       "'https://www.5iai.com/api/resume/baseInfo/public/1632947816114552832'"
      ]
     },
     "execution_count": 200,
     "metadata": {},
     "output_type": "execute_result"
    }
   ],
   "source": [
    "user_url = 'https://www.5iai.com/api/resume/baseInfo/public/1632947816114552832'"
   ]
  },
  {
   "cell_type": "code",
   "execution_count": 202,
   "id": "eca634bf",
   "metadata": {
    "ExecuteTime": {
     "end_time": "2023-03-15T11:02:05.682536Z",
     "start_time": "2023-03-15T11:02:05.510866Z"
    }
   },
   "outputs": [],
   "source": [
    "user_Secoond_response = requests.get(user_url)\n",
    "user_Secoond_dict = user_Secoond_response.json()"
   ]
  },
  {
   "cell_type": "markdown",
   "id": "2829b6d7",
   "metadata": {},
   "source": [
    "#### 学历信息"
   ]
  },
  {
   "cell_type": "code",
   "execution_count": 205,
   "id": "65843dbf",
   "metadata": {
    "ExecuteTime": {
     "end_time": "2023-03-15T11:03:02.040990Z",
     "start_time": "2023-03-15T11:03:02.029992Z"
    }
   },
   "outputs": [
    {
     "data": {
      "text/plain": [
       "'广东第二师范学院_统计学本科'"
      ]
     },
     "execution_count": 205,
     "metadata": {},
     "output_type": "execute_result"
    }
   ],
   "source": [
    "','.join([i['school']+'_'+i['speciality']+'_'+i['educationalBackground']for i in user_Secoond_dict['data']['educationExperienceList']])"
   ]
  },
  {
   "cell_type": "markdown",
   "id": "f75d79be",
   "metadata": {},
   "source": [
    "#### 预期工作地点"
   ]
  },
  {
   "cell_type": "code",
   "execution_count": 168,
   "id": "ed586640",
   "metadata": {
    "ExecuteTime": {
     "end_time": "2023-03-15T10:53:10.258610Z",
     "start_time": "2023-03-15T10:53:10.246687Z"
    }
   },
   "outputs": [
    {
     "data": {
      "text/plain": [
       "'[\"广东省\",\"深圳市\",\"南山区\"]'"
      ]
     },
     "execution_count": 168,
     "metadata": {},
     "output_type": "execute_result"
    }
   ],
   "source": [
    "user_Secoond_dict['data']['city']"
   ]
  },
  {
   "cell_type": "markdown",
   "id": "2fe047ed",
   "metadata": {},
   "source": [
    "#### 知识储备/技能"
   ]
  },
  {
   "cell_type": "code",
   "execution_count": 191,
   "id": "9dbe2e8e",
   "metadata": {
    "ExecuteTime": {
     "end_time": "2023-03-15T10:59:56.193372Z",
     "start_time": "2023-03-15T10:59:56.183364Z"
    }
   },
   "outputs": [
    {
     "data": {
      "text/plain": [
       "'python_MASTER,数据分析_SKILLED,数据建模（机器学习）_SKILLED,网络爬虫_GOOD'"
      ]
     },
     "execution_count": 191,
     "metadata": {},
     "output_type": "execute_result"
    }
   ],
   "source": [
    "','.join([i['name']+'_'+i['level'] for i in user_Secoond_dict['data']['skillList']])"
   ]
  },
  {
   "cell_type": "markdown",
   "id": "afb86559",
   "metadata": {},
   "source": [
    "#### 工作经历"
   ]
  },
  {
   "cell_type": "code",
   "execution_count": 196,
   "id": "56f1c53c",
   "metadata": {
    "ExecuteTime": {
     "end_time": "2023-03-15T11:00:32.213755Z",
     "start_time": "2023-03-15T11:00:32.205767Z"
    }
   },
   "outputs": [
    {
     "data": {
      "text/plain": [
       "'广东泰迪智能科技股份有限公司_助教'"
      ]
     },
     "execution_count": 196,
     "metadata": {},
     "output_type": "execute_result"
    }
   ],
   "source": [
    "','.join([i['company'] + '_' + i['positionName'] for i in user_Secoond_dict['data']['workExperienceList']])"
   ]
  },
  {
   "cell_type": "markdown",
   "id": "12286827",
   "metadata": {},
   "source": [
    "#### 项目经历"
   ]
  },
  {
   "cell_type": "code",
   "execution_count": 193,
   "id": "c69dff68",
   "metadata": {
    "ExecuteTime": {
     "end_time": "2023-03-15T11:00:03.729815Z",
     "start_time": "2023-03-15T11:00:03.725858Z"
    }
   },
   "outputs": [
    {
     "data": {
      "text/plain": [
       "'数据分析'"
      ]
     },
     "execution_count": 193,
     "metadata": {},
     "output_type": "execute_result"
    }
   ],
   "source": [
    "','.join([i['roleName'] for i in user_Secoond_dict['data']['projectExperienceList']])"
   ]
  },
  {
   "cell_type": "markdown",
   "id": "a81e57cc",
   "metadata": {},
   "source": [
    "#### 竞赛经历"
   ]
  },
  {
   "cell_type": "code",
   "execution_count": 183,
   "id": "e40b956d",
   "metadata": {
    "ExecuteTime": {
     "end_time": "2023-03-15T10:57:36.810156Z",
     "start_time": "2023-03-15T10:57:36.792149Z"
    }
   },
   "outputs": [
    {
     "data": {
      "text/plain": [
       "'第四届泰迪杯数据分析技能赛_一等奖,“第七届中国国际“互联网+大学生创新创业大赛广东省分赛_铜牌,计算机程序设计员(Python编程)竞赛全国总决赛_三等奖,第九届泰迪杯数据挖掘挑战赛_三等奖'"
      ]
     },
     "execution_count": 183,
     "metadata": {},
     "output_type": "execute_result"
    }
   ],
   "source": [
    "','.join([i['name']+'_'+i['level'] for i in user_Secoond_dict['data']['competitionExperienceList']])"
   ]
  },
  {
   "cell_type": "markdown",
   "id": "419f2eb0",
   "metadata": {},
   "source": [
    "#### 证书情况"
   ]
  },
  {
   "cell_type": "code",
   "execution_count": 185,
   "id": "d2b54e5f",
   "metadata": {
    "ExecuteTime": {
     "end_time": "2023-03-15T10:58:00.333522Z",
     "start_time": "2023-03-15T10:58:00.325524Z"
    }
   },
   "outputs": [
    {
     "data": {
      "text/plain": [
       "'1+X中级数据分析师'"
      ]
     },
     "execution_count": 185,
     "metadata": {},
     "output_type": "execute_result"
    }
   ],
   "source": [
    "','.join([i['name'] for i in user_Secoond_dict['data']['certList']])"
   ]
  },
  {
   "cell_type": "markdown",
   "id": "0bbf7a66",
   "metadata": {},
   "source": [
    "#### 电子版简历上传情况"
   ]
  },
  {
   "cell_type": "code",
   "execution_count": 187,
   "id": "4b0d3a0d",
   "metadata": {
    "ExecuteTime": {
     "end_time": "2023-03-15T10:58:42.523118Z",
     "start_time": "2023-03-15T10:58:42.503034Z"
    }
   },
   "outputs": [
    {
     "data": {
      "text/plain": [
       "'李晓简历_/userjcq1mj/1677825079339/1677825079339.pdf'"
      ]
     },
     "execution_count": 187,
     "metadata": {},
     "output_type": "execute_result"
    }
   ],
   "source": [
    "','.join([i['name']+'_'+i['file'] for i in user_Secoond_dict['data']['attachmentList']])"
   ]
  },
  {
   "cell_type": "markdown",
   "id": "8b9334aa",
   "metadata": {},
   "source": [
    "## 循环将求职信息数据存储到数据库"
   ]
  },
  {
   "cell_type": "code",
   "execution_count": 68,
   "id": "bacdaeb6",
   "metadata": {
    "ExecuteTime": {
     "end_time": "2023-03-15T09:52:28.096593Z",
     "start_time": "2023-03-15T09:52:28.010054Z"
    }
   },
   "outputs": [],
   "source": [
    "import pymysql"
   ]
  },
  {
   "cell_type": "code",
   "execution_count": 69,
   "id": "48f5ec32",
   "metadata": {
    "ExecuteTime": {
     "end_time": "2023-03-15T09:52:34.061780Z",
     "start_time": "2023-03-15T09:52:34.033848Z"
    }
   },
   "outputs": [],
   "source": [
    "# 连接数据库\n",
    "conn = pymysql.connect(host='localhost',\n",
    "                      port=3306,\n",
    "                      database='tipdm_cup',\n",
    "                      user='root',\n",
    "                      passwd='123456')"
   ]
  },
  {
   "cell_type": "code",
   "execution_count": 70,
   "id": "04a1a42c",
   "metadata": {
    "ExecuteTime": {
     "end_time": "2023-03-15T09:52:40.900054Z",
     "start_time": "2023-03-15T09:52:40.892887Z"
    }
   },
   "outputs": [],
   "source": [
    "# 创建游标\n",
    "cursor = conn.cursor()"
   ]
  },
  {
   "cell_type": "code",
   "execution_count": 214,
   "id": "486ce4ed",
   "metadata": {
    "ExecuteTime": {
     "end_time": "2023-03-15T13:29:00.538074Z",
     "start_time": "2023-03-15T13:22:52.372311Z"
    }
   },
   "outputs": [
    {
     "name": "stdout",
     "output_type": "stream",
     "text": [
      "求职信息1: 7536434415353392660已保存！\n",
      "求职信息2: 7536434428238294548已保存！\n",
      "求职信息3: 7536434441123196436已保存！\n",
      "求职信息4: 7536434449713131028已保存！\n",
      "求职信息5: 7536434462598032916已保存！\n",
      "求职信息6: 7536434466893000212已保存！\n",
      "求职信息7: 7536434475482934804已保存！\n",
      "求职信息8: 7536434484072869396已保存！\n",
      "求职信息9: 7536434496957771284已保存！\n",
      "求职信息10: 7536434509842673172已保存！\n",
      "求职信息11: 7536434518432607764已保存！\n",
      "求职信息12: 7536434531317509652已保存！\n",
      "求职信息13: 7536434544202411540已保存！\n",
      "求职信息14: 7536434552792346132已保存！\n",
      "求职信息15: 7536434565677248020已保存！\n",
      "求职信息16: 7536434578562149908已保存！\n",
      "求职信息17: 7536434587152084500已保存！\n",
      "求职信息18: 7536477283421974036已保存！\n",
      "求职信息19: 7536477296306875924已保存！\n",
      "求职信息20: 7536477309191777812已保存！\n",
      "求职信息21: 7536477317781712404已保存！\n",
      "求职信息22: 7536477330666614292已保存！\n",
      "求职信息23: 7536477334961581588已保存！\n",
      "求职信息24: 7536477347846483476已保存！\n",
      "求职信息25: 7536477360731385364已保存！\n",
      "求职信息26: 7536477373616287252已保存！\n",
      "求职信息27: 7536477382206221844已保存！\n",
      "求职信息28: 7536477395091123732已保存！\n",
      "求职信息29: 7536477407976025620已保存！\n",
      "求职信息30: 7536477416565960212已保存！\n",
      "求职信息31: 7536477429450862100已保存！\n",
      "求职信息32: 7536477442335763988已保存！\n",
      "求职信息33: 7536477455220665876已保存！\n",
      "求职信息34: 7536477463810600468已保存！\n",
      "求职信息35: 7536477476695502356已保存！\n",
      "求职信息36: 7536477489580404244已保存！\n",
      "求职信息37: 7536477498170338836已保存！\n",
      "求职信息38: 7536477511055240724已保存！\n",
      "求职信息39: 7536477515350208020已保存！\n",
      "求职信息40: 7536520207325130260已保存！\n",
      "求职信息41: 7536520220210032148已保存！\n",
      "求职信息42: 7536520228799966740已保存！\n",
      "求职信息43: 7536520241684868628已保存！\n",
      "求职信息44: 7536520254569770516已保存！\n",
      "求职信息45: 7536520263159705108已保存！\n",
      "求职信息46: 7536520276044606996已保存！\n",
      "求职信息47: 7536520288929508884已保存！\n",
      "求职信息48: 7536520301814410772已保存！\n",
      "求职信息49: 7536520314699312660已保存！\n",
      "求职信息50: 7536520323289247252已保存！\n",
      "求职信息51: 7536520336174149140已保存！\n",
      "求职信息52: 7536520344764083732已保存！\n",
      "求职信息53: 7536520357648985620已保存！\n",
      "求职信息54: 7536520370533887508已保存！\n",
      "求职信息55: 7536520383418789396已保存！\n",
      "求职信息56: 7536520392008723988已保存！\n",
      "求职信息57: 7536520400598658580已保存！\n",
      "求职信息58: 7536520413483560468已保存！\n",
      "求职信息59: 7536520426368462356已保存！\n",
      "求职信息60: 7536520434958396948已保存！\n",
      "求职信息61: 7536520447843298836已保存！\n",
      "求职信息62: 7536563114048417300已保存！\n",
      "求职信息63: 7536563126933319188已保存！\n",
      "求职信息64: 7536563135523253780已保存！\n",
      "求职信息65: 7536563148408155668已保存！\n",
      "求职信息66: 7536563161293057556已保存！\n",
      "求职信息67: 7536563169882992148已保存！\n",
      "求职信息68: 7536563182767894036已保存！\n",
      "求职信息69: 7536563195652795924已保存！\n",
      "求职信息70: 7536563208537697812已保存！\n",
      "求职信息71: 7536563217127632404已保存！\n",
      "求职信息72: 7536563221422599700已保存！\n",
      "求职信息73: 7536563230012534292已保存！\n",
      "求职信息74: 7536563238602468884已保存！\n",
      "求职信息75: 7536563251487370772已保存！\n",
      "求职信息76: 7536563264372272660已保存！\n",
      "求职信息77: 7536563272962207252已保存！\n",
      "求职信息78: 7536563285847109140已保存！\n",
      "求职信息79: 7536563298732011028已保存！\n",
      "求职信息80: 7536563311616912916已保存！\n",
      "求职信息81: 7536563320206847508已保存！\n",
      "求职信息82: 7536563333091749396已保存！\n",
      "求职信息83: 7536563345976651284已保存！\n",
      "求职信息84: 7536563358861553172已保存！\n",
      "求职信息85: 7536563367451487764已保存！\n",
      "求职信息86: 7536606072311311892已保存！\n",
      "求职信息87: 7536606085196213780已保存！\n",
      "求职信息88: 7536606093786148372已保存！\n",
      "求职信息89: 7536606098081115668已保存！\n",
      "求职信息90: 7536606106671050260已保存！\n",
      "求职信息91: 7536606115260984852已保存！\n",
      "求职信息92: 7536606128145886740已保存！\n",
      "求职信息93: 7536606141030788628已保存！\n",
      "求职信息94: 7536606149620723220已保存！\n",
      "求职信息95: 7536606162505625108已保存！\n",
      "求职信息96: 7536606175390526996已保存！\n",
      "求职信息97: 7536606188275428884已保存！\n",
      "求职信息98: 7536606196865363476已保存！\n",
      "求职信息99: 7536606209750265364已保存！\n",
      "求职信息100: 7536606222635167252已保存！\n",
      "求职信息101: 7536606235520069140已保存！\n",
      "求职信息102: 7536606244110003732已保存！\n",
      "求职信息103: 7536606256994905620已保存！\n",
      "求职信息104: 7536606269879807508已保存！\n",
      "求职信息105: 7536606282764709396已保存！\n",
      "求职信息106: 7536606287059676692已保存！\n",
      "求职信息107: 7536606295649611284已保存！\n",
      "求职信息108: 7536606308534513172已保存！\n",
      "求职信息109: 7536606321419415060已保存！\n",
      "求职信息110: 7536649550265249300已保存！\n",
      "求职信息111: 7536649563150151188已保存！\n",
      "求职信息112: 7536649576035053076已保存！\n",
      "求职信息113: 7536649584624987668已保存！\n",
      "求职信息114: 7536649597509889556已保存！\n",
      "求职信息115: 7536649610394791444已保存！\n",
      "求职信息116: 7536649623279693332已保存！\n",
      "求职信息117: 7536649631869627924已保存！\n",
      "求职信息118: 7536649644754529812已保存！\n",
      "求职信息119: 7536649657639431700已保存！\n",
      "求职信息120: 7536649666229366292已保存！\n",
      "求职信息121: 7536649679114268180已保存！\n",
      "求职信息122: 7536649691999170068已保存！\n",
      "求职信息123: 7536649700589104660已保存！\n",
      "求职信息124: 7536649713474006548已保存！\n",
      "求职信息125: 7536649726358908436已保存！\n",
      "求职信息126: 7536649734948843028已保存！\n",
      "求职信息127: 7536649747833744916已保存！\n",
      "求职信息128: 7536649760718646804已保存！\n",
      "求职信息129: 7536649769308581396已保存！\n",
      "求职信息130: 7536649782193483284已保存！\n",
      "求职信息131: 7536649795078385172已保存！\n",
      "求职信息132: 7536649803668319764已保存！\n",
      "求职信息133: 7536692517118078484已保存！\n",
      "求职信息134: 7536692530002980372已保存！\n",
      "求职信息135: 7536692538592914964已保存！\n",
      "求职信息136: 7536692551477816852已保存！\n",
      "求职信息137: 7536692564362718740已保存！\n",
      "求职信息138: 7536692572952653332已保存！\n",
      "求职信息139: 7536692577247620628已保存！\n",
      "求职信息140: 7536692585837555220已保存！\n",
      "求职信息141: 7536692594427489812已保存！\n",
      "求职信息142: 7536692607312391700已保存！\n",
      "求职信息143: 7536692620197293588已保存！\n",
      "求职信息144: 7536692633082195476已保存！\n",
      "求职信息145: 7536692641672130068已保存！\n",
      "求职信息146: 7536692654557031956已保存！\n",
      "求职信息147: 7536692667441933844已保存！\n",
      "求职信息148: 7536692676031868436已保存！\n",
      "求职信息149: 7536692688916770324已保存！\n",
      "求职信息150: 7536692701801672212已保存！\n",
      "求职信息151: 7536692710391606804已保存！\n",
      "求职信息152: 7536692723276508692已保存！\n",
      "求职信息153: 7536692736161410580已保存！\n",
      "求职信息154: 7536692749046312468已保存！\n",
      "求职信息155: 7536735380891692564已保存！\n",
      "求职信息156: 7536735385186659860已保存！\n",
      "求职信息157: 7536735393776594452已保存！\n",
      "求职信息158: 7536735406661496340已保存！\n",
      "求职信息159: 7536735415251430932已保存！\n",
      "求职信息160: 7536735428136332820已保存！\n",
      "求职信息161: 7536735441021234708已保存！\n",
      "求职信息162: 7536735449611169300已保存！\n",
      "求职信息163: 7536735462496071188已保存！\n",
      "求职信息164: 7536735475380973076已保存！\n",
      "求职信息165: 7536735488265874964已保存！\n",
      "求职信息166: 7536735496855809556已保存！\n",
      "求职信息167: 7536735509740711444已保存！\n",
      "求职信息168: 7536735522625613332已保存！\n",
      "求职信息169: 7536735531215547924已保存！\n",
      "求职信息170: 7536735544100449812已保存！\n",
      "求职信息171: 7536735556985351700已保存！\n",
      "求职信息172: 7536735565575286292已保存！\n",
      "求职信息173: 7536735569870253588已保存！\n",
      "求职信息174: 7536735578460188180已保存！\n",
      "求职信息175: 7536735591345090068已保存！\n",
      "求职信息176: 7536735599935024660已保存！\n",
      "求职信息177: 7536735612819926548已保存！\n",
      "求职信息178: 7536735625704828436已保存！\n",
      "求职信息179: 7536735634294763028已保存！\n",
      "求职信息180: 7536777948312563220已保存！\n",
      "求职信息181: 7536777961197465108已保存！\n",
      "求职信息182: 7536777969787399700已保存！\n",
      "求职信息183: 7536777982672301588已保存！\n",
      "求职信息184: 7536777995557203476已保存！\n",
      "求职信息185: 7536778008442105364已保存！\n",
      "求职信息186: 7536778017032039956已保存！\n",
      "求职信息187: 7536778029916941844已保存！\n",
      "求职信息188: 7536778042801843732已保存！\n",
      "求职信息189: 7536778051391778324已保存！\n",
      "求职信息190: 7536778055686745620已保存！\n",
      "求职信息191: 7536778059981712916已保存！\n",
      "求职信息192: 7536778072866614804已保存！\n",
      "求职信息193: 7536778085751516692已保存！\n",
      "求职信息194: 7536778098636418580已保存！\n",
      "求职信息195: 7536778107226353172已保存！\n",
      "求职信息196: 7536778120111255060已保存！\n",
      "求职信息197: 7536820829266046484已保存！\n",
      "求职信息198: 7536820837855981076已保存！\n",
      "求职信息199: 7536820850740882964已保存！\n",
      "求职信息200: 7536820863625784852已保存！\n",
      "求职信息201: 7536820872215719444已保存！\n",
      "求职信息202: 7536820885100621332已保存！\n",
      "求职信息203: 7536820897985523220已保存！\n",
      "求职信息204: 7536820910870425108已保存！\n",
      "求职信息205: 7536820919460359700已保存！\n",
      "求职信息206: 7536820932345261588已保存！\n",
      "求职信息207: 7536820936640228884已保存！\n",
      "求职信息208: 7536820945230163476已保存！\n",
      "求职信息209: 7536863607140314644已保存！\n",
      "求职信息210: 7536863620025216532已保存！\n",
      "求职信息211: 7536863632910118420已保存！\n",
      "求职信息212: 7536863645795020308已保存！\n",
      "求职信息213: 7536863654384954900已保存！\n",
      "求职信息214: 7536863667269856788已保存！\n",
      "求职信息215: 7536863680154758676已保存！\n",
      "求职信息216: 7536863688744693268已保存！\n",
      "求职信息217: 7536863701629595156已保存！\n",
      "求职信息218: 7536863714514497044已保存！\n",
      "求职信息219: 7536863723104431636已保存！\n",
      "求职信息220: 7536863735989333524已保存！\n",
      "求职信息221: 7536863748874235412已保存！\n",
      "求职信息222: 7536863761759137300已保存！\n",
      "求职信息223: 7536863770349071892已保存！\n",
      "求职信息224: 7536863774644039188已保存！\n",
      "求职信息225: 7536863778939006484已保存！\n",
      "求职信息226: 7536863791823908372已保存！\n",
      "求职信息227: 7536863804708810260已保存！\n",
      "求职信息228: 7536863813298744852已保存！\n",
      "求职信息229: 7536863826183646740已保存！\n",
      "求职信息230: 7536863839068548628已保存！\n",
      "求职信息231: 7536863851953450516已保存！\n",
      "求职信息232: 7536863860543385108已保存！\n",
      "求职信息233: 7536906539633405460已保存！\n",
      "求职信息234: 7536906552518307348已保存！\n",
      "求职信息235: 7536906561108241940已保存！\n",
      "求职信息236: 7536906573993143828已保存！\n",
      "求职信息237: 7536906586878045716已保存！\n",
      "求职信息238: 7536906599762947604已保存！\n",
      "求职信息239: 7536906608352882196已保存！\n",
      "求职信息240: 7536906621237784084已保存！\n",
      "求职信息241: 7536906625532751380已保存！\n",
      "求职信息242: 7536906634122685972已保存！\n",
      "求职信息243: 7536906642712620564已保存！\n",
      "求职信息244: 7536906655597522452已保存！\n",
      "求职信息245: 7536906668482424340已保存！\n",
      "求职信息246: 7536906677072358932已保存！\n",
      "求职信息247: 7536906689957260820已保存！\n",
      "求职信息248: 7536906702842162708已保存！\n",
      "求职信息249: 7536906711432097300已保存！\n",
      "求职信息250: 7536906724316999188已保存！\n",
      "求职信息251: 7536906737201901076已保存！\n",
      "求职信息252: 7536906750086802964已保存！\n"
     ]
    },
    {
     "name": "stdout",
     "output_type": "stream",
     "text": [
      "求职信息253: 7536906758676737556已保存！\n",
      "求职信息254: 7536906771561639444已保存！\n",
      "求职信息255: 7536906784446541332已保存！\n",
      "求职信息256: 7536906793036475924已保存！\n",
      "求职信息257: 7536949467831528980已保存！\n",
      "求职信息258: 7536949472126496276已保存！\n",
      "求职信息259: 7536949480716430868已保存！\n",
      "求职信息260: 7536949493601332756已保存！\n",
      "求职信息261: 7536949506486234644已保存！\n",
      "求职信息262: 7536949519371136532已保存！\n",
      "求职信息263: 7536949532256038420已保存！\n",
      "求职信息264: 7536949540845973012已保存！\n",
      "求职信息265: 7536949553730874900已保存！\n",
      "求职信息266: 7536949566615776788已保存！\n",
      "求职信息267: 7536949579500678676已保存！\n",
      "求职信息268: 7536949588090613268已保存！\n",
      "求职信息269: 7536949600975515156已保存！\n",
      "求职信息270: 7536949613860417044已保存！\n",
      "求职信息271: 7536949622450351636已保存！\n",
      "求职信息272: 7536949635335253524已保存！\n",
      "求职信息273: 7536949652515122708已保存！\n",
      "求职信息274: 7536949665400024596已保存！\n",
      "求职信息275: 7536949673989959188已保存！\n",
      "求职信息276: 7536949686874861076已保存！\n",
      "求职信息277: 7536949699759762964已保存！\n",
      "求职信息278: 7536992404619587092已保存！\n",
      "求职信息279: 7536992417504488980已保存！\n",
      "求职信息280: 7536992430389390868已保存！\n",
      "求职信息281: 7536992438979325460已保存！\n",
      "求职信息282: 7536992451864227348已保存！\n",
      "求职信息283: 7536992464749129236已保存！\n",
      "求职信息284: 7536992477634031124已保存！\n",
      "求职信息285: 7536992486223965716已保存！\n",
      "求职信息286: 7536992499108867604已保存！\n",
      "求职信息287: 7536992511993769492已保存！\n",
      "求职信息288: 7536992520583704084已保存！\n",
      "求职信息289: 7536992524878671380已保存！\n",
      "求职信息290: 7536992533468605972已保存！\n",
      "求职信息291: 7536992546353507860已保存！\n",
      "求职信息292: 7536992554943442452已保存！\n",
      "求职信息293: 7536992567828344340已保存！\n",
      "求职信息294: 7536992580713246228已保存！\n",
      "求职信息295: 7536992589303180820已保存！\n",
      "求职信息296: 7536992602188082708已保存！\n",
      "求职信息297: 7536992615072984596已保存！\n",
      "求职信息298: 7536992623662919188已保存！\n",
      "求职信息299: 7536992636547821076已保存！\n",
      "求职信息300: 7536992649432722964已保存！\n",
      "求职信息301: 7537035319932808724已保存！\n",
      "求职信息302: 7537035332817710612已保存！\n",
      "求职信息303: 7537035345702612500已保存！\n",
      "求职信息304: 7537035354292547092已保存！\n",
      "求职信息305: 7537035367177448980已保存！\n",
      "求职信息306: 7537035371472416276已保存！\n",
      "求职信息307: 7537035380062350868已保存！\n",
      "求职信息308: 7537035392947252756已保存！\n",
      "求职信息309: 7537035405832154644已保存！\n",
      "求职信息310: 7537035414422089236已保存！\n",
      "求职信息311: 7537035427306991124已保存！\n",
      "求职信息312: 7537035440191893012已保存！\n",
      "求职信息313: 7537035448781827604已保存！\n",
      "求职信息314: 7537035461666729492已保存！\n",
      "求职信息315: 7537035474551631380已保存！\n",
      "求职信息316: 7537035483141565972已保存！\n",
      "求职信息317: 7537035496026467860已保存！\n",
      "求职信息318: 7537035508911369748已保存！\n",
      "求职信息319: 7537035517501304340已保存！\n",
      "求职信息320: 7537035530386206228已保存！\n",
      "求职信息321: 7537035543271108116已保存！\n",
      "求职信息322: 7537035551861042708已保存！\n",
      "求职信息323: 7537035556156010004已保存！\n",
      "求职信息324: 7537035564745944596已保存！\n",
      "求职信息325: 7537078230951063060已保存！\n",
      "求职信息326: 7537078239540997652已保存！\n",
      "求职信息327: 7537078252425899540已保存！\n",
      "求职信息328: 7537078265310801428已保存！\n",
      "求职信息329: 7537078273900736020已保存！\n",
      "求职信息330: 7537078286785637908已保存！\n",
      "求职信息331: 7537078299670539796已保存！\n",
      "求职信息332: 7537078312555441684已保存！\n",
      "求职信息333: 7537078321145376276已保存！\n",
      "求职信息334: 7537078334030278164已保存！\n",
      "求职信息335: 7537078346915180052已保存！\n",
      "求职信息336: 7537078355505114644已保存！\n",
      "求职信息337: 7537078368390016532已保存！\n",
      "求职信息338: 7537078381274918420已保存！\n",
      "求职信息339: 7537078398454787604已保存！\n",
      "求职信息340: 7537078411339689492已保存！\n",
      "求职信息341: 7537078419929624084已保存！\n",
      "求职信息342: 7537078432814525972已保存！\n",
      "求职信息343: 7537078445699427860已保存！\n",
      "求职信息344: 7537078454289362452已保存！\n",
      "求职信息345: 7537078467174264340已保存！\n",
      "求职信息346: 7537078480059166228已保存！\n",
      "求职信息347: 7537121150559251988已保存！\n",
      "求职信息348: 7537121163444153876已保存！\n",
      "求职信息349: 7537121176329055764已保存！\n",
      "求职信息350: 7537121189213957652已保存！\n",
      "求职信息351: 7537121197803892244已保存！\n",
      "求职信息352: 7537121210688794132已保存！\n",
      "求职信息353: 7537121223573696020已保存！\n",
      "求职信息354: 7537121236458597908已保存！\n",
      "求职信息355: 7537121245048532500已保存！\n",
      "求职信息356: 7537121253638467092已保存！\n",
      "求职信息357: 7537121266523368980已保存！\n",
      "求职信息358: 7537121275113303572已保存！\n",
      "求职信息359: 7537121287998205460已保存！\n",
      "求职信息360: 7537121300883107348已保存！\n",
      "求职信息361: 7537121313768009236已保存！\n",
      "求职信息362: 7537121322357943828已保存！\n",
      "求职信息363: 7537121335242845716已保存！\n",
      "求职信息364: 7537121348127747604已保存！\n",
      "求职信息365: 7537121356717682196已保存！\n",
      "求职信息366: 7537121369602584084已保存！\n",
      "求职信息367: 7537121382487485972已保存！\n",
      "求职信息368: 7537121391077420564已保存！\n",
      "求职信息369: 7537164083052342804已保存！\n",
      "求职信息370: 7537164095937244692已保存！\n",
      "求职信息371: 7537164100232211988已保存！\n",
      "求职信息372: 7537164108822146580已保存！\n",
      "求职信息373: 7537164117412081172已保存！\n",
      "求职信息374: 7537164130296983060已保存！\n",
      "求职信息375: 7537164143181884948已保存！\n",
      "求职信息376: 7537164151771819540已保存！\n",
      "求职信息377: 7537164164656721428已保存！\n",
      "求职信息378: 7537164177541623316已保存！\n",
      "求职信息379: 7537164190426525204已保存！\n",
      "求职信息380: 7537164199016459796已保存！\n",
      "求职信息381: 7537164211901361684已保存！\n",
      "求职信息382: 7537164224786263572已保存！\n",
      "求职信息383: 7537164233376198164已保存！\n",
      "求职信息384: 7537164246261100052已保存！\n",
      "求职信息385: 7537164259146001940已保存！\n",
      "求职信息386: 7537164272030903828已保存！\n",
      "求职信息387: 7537164280620838420已保存！\n",
      "求职信息388: 7537164284915805716已保存！\n",
      "求职信息389: 7537164293505740308已保存！\n",
      "求职信息390: 7537164306390642196已保存！\n",
      "求职信息391: 7537164314980576788已保存！\n",
      "求职信息392: 7537164327865478676已保存！\n",
      "求职信息393: 7537207019840400916已保存！\n",
      "求职信息394: 7537207028430335508已保存！\n",
      "求职信息395: 7537207041315237396已保存！\n",
      "求职信息396: 7537207054200139284已保存！\n",
      "求职信息397: 7537207067085041172已保存！\n",
      "求职信息398: 7537207075674975764已保存！\n",
      "求职信息399: 7537207088559877652已保存！\n",
      "求职信息400: 7537207101444779540已保存！\n",
      "求职信息401: 7537207114329681428已保存！\n",
      "求职信息402: 7537207127214583316已保存！\n",
      "求职信息403: 7537207135804517908已保存！\n",
      "求职信息404: 7537207148689419796已保存！\n",
      "求职信息405: 7537207157279354388已保存！\n",
      "求职信息406: 7537207170164256276已保存！\n",
      "求职信息407: 7537207178754190868已保存！\n",
      "求职信息408: 7537207191639092756已保存！\n",
      "求职信息409: 7537207204523994644已保存！\n",
      "求职信息410: 7537207213113929236已保存！\n",
      "求职信息411: 7537207225998831124已保存！\n",
      "求职信息412: 7537207238883733012已保存！\n",
      "求职信息413: 7537207247473667604已保存！\n",
      "求职信息414: 7537207260358569492已保存！\n",
      "求职信息415: 7537249948038524436已保存！\n",
      "求职信息416: 7537249956628459028已保存！\n",
      "求职信息417: 7537249969513360916已保存！\n",
      "求职信息418: 7537249982398262804已保存！\n",
      "求职信息419: 7537249995283164692已保存！\n",
      "求职信息420: 7537250003873099284已保存！\n",
      "求职信息421: 7537250008168066580已保存！\n",
      "求职信息422: 7537250016758001172已保存！\n",
      "求职信息423: 7537250029642903060已保存！\n",
      "求职信息424: 7537250038232837652已保存！\n",
      "求职信息425: 7537250051117739540已保存！\n",
      "求职信息426: 7537250064002641428已保存！\n",
      "求职信息427: 7537250072592576020已保存！\n",
      "求职信息428: 7537250085477477908已保存！\n",
      "求职信息429: 7537250098362379796已保存！\n",
      "求职信息430: 7537250106952314388已保存！\n",
      "求职信息431: 7537250119837216276已保存！\n",
      "求职信息432: 7537250132722118164已保存！\n",
      "求职信息433: 7537250141312052756已保存！\n",
      "求职信息434: 7537250154196954644已保存！\n",
      "求职信息435: 7537250167081856532已保存！\n",
      "求职信息436: 7537250179966758420已保存！\n",
      "求职信息437: 7537250188556693012已保存！\n",
      "求职信息438: 7537250197146627604已保存！\n",
      "求职信息439: 7537292863351746068已保存！\n",
      "求职信息440: 7537292871941680660已保存！\n",
      "求职信息441: 7537292884826582548已保存！\n",
      "求职信息442: 7537292897711484436已保存！\n",
      "求职信息443: 7537292906301419028已保存！\n",
      "求职信息444: 7537292919186320916已保存！\n",
      "求职信息445: 7537292932071222804已保存！\n",
      "求职信息446: 7537292940661157396已保存！\n",
      "求职信息447: 7537292953546059284已保存！\n",
      "求职信息448: 7537292966430961172已保存！\n",
      "求职信息449: 7537292975020895764已保存！\n",
      "求职信息450: 7537292987905797652已保存！\n",
      "求职信息451: 7537293000790699540已保存！\n",
      "求职信息452: 7537293009380634132已保存！\n",
      "求职信息453: 7537293022265536020已保存！\n",
      "求职信息454: 7537293026560503316已保存！\n",
      "求职信息455: 7537293035150437908已保存！\n",
      "求职信息456: 7537293048035339796已保存！\n",
      "求职信息457: 7537293056625274388已保存！\n",
      "求职信息458: 7537293069510176276已保存！\n",
      "求职信息459: 7537293078100110868已保存！\n",
      "求职信息460: 7537293090985012756已保存！\n",
      "求职信息461: 7537293103869914644已保存！\n",
      "求职信息462: 7537335765780065812已保存！\n",
      "求职信息463: 7537335774370000404已保存！\n",
      "求职信息464: 7537335787254902292已保存！\n",
      "求职信息465: 7537335800139804180已保存！\n",
      "求职信息466: 7537335808729738772已保存！\n",
      "求职信息467: 7537335821614640660已保存！\n",
      "求职信息468: 7537335834499542548已保存！\n",
      "求职信息469: 7537335847384444436已保存！\n",
      "求职信息470: 7537335855974379028已保存！\n",
      "求职信息471: 7537335860269346324已保存！\n",
      "求职信息472: 7537335868859280916已保存！\n",
      "求职信息473: 7537335881744182804已保存！\n",
      "求职信息474: 7537335890334117396已保存！\n",
      "求职信息475: 7537335903219019284已保存！\n",
      "求职信息476: 7537335916103921172已保存！\n",
      "求职信息477: 7537335924693855764已保存！\n",
      "求职信息478: 7537335937578757652已保存！\n",
      "求职信息479: 7537335950463659540已保存！\n",
      "求职信息480: 7537335963348561428已保存！\n",
      "求职信息481: 7537335971938496020已保存！\n",
      "求职信息482: 7537335984823397908已保存！\n",
      "求职信息483: 7537335997708299796已保存！\n",
      "求职信息484: 7537336006298234388已保存！\n",
      "求职信息485: 7537336019183136276已保存！\n",
      "求职信息486: 7537379295273610772已保存！\n",
      "求职信息487: 7537379303863545364已保存！\n",
      "求职信息488: 7537379308158512660已保存！\n",
      "求职信息489: 7537379316748447252已保存！\n",
      "求职信息490: 7537379329633349140已保存！\n",
      "求职信息491: 7537379338223283732已保存！\n",
      "求职信息492: 7537379351108185620已保存！\n",
      "求职信息493: 7537379363993087508已保存！\n",
      "求职信息494: 7537379372583022100已保存！\n",
      "求职信息495: 7537379385467923988已保存！\n",
      "求职信息496: 7537379398352825876已保存！\n",
      "求职信息497: 7537379411237727764已保存！\n",
      "求职信息498: 7537379419827662356已保存！\n",
      "求职信息499: 7537379432712564244已保存！\n",
      "求职信息500: 7537379445597466132已保存！\n",
      "求职信息501: 7537379454187400724已保存！\n",
      "求职信息502: 7537379467072302612已保存！\n"
     ]
    },
    {
     "name": "stdout",
     "output_type": "stream",
     "text": [
      "求职信息503: 7537379479957204500已保存！\n",
      "求职信息504: 7537379488547139092已保存！\n",
      "求职信息505: 7537379492842106388已保存！\n",
      "求职信息506: 7537379501432040980已保存！\n",
      "求职信息507: 7537379514316942868已保存！\n",
      "求职信息508: 7537379522906877460已保存！\n",
      "求职信息509: 7537422300781145620已保存！\n",
      "求职信息510: 7537422313666047508已保存！\n",
      "求职信息511: 7537422322255982100已保存！\n",
      "求职信息512: 7537422335140883988已保存！\n",
      "求职信息513: 7537422348025785876已保存！\n",
      "求职信息514: 7537422360910687764已保存！\n",
      "求职信息515: 7537422369500622356已保存！\n",
      "求职信息516: 7537422382385524244已保存！\n",
      "求职信息517: 7537422395270426132已保存！\n",
      "求职信息518: 7537422403860360724已保存！\n",
      "求职信息519: 7537422416745262612已保存！\n",
      "求职信息520: 7537422429630164500已保存！\n",
      "求职信息521: 7537422446810033684已保存！\n",
      "求职信息522: 7537422459694935572已保存！\n",
      "求职信息523: 7537422468284870164已保存！\n",
      "求职信息524: 7537465138784955924已保存！\n",
      "求职信息525: 7537465151669857812已保存！\n",
      "求职信息526: 7537465160259792404已保存！\n",
      "求职信息527: 7537465173144694292已保存！\n",
      "求职信息528: 7537465186029596180已保存！\n",
      "求职信息529: 7537465194619530772已保存！\n",
      "求职信息530: 7537465207504432660已保存！\n",
      "求职信息531: 7537465220389334548已保存！\n",
      "求职信息532: 7537465228979269140已保存！\n",
      "求职信息533: 7537465241864171028已保存！\n",
      "求职信息534: 7537465254749072916已保存！\n",
      "求职信息535: 7537465263339007508已保存！\n",
      "求职信息536: 7537465276223909396已保存！\n",
      "求职信息537: 7537465280518876692已保存！\n",
      "求职信息538: 7537465284813843988已保存！\n",
      "求职信息539: 7537465297698745876已保存！\n",
      "求职信息540: 7537465310583647764已保存！\n",
      "求职信息541: 7537465323468549652已保存！\n",
      "求职信息542: 7537465332058484244已保存！\n",
      "求职信息543: 7537465344943386132已保存！\n",
      "求职信息544: 7537465357828288020已保存！\n",
      "求职信息545: 7537465366418222612已保存！\n",
      "求职信息546: 7537465379303124500已保存！\n",
      "求职信息547: 7537508066983079444已保存！\n",
      "求职信息548: 7537508079867981332已保存！\n",
      "求职信息549: 7537508088457915924已保存！\n",
      "求职信息550: 7537508101342817812已保存！\n",
      "求职信息551: 7537508114227719700已保存！\n",
      "求职信息552: 7537508122817654292已保存！\n",
      "求职信息553: 7537508135702556180已保存！\n",
      "求职信息554: 7537508139997523476已保存！\n",
      "求职信息555: 7537508152882425364已保存！\n",
      "求职信息556: 7537508165767327252已保存！\n",
      "求职信息557: 7537508174357261844已保存！\n",
      "求职信息558: 7537508187242163732已保存！\n",
      "求职信息559: 7537508200127065620已保存！\n",
      "求职信息560: 7537508213011967508已保存！\n",
      "求职信息561: 7537508221601902100已保存！\n",
      "求职信息562: 7537508234486803988已保存！\n",
      "求职信息563: 7537508243076738580已保存！\n",
      "求职信息564: 7537508255961640468已保存！\n",
      "求职信息565: 7537508268846542356已保存！\n",
      "求职信息566: 7537508281731444244已保存！\n",
      "求职信息567: 7537508290321378836已保存！\n",
      "求职信息568: 7537508303206280724已保存！\n",
      "求职信息569: 7537508316091182612已保存！\n",
      "求职信息570: 7537508320386149908已保存！\n",
      "求职信息571: 7537550990886235668已保存！\n",
      "求职信息572: 7537551003771137556已保存！\n",
      "求职信息573: 7537551012361072148已保存！\n",
      "求职信息574: 7537551025245974036已保存！\n",
      "求职信息575: 7537551038130875924已保存！\n",
      "求职信息576: 7537551046720810516已保存！\n",
      "求职信息577: 7537551059605712404已保存！\n",
      "求职信息578: 7537551072490614292已保存！\n",
      "求职信息579: 7537551085375516180已保存！\n",
      "求职信息580: 7537551098260418068已保存！\n",
      "求职信息581: 7537551106850352660已保存！\n",
      "求职信息582: 7537551119735254548已保存！\n",
      "求职信息583: 7537551132620156436已保存！\n",
      "求职信息584: 7537551141210091028已保存！\n",
      "求职信息585: 7537551154094992916已保存！\n",
      "求职信息586: 7537551171274862100已保存！\n",
      "求职信息587: 7537551184159763988已保存！\n",
      "求职信息588: 7537551197044665876已保存！\n",
      "求职信息589: 7537551209929567764已保存！\n",
      "求职信息590: 7537551222814469652已保存！\n",
      "求职信息591: 7537551231404404244已保存！\n",
      "求职信息592: 7537592622004235796已保存！\n",
      "求职信息593: 7537592634889137684已保存！\n",
      "求职信息594: 7537592643479072276已保存！\n",
      "求职信息595: 7537592660658941460已保存！\n",
      "求职信息596: 7537592669248876052已保存！\n",
      "求职信息597: 7537592682133777940已保存！\n",
      "求职信息598: 7537592695018679828已保存！\n",
      "求职信息599: 7537592703608614420已保存！\n",
      "求职信息600: 7537592716493516308已保存！\n",
      "求职信息601: 7537592725083450900已保存！\n",
      "求职信息602: 7537592733673385492已保存！\n",
      "求职信息603: 7537592742263320084已保存！\n",
      "求职信息604: 7537592755148221972已保存！\n",
      "求职信息605: 7537592768033123860已保存！\n",
      "求职信息606: 7537592780918025748已保存！\n",
      "求职信息607: 7537592789507960340已保存！\n",
      "求职信息608: 7537592802392862228已保存！\n",
      "求职信息609: 7537636374836080148已保存！\n",
      "求职信息610: 7537636383426014740已保存！\n",
      "求职信息611: 7537636396310916628已保存！\n",
      "求职信息612: 7537636409195818516已保存！\n",
      "求职信息613: 7537636417785753108已保存！\n",
      "求职信息614: 7537636430670654996已保存！\n",
      "求职信息615: 7537636443555556884已保存！\n",
      "求职信息616: 7537636456440458772已保存！\n",
      "求职信息617: 7537636465030393364已保存！\n",
      "求职信息618: 7537636473620327956已保存！\n",
      "求职信息619: 7537636486505229844已保存！\n",
      "求职信息620: 7537636499390131732已保存！\n",
      "求职信息621: 7537636507980066324已保存！\n",
      "求职信息622: 7537679191365053972已保存！\n",
      "求职信息623: 7537679204249955860已保存！\n",
      "求职信息624: 7537679212839890452已保存！\n",
      "求职信息625: 7537679225724792340已保存！\n",
      "求职信息626: 7537679238609694228已保存！\n",
      "求职信息627: 7537679251494596116已保存！\n",
      "求职信息628: 7537679260084530708已保存！\n",
      "求职信息629: 7537679272969432596已保存！\n",
      "求职信息630: 7537679285854334484已保存！\n",
      "求职信息631: 7537679298739236372已保存！\n",
      "求职信息632: 7537679307329170964已保存！\n",
      "求职信息633: 7537679320214072852已保存！\n",
      "求职信息634: 7537679328804007444已保存！\n",
      "求职信息635: 7537679341688909332已保存！\n",
      "求职信息636: 7537679350278843924已保存！\n",
      "求职信息637: 7537679363163745812已保存！\n",
      "求职信息638: 7537679376048647700已保存！\n",
      "求职信息639: 7537679388933549588已保存！\n",
      "求职信息640: 7537679397523484180已保存！\n",
      "求职信息641: 7537679410408386068已保存！\n",
      "求职信息642: 7537679423293287956已保存！\n",
      "求职信息643: 7537679431883222548已保存！\n",
      "求职信息644: 7537722115268210196已保存！\n",
      "求职信息645: 7537722128153112084已保存！\n",
      "求职信息646: 7537722136743046676已保存！\n",
      "求职信息647: 7537722149627948564已保存！\n",
      "求职信息648: 7537722162512850452已保存！\n",
      "求职信息649: 7537722171102785044已保存！\n",
      "求职信息650: 7537722179692719636已保存！\n",
      "求职信息651: 7537722192577621524已保存！\n",
      "求职信息652: 7537722201167556116已保存！\n",
      "求职信息653: 7537722214052458004已保存！\n",
      "求职信息654: 7537722226937359892已保存！\n",
      "求职信息655: 7537722239822261780已保存！\n",
      "求职信息656: 7537722248412196372已保存！\n",
      "求职信息657: 7537722261297098260已保存！\n",
      "求职信息658: 7537722274182000148已保存！\n",
      "求职信息659: 7537722282771934740已保存！\n",
      "求职信息660: 7537722295656836628已保存！\n",
      "求职信息661: 7537722308541738516已保存！\n",
      "求职信息662: 7537722317131673108已保存！\n",
      "求职信息663: 7537722330016574996已保存！\n",
      "求职信息664: 7537722342901476884已保存！\n",
      "求职信息665: 7537722360081346068已保存！\n",
      "求职信息666: 7537722372966247956已保存！\n",
      "求职信息667: 7537765043466333716已保存！\n",
      "求职信息668: 7537765052056268308已保存！\n",
      "求职信息669: 7537765064941170196已保存！\n",
      "求职信息670: 7537765077826072084已保存！\n",
      "求职信息671: 7537765086416006676已保存！\n",
      "求职信息672: 7537765099300908564已保存！\n",
      "求职信息673: 7537765112185810452已保存！\n",
      "求职信息674: 7537765125070712340已保存！\n",
      "求职信息675: 7537765133660646932已保存！\n",
      "求职信息676: 7537765146545548820已保存！\n",
      "求职信息677: 7537765159430450708已保存！\n",
      "求职信息678: 7537765168020385300已保存！\n",
      "求职信息679: 7537765180905287188已保存！\n",
      "求职信息680: 7537765193790189076已保存！\n",
      "求职信息681: 7537765202380123668已保存！\n",
      "求职信息682: 7537765215265025556已保存！\n",
      "求职信息683: 7537765223854960148已保存！\n",
      "求职信息684: 7537765236739862036已保存！\n",
      "求职信息685: 7537765245329796628已保存！\n",
      "求职信息686: 7537765258214698516已保存！\n",
      "求职信息687: 7537765271099600404已保存！\n",
      "求职信息688: 7537765283984502292已保存！\n",
      "求职信息689: 7537807980254391828已保存！\n",
      "求职信息690: 7537807993139293716已保存！\n",
      "求职信息691: 7537808006024195604已保存！\n",
      "求职信息692: 7537808014614130196已保存！\n",
      "求职信息693: 7537808027499032084已保存！\n",
      "求职信息694: 7537808040383933972已保存！\n",
      "求职信息695: 7537808048973868564已保存！\n",
      "求职信息696: 7537808061858770452已保存！\n",
      "求职信息697: 7537808066153737748已保存！\n",
      "求职信息698: 7537808074743672340已保存！\n",
      "求职信息699: 7537808087628574228已保存！\n",
      "求职信息700: 7537808096218508820已保存！\n",
      "求职信息701: 7537808109103410708已保存！\n",
      "求职信息702: 7537808121988312596已保存！\n",
      "求职信息703: 7537808130578247188已保存！\n",
      "求职信息704: 7537808143463149076已保存！\n",
      "求职信息705: 7537808156348050964已保存！\n",
      "求职信息706: 7537808164937985556已保存！\n",
      "求职信息707: 7537808177822887444已保存！\n",
      "求职信息708: 7537808190707789332已保存！\n",
      "求职信息709: 7537808203592691220已保存！\n",
      "求职信息710: 7537808212182625812已保存！\n",
      "求职信息711: 7537808225067527700已保存！\n",
      "求职信息712: 7537808237952429588已保存！\n",
      "求职信息713: 7537850904157548052已保存！\n",
      "求职信息714: 7537850908452515348已保存！\n",
      "求职信息715: 7537850912747482644已保存！\n",
      "求职信息716: 7537850925632384532已保存！\n",
      "求职信息717: 7537850934222319124已保存！\n",
      "求职信息718: 7537850947107221012已保存！\n",
      "求职信息719: 7537850959992122900已保存！\n",
      "求职信息720: 7537850972877024788已保存！\n",
      "求职信息721: 7537850981466959380已保存！\n",
      "求职信息722: 7537850994351861268已保存！\n",
      "求职信息723: 7537851007236763156已保存！\n",
      "求职信息724: 7537851015826697748已保存！\n",
      "求职信息725: 7537851028711599636已保存！\n",
      "求职信息726: 7537851041596501524已保存！\n",
      "求职信息727: 7537851054481403412已保存！\n",
      "求职信息728: 7537851063071338004已保存！\n",
      "求职信息729: 7537851075956239892已保存！\n",
      "求职信息730: 7537851088841141780已保存！\n",
      "求职信息731: 7537851093136109076已保存！\n",
      "求职信息732: 7537851101726043668已保存！\n",
      "求职信息733: 7537851114610945556已保存！\n",
      "求职信息734: 7537851123200880148已保存！\n",
      "求职信息735: 7537851136085782036已保存！\n",
      "求职信息736: 7537893810880835092已保存！\n",
      "求职信息737: 7537893819470769684已保存！\n",
      "求职信息738: 7537893832355671572已保存！\n",
      "求职信息739: 7537893845240573460已保存！\n",
      "求职信息740: 7537893853830508052已保存！\n",
      "求职信息741: 7537893866715409940已保存！\n",
      "求职信息742: 7537893879600311828已保存！\n",
      "求职信息743: 7537893888190246420已保存！\n",
      "求职信息744: 7537893901075148308已保存！\n",
      "求职信息745: 7537893913960050196已保存！\n",
      "求职信息746: 7537893926844952084已保存！\n",
      "求职信息747: 7537893935434886676已保存！\n",
      "求职信息748: 7537893939729853972已保存！\n",
      "求职信息749: 7537893948319788564已保存！\n",
      "求职信息750: 7537893956909723156已保存！\n",
      "求职信息751: 7537893969794625044已保存！\n",
      "求职信息752: 7537893982679526932已保存！\n"
     ]
    },
    {
     "name": "stdout",
     "output_type": "stream",
     "text": [
      "求职信息753: 7537893991269461524已保存！\n",
      "求职信息754: 7537894004154363412已保存！\n",
      "求职信息755: 7537894017039265300已保存！\n",
      "求职信息756: 7537894029924167188已保存！\n",
      "求职信息757: 7537894038514101780已保存！\n",
      "求职信息758: 7537894051399003668已保存！\n",
      "求职信息759: 7537894064283905556已保存！\n",
      "求职信息760: 7537936747668893204已保存！\n",
      "求职信息761: 7537936760553795092已保存！\n",
      "求职信息762: 7537936769143729684已保存！\n",
      "求职信息763: 7537936782028631572已保存！\n",
      "求职信息764: 7537936794913533460已保存！\n",
      "求职信息765: 7537936803503468052已保存！\n",
      "求职信息766: 7537936812093402644已保存！\n",
      "求职信息767: 7537936824978304532已保存！\n",
      "求职信息768: 7537936837863206420已保存！\n",
      "求职信息769: 7537936850748108308已保存！\n",
      "求职信息770: 7537936859338042900已保存！\n",
      "求职信息771: 7537936872222944788已保存！\n",
      "求职信息772: 7537936885107846676已保存！\n",
      "求职信息773: 7537936893697781268已保存！\n",
      "求职信息774: 7537936906582683156已保存！\n",
      "求职信息775: 7537936919467585044已保存！\n",
      "求职信息776: 7537936928057519636已保存！\n",
      "求职信息777: 7537936940942421524已保存！\n",
      "求职信息778: 7537936953827323412已保存！\n",
      "求职信息779: 7537936966712225300已保存！\n",
      "求职信息780: 7537936975302159892已保存！\n",
      "求职信息781: 7537936979597127188已保存！\n",
      "求职信息782: 7537936988187061780已保存！\n",
      "求职信息783: 7537979654392180244已保存！\n",
      "求职信息784: 7537979662982114836已保存！\n",
      "求职信息785: 7537979675867016724已保存！\n",
      "求职信息786: 7537979688751918612已保存！\n",
      "求职信息787: 7537979697341853204已保存！\n",
      "求职信息788: 7537979710226755092已保存！\n",
      "求职信息789: 7537979723111656980已保存！\n",
      "求职信息790: 7537979731701591572已保存！\n",
      "求职信息791: 7537979744586493460已保存！\n",
      "求职信息792: 7537979757471395348已保存！\n",
      "求职信息793: 7537979766061329940已保存！\n",
      "求职信息794: 7537979778946231828已保存！\n",
      "求职信息795: 7537979791831133716已保存！\n",
      "求职信息796: 7537979804716035604已保存！\n",
      "求职信息797: 7537979813305970196已保存！\n",
      "求职信息798: 7537979817600937492已保存！\n",
      "求职信息799: 7537979821895904788已保存！\n",
      "求职信息800: 7537979834780806676已保存！\n",
      "求职信息801: 7537979847665708564已保存！\n",
      "求职信息802: 7537979860550610452已保存！\n",
      "求职信息803: 7537979869140545044已保存！\n",
      "求职信息804: 7537979882025446932已保存！\n",
      "求职信息805: 7537979894910348820已保存！\n",
      "求职信息806: 7537979903500283412已保存！\n",
      "求职信息807: 7538022595475205652已保存！\n",
      "求职信息808: 7538022608360107540已保存！\n",
      "求职信息809: 7538022616950042132已保存！\n",
      "求职信息810: 7538022629834944020已保存！\n",
      "求职信息811: 7538022642719845908已保存！\n",
      "求职信息812: 7538022655604747796已保存！\n",
      "求职信息813: 7538022664194682388已保存！\n",
      "求职信息814: 7538022677079584276已保存！\n",
      "求职信息815: 7538022681374551572已保存！\n",
      "求职信息816: 7538022689964486164已保存！\n",
      "求职信息817: 7538022698554420756已保存！\n",
      "求职信息818: 7538022711439322644已保存！\n",
      "求职信息819: 7538022724324224532已保存！\n",
      "求职信息820: 7538022732914159124已保存！\n",
      "求职信息821: 7538022745799061012已保存！\n",
      "求职信息822: 7538022758683962900已保存！\n",
      "求职信息823: 7538022767273897492已保存！\n",
      "求职信息824: 7538022780158799380已保存！\n",
      "求职信息825: 7538022793043701268已保存！\n",
      "求职信息826: 7538022801633635860已保存！\n",
      "求职信息827: 7538022814518537748已保存！\n",
      "求职信息828: 7538022827403439636已保存！\n",
      "求职信息829: 7538022840288341524已保存！\n",
      "求职信息830: 7538065523673329172已保存！\n",
      "求职信息831: 7538065536558231060已保存！\n",
      "求职信息832: 7538065540853198356已保存！\n",
      "求职信息833: 7538065553738100244已保存！\n",
      "求职信息834: 7538065566623002132已保存！\n",
      "求职信息835: 7538065579507904020已保存！\n",
      "求职信息836: 7538065588097838612已保存！\n",
      "求职信息837: 7538065600982740500已保存！\n",
      "求职信息838: 7538065613867642388已保存！\n",
      "求职信息839: 7538065622457576980已保存！\n",
      "求职信息840: 7538065635342478868已保存！\n",
      "求职信息841: 7538065648227380756已保存！\n",
      "求职信息842: 7538065656817315348已保存！\n",
      "求职信息843: 7538065669702217236已保存！\n",
      "求职信息844: 7538065682587119124已保存！\n",
      "求职信息845: 7538065691177053716已保存！\n",
      "求职信息846: 7538065704061955604已保存！\n",
      "求职信息847: 7538065716946857492已保存！\n",
      "求职信息848: 7538065721241824788已保存！\n",
      "求职信息849: 7538065734126726676已保存！\n",
      "求职信息850: 7538065747011628564已保存！\n",
      "求职信息851: 7538065759896530452已保存！\n",
      "求职信息852: 7538065768486465044已保存！\n",
      "求职信息853: 7538065781371366932已保存！\n",
      "求职信息854: 7538108971562495508已保存！\n",
      "求职信息855: 7538108980152430100已保存！\n",
      "求职信息856: 7538108993037331988已保存！\n",
      "求职信息857: 7538109005922233876已保存！\n",
      "求职信息858: 7538109018807135764已保存！\n",
      "求职信息859: 7538109027397070356已保存！\n",
      "求职信息860: 7538109040281972244已保存！\n",
      "求职信息861: 7538109053166874132已保存！\n",
      "求职信息862: 7538109061756808724已保存！\n",
      "求职信息863: 7538109074641710612已保存！\n",
      "求职信息864: 7538109083231645204已保存！\n",
      "求职信息865: 7538109091821579796已保存！\n",
      "求职信息866: 7538109104706481684已保存！\n",
      "求职信息867: 7538109117591383572已保存！\n",
      "求职信息868: 7538109126181318164已保存！\n",
      "求职信息869: 7538109139066220052已保存！\n",
      "求职信息870: 7538109151951121940已保存！\n",
      "求职信息871: 7538109164836023828已保存！\n",
      "求职信息872: 7538109173425958420已保存！\n",
      "求职信息873: 7538109186310860308已保存！\n",
      "求职信息874: 7538109199195762196已保存！\n",
      "求职信息875: 7538109207785696788已保存！\n",
      "求职信息876: 7538109220670598676已保存！\n",
      "求职信息877: 7538151465968922132已保存！\n",
      "求职信息878: 7538151474558856724已保存！\n",
      "求职信息879: 7538151487443758612已保存！\n",
      "求职信息880: 7538151491738725908已保存！\n",
      "求职信息881: 7538151500328660500已保存！\n",
      "求职信息882: 7538151513213562388已保存！\n",
      "求职信息883: 7538151526098464276已保存！\n",
      "求职信息884: 7538151534688398868已保存！\n",
      "求职信息885: 7538151547573300756已保存！\n",
      "求职信息886: 7538151560458202644已保存！\n",
      "求职信息887: 7538151569048137236已保存！\n",
      "求职信息888: 7538151581933039124已保存！\n",
      "求职信息889: 7538151594817941012已保存！\n",
      "求职信息890: 7538194282497895956已保存！\n",
      "求职信息891: 7538194295382797844已保存！\n",
      "求职信息892: 7538194308267699732已保存！\n",
      "求职信息893: 7538194316857634324已保存！\n",
      "求职信息894: 7538194329742536212已保存！\n",
      "求职信息895: 7538194342627438100已保存！\n",
      "求职信息896: 7538194351217372692已保存！\n",
      "求职信息897: 7538194355512339988已保存！\n",
      "求职信息898: 7538194364102274580已保存！\n",
      "求职信息899: 7538194372692209172已保存！\n",
      "求职信息900: 7538194385577111060已保存！\n",
      "求职信息901: 7538194398462012948已保存！\n",
      "求职信息902: 7538194411346914836已保存！\n",
      "求职信息903: 7538194419936849428已保存！\n",
      "求职信息904: 7538194432821751316已保存！\n",
      "求职信息905: 7538194445706653204已保存！\n",
      "求职信息906: 7538194454296587796已保存！\n",
      "求职信息907: 7538194467181489684已保存！\n",
      "求职信息908: 7538194480066391572已保存！\n",
      "求职信息909: 7538194488656326164已保存！\n",
      "求职信息910: 7538194501541228052已保存！\n",
      "求职信息911: 7538194514426129940已保存！\n",
      "求职信息912: 7538194527311031828已保存！\n",
      "求职信息913: 7538237219285954068已保存！\n",
      "求职信息914: 7538237223580921364已保存！\n",
      "求职信息915: 7538237232170855956已保存！\n",
      "求职信息916: 7538237245055757844已保存！\n",
      "求职信息917: 7538237253645692436已保存！\n",
      "求职信息918: 7538237266530594324已保存！\n",
      "求职信息919: 7538237279415496212已保存！\n",
      "求职信息920: 7538237288005430804已保存！\n",
      "求职信息921: 7538237300890332692已保存！\n",
      "求职信息922: 7538237313775234580已保存！\n",
      "求职信息923: 7538237322365169172已保存！\n",
      "求职信息924: 7538237335250071060已保存！\n",
      "求职信息925: 7538237348134972948已保存！\n",
      "求职信息926: 7538237356724907540已保存！\n",
      "求职信息927: 7538237369609809428已保存！\n",
      "求职信息928: 7538237382494711316已保存！\n",
      "求职信息929: 7538237391084645908已保存！\n",
      "求职信息930: 7538237403969547796已保存！\n",
      "求职信息931: 7538237408264515092已保存！\n",
      "求职信息932: 7538237416854449684已保存！\n",
      "求职信息933: 7538237425444384276已保存！\n",
      "求职信息934: 7538237438329286164已保存！\n",
      "求职信息935: 7538237451214188052已保存！\n",
      "求职信息936: 7538237459804122644已保存！\n",
      "求职信息937: 7538280121714273812已保存！\n",
      "求职信息938: 7538280134599175700已保存！\n",
      "求职信息939: 7538280147484077588已保存！\n",
      "求职信息940: 7538280156074012180已保存！\n",
      "求职信息941: 7538280168958914068已保存！\n",
      "求职信息942: 7538280181843815956已保存！\n",
      "求职信息943: 7538280194728717844已保存！\n",
      "求职信息944: 7538280203318652436已保存！\n",
      "求职信息945: 7538280216203554324已保存！\n",
      "求职信息946: 7538280229088456212已保存！\n",
      "求职信息947: 7538280237678390804已保存！\n",
      "求职信息948: 7538280241973358100已保存！\n",
      "求职信息949: 7538280250563292692已保存！\n",
      "求职信息950: 7538280263448194580已保存！\n",
      "求职信息951: 7538280272038129172已保存！\n",
      "求职信息952: 7538280284923031060已保存！\n",
      "求职信息953: 7538280297807932948已保存！\n",
      "求职信息954: 7538280306397867540已保存！\n",
      "求职信息955: 7538280319282769428已保存！\n",
      "求职信息956: 7538280332167671316已保存！\n",
      "求职信息957: 7538280345052573204已保存！\n",
      "求职信息958: 7538280353642507796已保存！\n",
      "求职信息959: 7538280366527409684已保存！\n",
      "求职信息960: 7538280375117344276已保存！\n",
      "求职信息961: 7538323101452004884已保存！\n",
      "求职信息962: 7538323114336906772已保存！\n",
      "求职信息963: 7538323127221808660已保存！\n",
      "求职信息964: 7538323135811743252已保存！\n",
      "求职信息965: 7538323140106710548已保存！\n",
      "求职信息966: 7538323144401677844已保存！\n",
      "求职信息967: 7538323157286579732已保存！\n",
      "求职信息968: 7538323170171481620已保存！\n",
      "求职信息969: 7538323183056383508已保存！\n",
      "求职信息970: 7538323191646318100已保存！\n",
      "求职信息971: 7538323204531219988已保存！\n",
      "求职信息972: 7538323217416121876已保存！\n",
      "求职信息973: 7538323226006056468已保存！\n",
      "求职信息974: 7538323238890958356已保存！\n",
      "求职信息975: 7538323251775860244已保存！\n",
      "求职信息976: 7538323260365794836已保存！\n",
      "求职信息977: 7538323273250696724已保存！\n",
      "求职信息978: 7538323286135598612已保存！\n",
      "求职信息979: 7538323299020500500已保存！\n",
      "求职信息980: 7538323307610435092已保存！\n",
      "求职信息981: 7538323320495336980已保存！\n",
      "求职信息982: 7538323324790304276已保存！\n",
      "求职信息983: 7538323329085271572已保存！\n",
      "求职信息984: 7538365982405488148已保存！\n",
      "求职信息985: 7538365995290390036已保存！\n",
      "求职信息986: 7538366003880324628已保存！\n",
      "求职信息987: 7538366016765226516已保存！\n",
      "求职信息988: 7538366029650128404已保存！\n",
      "求职信息989: 7538366033945095700已保存！\n",
      "求职信息990: 7538366055419932180已保存！\n",
      "求职信息991: 7538366064009866772已保存！\n",
      "求职信息992: 7538366072599801364已保存！\n",
      "求职信息993: 7538366081189735956已保存！\n",
      "求职信息994: 7538366094074637844已保存！\n",
      "求职信息995: 7538366102664572436已保存！\n",
      "求职信息996: 7538366111254507028已保存！\n",
      "求职信息997: 7538366119844441620已保存！\n",
      "求职信息998: 7538366128434376212已保存！\n",
      "求职信息999: 7538494955978419732已保存！\n",
      "求职信息1000: 7538366137024310804已保存！\n",
      "求职信息1001: 7538366145614245396已保存！\n",
      "求职信息1002: 7538366149909212692已保存！\n"
     ]
    },
    {
     "name": "stdout",
     "output_type": "stream",
     "text": [
      "求职信息1003: 7538366158499147284已保存！\n",
      "求职信息1004: 7538366171384049172已保存！\n",
      "求职信息1005: 7538366179973983764已保存！\n",
      "求职信息1006: 7538366188563918356已保存！\n",
      "求职信息1007: 7538366197153852948已保存！\n",
      "求职信息1008: 7538366210038754836已保存！\n",
      "求职信息1009: 7538366218628689428已保存！\n",
      "求职信息1010: 7538366227218624020已保存！\n",
      "求职信息1011: 7538408936373415444已保存！\n",
      "求职信息1012: 7538408944963350036已保存！\n",
      "求职信息1013: 7538408953553284628已保存！\n",
      "求职信息1014: 7538408962143219220已保存！\n",
      "求职信息1015: 7538408970733153812已保存！\n",
      "求职信息1016: 7538408983618055700已保存！\n",
      "求职信息1017: 7538408992207990292已保存！\n",
      "求职信息1018: 7538409000797924884已保存！\n",
      "求职信息1019: 7538409009387859476已保存！\n",
      "求职信息1020: 7538409017977794068已保存！\n",
      "求职信息1021: 7538409022272761364已保存！\n",
      "求职信息1022: 7538409030862695956已保存！\n",
      "求职信息1023: 7538409039452630548已保存！\n",
      "求职信息1024: 7538409052337532436已保存！\n",
      "求职信息1025: 7538409060927467028已保存！\n",
      "求职信息1026: 7538409069517401620已保存！\n",
      "求职信息1027: 7538409078107336212已保存！\n",
      "求职信息1028: 7538409086697270804已保存！\n",
      "求职信息1029: 7538409095287205396已保存！\n",
      "求职信息1030: 7538409103877139988已保存！\n",
      "求职信息1031: 7538409116762041876已保存！\n",
      "求职信息1032: 7538409125351976468已保存！\n",
      "求职信息1033: 7538409133941911060已保存！\n",
      "求职信息1034: 7538409142531845652已保存！\n",
      "求职信息1035: 7538409151121780244已保存！\n",
      "求职信息1036: 7538409159711714836已保存！\n",
      "求职信息1037: 7538409168301649428已保存！\n",
      "求职信息1038: 7538409176891584020已保存！\n",
      "求职信息1039: 7538451847391669780已保存！\n",
      "求职信息1040: 7538451851686637076已保存！\n",
      "求职信息1041: 7538451855981604372已保存！\n",
      "求职信息1042: 7538451864571538964已保存！\n",
      "求职信息1043: 7538451873161473556已保存！\n",
      "求职信息1044: 7538451881751408148已保存！\n",
      "求职信息1045: 7538451894636310036已保存！\n",
      "求职信息1046: 7538451903226244628已保存！\n",
      "求职信息1047: 7538451911816179220已保存！\n",
      "求职信息1048: 7538451920406113812已保存！\n",
      "求职信息1049: 7538451928996048404已保存！\n",
      "求职信息1050: 7538451937585982996已保存！\n",
      "求职信息1051: 7538451946175917588已保存！\n",
      "求职信息1052: 7538451954765852180已保存！\n",
      "求职信息1053: 7538451963355786772已保存！\n",
      "求职信息1054: 7538451976240688660已保存！\n",
      "求职信息1055: 7538451984830623252已保存！\n",
      "求职信息1056: 7538451993420557844已保存！\n",
      "求职信息1057: 7538452002010492436已保存！\n",
      "求职信息1058: 7538452010600427028已保存！\n",
      "求职信息1059: 7538452019190361620已保存！\n",
      "求职信息1060: 7538452027780296212已保存！\n",
      "求职信息1061: 7538452036370230804已保存！\n",
      "求职信息1062: 7538452044960165396已保存！\n",
      "求职信息1063: 7538452057845067284已保存！\n",
      "求职信息1064: 7538452066435001876已保存！\n",
      "求职信息1065: 7538452075024936468已保存！\n",
      "求职信息1066: 7538452083614871060已保存！\n",
      "求职信息1067: 7538452092204805652已保存！\n",
      "求职信息1068: 7538452100794740244已保存！\n",
      "求职信息1069: 7538452109384674836已保存！\n",
      "求职信息1070: 7538494788474695188已保存！\n",
      "求职信息1071: 7538494797064629780已保存！\n",
      "求职信息1072: 7538494809949531668已保存！\n",
      "求职信息1073: 7538494818539466260已保存！\n",
      "求职信息1074: 7538494827129400852已保存！\n",
      "求职信息1075: 7538494835719335444已保存！\n",
      "求职信息1076: 7538494844309270036已保存！\n",
      "求职信息1077: 7538494852899204628已保存！\n",
      "求职信息1078: 7538494865784106516已保存！\n",
      "求职信息1079: 7538494874374041108已保存！\n",
      "求职信息1080: 7538494878669008404已保存！\n",
      "求职信息1081: 7538494887258942996已保存！\n",
      "求职信息1082: 7538494895848877588已保存！\n",
      "求职信息1083: 7538494908733779476已保存！\n",
      "求职信息1084: 7538494917323714068已保存！\n",
      "求职信息1085: 7538494925913648660已保存！\n",
      "求职信息1086: 7538494934503583252已保存！\n",
      "求职信息1087: 7538494943093517844已保存！\n",
      "求职信息1088: 7538494968863321620已保存！\n",
      "求职信息1089: 7538494977453256212已保存！\n",
      "求职信息1090: 7538494986043190804已保存！\n",
      "求职信息1091: 7538494994633125396已保存！\n",
      "求职信息1092: 7538495007518027284已保存！\n",
      "求职信息1093: 7538495020402929172已保存！\n",
      "求职信息1094: 7538495033287831060已保存！\n",
      "求职信息1095: 7538495041877765652已保存！\n",
      "求职信息1096: 7538537738147655188已保存！\n",
      "求职信息1097: 7538537751032557076已保存！\n",
      "求职信息1098: 7538537759622491668已保存！\n",
      "求职信息1099: 7538537772507393556已保存！\n",
      "求职信息1100: 7538537785392295444已保存！\n",
      "求职信息1101: 7538537793982230036已保存！\n",
      "求职信息1102: 7538537806867131924已保存！\n",
      "求职信息1103: 7538537819752033812已保存！\n",
      "求职信息1104: 7538537828341968404已保存！\n",
      "求职信息1105: 7538537841226870292已保存！\n",
      "求职信息1106: 7538537854111772180已保存！\n",
      "求职信息1107: 7538537866996674068已保存！\n",
      "求职信息1108: 7538537875586608660已保存！\n",
      "求职信息1109: 7538537888471510548已保存！\n",
      "求职信息1110: 7538537901356412436已保存！\n",
      "求职信息1111: 7538537909946347028已保存！\n",
      "求职信息1112: 7538537914241314324已保存！\n",
      "求职信息1113: 7538537922831248916已保存！\n",
      "求职信息1114: 7538537931421183508已保存！\n",
      "求职信息1115: 7538537944306085396已保存！\n",
      "求职信息1116: 7538537957190987284已保存！\n",
      "求职信息1117: 7538580619101138452已保存！\n",
      "求职信息1118: 7538580631986040340已保存！\n",
      "求职信息1119: 7538580644870942228已保存！\n",
      "求职信息1120: 7538580657755844116已保存！\n",
      "求职信息1121: 7538580666345778708已保存！\n",
      "求职信息1122: 7538580679230680596已保存！\n",
      "求职信息1123: 7538580692115582484已保存！\n",
      "求职信息1124: 7538580700705517076已保存！\n",
      "求职信息1125: 7538580713590418964已保存！\n",
      "求职信息1126: 7538580726475320852已保存！\n",
      "求职信息1127: 7538580735065255444已保存！\n",
      "求职信息1128: 7538580747950157332已保存！\n",
      "求职信息1129: 7538580752245124628已保存！\n",
      "求职信息1130: 7538580760835059220已保存！\n",
      "求职信息1131: 7538580773719961108已保存！\n",
      "求职信息1132: 7538580786604862996已保存！\n",
      "求职信息1133: 7538580795194797588已保存！\n",
      "求职信息1134: 7538580808079699476已保存！\n",
      "求职信息1135: 7538580820964601364已保存！\n",
      "求职信息1136: 7538580829554535956已保存！\n",
      "求职信息1137: 7538580842439437844已保存！\n",
      "求职信息1138: 7538580855324339732已保存！\n",
      "求职信息1139: 7538580863914274324已保存！\n",
      "求职信息1140: 7538623538709327380已保存！\n",
      "求职信息1141: 7538623551594229268已保存！\n",
      "求职信息1142: 7538623560184163860已保存！\n",
      "求职信息1143: 7538623573069065748已保存！\n",
      "求职信息1144: 7538623585953967636已保存！\n",
      "求职信息1145: 7538623598838869524已保存！\n",
      "求职信息1146: 7538623603133836820已保存！\n",
      "求职信息1147: 7538623616018738708已保存！\n",
      "求职信息1148: 7538623628903640596已保存！\n",
      "求职信息1149: 7538623637493575188已保存！\n",
      "求职信息1150: 7538623650378477076已保存！\n",
      "求职信息1151: 7538623663263378964已保存！\n",
      "求职信息1152: 7538623671853313556已保存！\n",
      "求职信息1153: 7538623684738215444已保存！\n",
      "求职信息1154: 7538623697623117332已保存！\n",
      "求职信息1155: 7538623710508019220已保存！\n",
      "求职信息1156: 7538623719097953812已保存！\n",
      "求职信息1157: 7538623731982855700已保存！\n",
      "求职信息1158: 7538623744867757588已保存！\n",
      "求职信息1159: 7538623753457692180已保存！\n",
      "求职信息1160: 7538623762047626772已保存！\n",
      "求职信息1161: 7538623774932528660已保存！\n",
      "求职信息1162: 7538623783522463252已保存！\n",
      "求职信息1163: 7538623787817430548已保存！\n",
      "求职信息1164: 7538666475497385492已保存！\n",
      "求职信息1165: 7538666488382287380已保存！\n",
      "求职信息1166: 7538666496972221972已保存！\n",
      "求职信息1167: 7538666509857123860已保存！\n",
      "求职信息1168: 7538666522742025748已保存！\n",
      "求职信息1169: 7538666531331960340已保存！\n",
      "求职信息1170: 7538666544216862228已保存！\n",
      "求职信息1171: 7538666557101764116已保存！\n",
      "求职信息1172: 7538666565691698708已保存！\n",
      "求职信息1173: 7538666578576600596已保存！\n",
      "求职信息1174: 7538666587166535188已保存！\n",
      "求职信息1175: 7538666600051437076已保存！\n",
      "求职信息1176: 7538666608641371668已保存！\n",
      "求职信息1177: 7538666617231306260已保存！\n",
      "求职信息1178: 7538666625821240852已保存！\n",
      "求职信息1179: 7538666634411175444已保存！\n",
      "求职信息1180: 7538666643001110036已保存！\n",
      "求职信息1181: 7538666647296077332已保存！\n",
      "求职信息1182: 7538666655886011924已保存！\n",
      "求职信息1183: 7538666664475946516已保存！\n",
      "求职信息1184: 7538666677360848404已保存！\n",
      "求职信息1185: 7538666685950782996已保存！\n",
      "求职信息1186: 7538666694540717588已保存！\n",
      "求职信息1187: 7538666703130652180已保存！\n",
      "求职信息1188: 7538666711720586772已保存！\n",
      "求职信息1189: 7538666720310521364已保存！\n",
      "求职信息1190: 7538666728900455956已保存！\n",
      "求职信息1191: 7538709953451322900已保存！\n",
      "求职信息1192: 7538709966336224788已保存！\n",
      "求职信息1193: 7538709974926159380已保存！\n",
      "求职信息1194: 7538709983516093972已保存！\n",
      "求职信息1195: 7538709992106028564已保存！\n",
      "求职信息1196: 7538710000695963156已保存！\n",
      "求职信息1197: 7538710009285897748已保存！\n",
      "求职信息1198: 7538710017875832340已保存！\n",
      "求职信息1199: 7538710030760734228已保存！\n",
      "求职信息1200: 7538710035055701524已保存！\n",
      "求职信息1201: 7538710039350668820已保存！\n",
      "求职信息1202: 7538710047940603412已保存！\n",
      "求职信息1203: 7538710056530538004已保存！\n",
      "求职信息1204: 7538710069415439892已保存！\n",
      "求职信息1205: 7538710078005374484已保存！\n",
      "求职信息1206: 7538710086595309076已保存！\n",
      "求职信息1207: 7538710095185243668已保存！\n",
      "求职信息1208: 7538710103775178260已保存！\n",
      "求职信息1209: 7538710112365112852已保存！\n",
      "求职信息1210: 7538710120955047444已保存！\n",
      "求职信息1211: 7538710129544982036已保存！\n",
      "求职信息1212: 7538710138134916628已保存！\n",
      "求职信息1213: 7538710151019818516已保存！\n",
      "求职信息1214: 7538710159609753108已保存！\n",
      "求职信息1215: 7538710168199687700已保存！\n",
      "求职信息1216: 7538710176789622292已保存！\n",
      "求职信息1217: 7538710185379556884已保存！\n",
      "求职信息1218: 7538710193969491476已保存！\n",
      "求职信息1219: 7538710202559426068已保存！\n",
      "求职信息1220: 7538752873059511828已保存！\n",
      "求职信息1221: 7538752877354479124已保存！\n",
      "求职信息1222: 7538752885944413716已保存！\n",
      "求职信息1223: 7538752898829315604已保存！\n",
      "求职信息1224: 7538752907419250196已保存！\n",
      "求职信息1225: 7538752916009184788已保存！\n",
      "求职信息1226: 7538752924599119380已保存！\n",
      "求职信息1227: 7538752933189053972已保存！\n",
      "求职信息1228: 7538752941778988564已保存！\n",
      "求职信息1229: 7538752950368923156已保存！\n",
      "求职信息1230: 7538752958958857748已保存！\n",
      "求职信息1231: 7538752967548792340已保存！\n",
      "求职信息1232: 7538752980433694228已保存！\n",
      "求职信息1233: 7538752989023628820已保存！\n",
      "求职信息1234: 7538752997613563412已保存！\n",
      "求职信息1235: 7538753006203498004已保存！\n",
      "求职信息1236: 7538753014793432596已保存！\n",
      "求职信息1237: 7538753023383367188已保存！\n",
      "求职信息1238: 7538753036268269076已保存！\n",
      "求职信息1239: 7538753044858203668已保存！\n",
      "求职信息1240: 7538753049153170964已保存！\n",
      "求职信息1241: 7538753053448138260已保存！\n",
      "求职信息1242: 7538753066333040148已保存！\n",
      "求职信息1243: 7538753074922974740已保存！\n"
     ]
    },
    {
     "name": "stdout",
     "output_type": "stream",
     "text": [
      "求职信息1244: 7538753083512909332已保存！\n",
      "求职信息1245: 7538795371760905748已保存！\n",
      "求职信息1246: 7538795380350840340已保存！\n",
      "求职信息1247: 7538795393235742228已保存！\n",
      "求职信息1248: 7538795401825676820已保存！\n",
      "求职信息1249: 7538795410415611412已保存！\n",
      "求职信息1250: 7538795419005546004已保存！\n",
      "求职信息1251: 7538795427595480596已保存！\n",
      "求职信息1252: 7538795436185415188已保存！\n",
      "求职信息1253: 7538795449070317076已保存！\n",
      "求职信息1254: 7538795457660251668已保存！\n",
      "求职信息1255: 7538795466250186260已保存！\n",
      "求职信息1256: 7538795474840120852已保存！\n",
      "求职信息1257: 7538795483430055444已保存！\n",
      "求职信息1258: 7538795492019990036已保存！\n",
      "求职信息1259: 7538795504904891924已保存！\n",
      "求职信息1260: 7538795509199859220已保存！\n",
      "求职信息1261: 7538838218354650644已保存！\n",
      "求职信息1262: 7538838226944585236已保存！\n",
      "求职信息1263: 7538838235534519828已保存！\n",
      "求职信息1264: 7538838248419421716已保存！\n",
      "求职信息1265: 7538838257009356308已保存！\n",
      "求职信息1266: 7538838265599290900已保存！\n",
      "求职信息1267: 7538838274189225492已保存！\n",
      "求职信息1268: 7538838282779160084已保存！\n",
      "求职信息1269: 7538838291369094676已保存！\n",
      "求职信息1270: 7538838299959029268已保存！\n",
      "求职信息1271: 7538838308548963860已保存！\n",
      "求职信息1272: 7538838321433865748已保存！\n",
      "求职信息1273: 7538838330023800340已保存！\n",
      "求职信息1274: 7538838338613734932已保存！\n",
      "求职信息1275: 7538838347203669524已保存！\n",
      "求职信息1276: 7538838355793604116已保存！\n",
      "求职信息1277: 7538838364383538708已保存！\n",
      "求职信息1278: 7538838372973473300已保存！\n",
      "求职信息1279: 7538838381563407892已保存！\n",
      "求职信息1280: 7538838385858375188已保存！\n",
      "求职信息1281: 7538838394448309780已保存！\n",
      "求职信息1282: 7538838403038244372已保存！\n",
      "求职信息1283: 7538838411628178964已保存！\n",
      "求职信息1284: 7538838420218113556已保存！\n",
      "求职信息1285: 7538881112193035796已保存！\n",
      "求职信息1286: 7538881120782970388已保存！\n",
      "求职信息1287: 7538881129372904980已保存！\n",
      "求职信息1288: 7538881137962839572已保存！\n",
      "求职信息1289: 7538881146552774164已保存！\n",
      "求职信息1290: 7538881155142708756已保存！\n",
      "求职信息1291: 7538881163732643348已保存！\n",
      "求职信息1292: 7538881172322577940已保存！\n",
      "求职信息1293: 7538881185207479828已保存！\n",
      "求职信息1294: 7538881193797414420已保存！\n",
      "求职信息1295: 7538881202387349012已保存！\n",
      "求职信息1296: 7538881210977283604已保存！\n",
      "求职信息1297: 7538881219567218196已保存！\n",
      "求职信息1298: 7538881232452120084已保存！\n",
      "求职信息1299: 7538881236747087380已保存！\n",
      "求职信息1300: 7538881241042054676已保存！\n",
      "求职信息1301: 7538881249631989268已保存！\n",
      "求职信息1302: 7538881258221923860已保存！\n",
      "求职信息1303: 7538881266811858452已保存！\n",
      "求职信息1304: 7538881279696760340已保存！\n",
      "求职信息1305: 7538881288286694932已保存！\n",
      "求职信息1306: 7538881296876629524已保存！\n",
      "求职信息1307: 7538881305466564116已保存！\n",
      "求职信息1308: 7538881314056498708已保存！\n",
      "求职信息1309: 7538881322646433300已保存！\n",
      "求职信息1310: 7538881331236367892已保存！\n",
      "求职信息1311: 7538881339826302484已保存！\n",
      "求职信息1312: 7538881348416237076已保存！\n",
      "求职信息1313: 7538881361301138964已保存！\n",
      "求职信息1314: 7538924027506257428已保存！\n",
      "求职信息1315: 7538924036096192020已保存！\n",
      "求职信息1316: 7538924044686126612已保存！\n",
      "求职信息1317: 7538924053276061204已保存！\n",
      "求职信息1318: 7538924061865995796已保存！\n",
      "求职信息1319: 7538924070455930388已保存！\n",
      "求职信息1320: 7538924079045864980已保存！\n",
      "求职信息1321: 7538924087635799572已保存！\n",
      "求职信息1322: 7538924096225734164已保存！\n",
      "求职信息1323: 7538924109110636052已保存！\n",
      "求职信息1324: 7538924117700570644已保存！\n",
      "求职信息1325: 7538924126290505236已保存！\n",
      "求职信息1326: 7538924134880439828已保存！\n",
      "求职信息1327: 7538924143470374420已保存！\n",
      "求职信息1328: 7538924152060309012已保存！\n",
      "求职信息1329: 7538924160650243604已保存！\n",
      "求职信息1330: 7538924173535145492已保存！\n",
      "求职信息1331: 7538924182125080084已保存！\n",
      "求职信息1332: 7538924190715014676已保存！\n",
      "求职信息1333: 7538924199304949268已保存！\n",
      "求职信息1334: 7538924207894883860已保存！\n",
      "求职信息1335: 7538924216484818452已保存！\n",
      "求职信息1336: 7538924225074753044已保存！\n",
      "求职信息1337: 7538924237959654932已保存！\n",
      "求职信息1338: 7538924242254622228已保存！\n",
      "求职信息1339: 7538924246549589524已保存！\n",
      "求职信息1340: 7538924255139524116已保存！\n",
      "求职信息1341: 7538924263729458708已保存！\n",
      "求职信息1342: 7538924272319393300已保存！\n",
      "求职信息1343: 7538966925639609876已保存！\n",
      "求职信息1344: 7538966934229544468已保存！\n",
      "求职信息1345: 7538966942819479060已保存！\n",
      "求职信息1346: 7538966951409413652已保存！\n",
      "求职信息1347: 7538966959999348244已保存！\n",
      "求职信息1348: 7538966968589282836已保存！\n",
      "求职信息1349: 7538966977179217428已保存！\n",
      "求职信息1350: 7538966985769152020已保存！\n",
      "求职信息1351: 7538966998654053908已保存！\n",
      "求职信息1352: 7538967007243988500已保存！\n",
      "求职信息1353: 7538967015833923092已保存！\n",
      "求职信息1354: 7538967024423857684已保存！\n",
      "求职信息1355: 7538967033013792276已保存！\n",
      "求职信息1356: 7538967041603726868已保存！\n",
      "求职信息1357: 7538967050193661460已保存！\n",
      "求职信息1358: 7538967058783596052已保存！\n",
      "求职信息1359: 7538967063078563348已保存！\n",
      "求职信息1360: 7538967071668497940已保存！\n",
      "求职信息1361: 7538967080258432532已保存！\n",
      "求职信息1362: 7538967093143334420已保存！\n",
      "求职信息1363: 7538967101733269012已保存！\n",
      "求职信息1364: 7538967110323203604已保存！\n",
      "求职信息1365: 7538967118913138196已保存！\n",
      "求职信息1366: 7538967127503072788已保存！\n",
      "求职信息1367: 7538967136093007380已保存！\n",
      "求职信息1368: 7538967144682941972已保存！\n",
      "求职信息1369: 7538967153272876564已保存！\n",
      "求职信息1370: 7538967161862811156已保存！\n",
      "求职信息1371: 7538967174747713044已保存！\n",
      "求职信息1372: 7539009879607537172已保存！\n",
      "求职信息1373: 7539009888197471764已保存！\n",
      "求职信息1374: 7539009896787406356已保存！\n",
      "求职信息1375: 7539009905377340948已保存！\n",
      "求职信息1376: 7539009913967275540已保存！\n",
      "求职信息1377: 7539009926852177428已保存！\n",
      "求职信息1378: 7539009931147144724已保存！\n",
      "求职信息1379: 7539009935442112020已保存！\n",
      "求职信息1380: 7539009944032046612已保存！\n",
      "求职信息1381: 7539009952621981204已保存！\n",
      "求职信息1382: 7539009961211915796已保存！\n",
      "求职信息1383: 7539009974096817684已保存！\n",
      "求职信息1384: 7539009982686752276已保存！\n",
      "求职信息1385: 7539009991276686868已保存！\n",
      "求职信息1386: 7539009999866621460已保存！\n",
      "求职信息1387: 7539010008456556052已保存！\n",
      "求职信息1388: 7539010017046490644已保存！\n",
      "求职信息1389: 7539010025636425236已保存！\n",
      "求职信息1390: 7539010034226359828已保存！\n",
      "求职信息1391: 7539010042816294420已保存！\n",
      "求职信息1392: 7539010055701196308已保存！\n",
      "求职信息1393: 7539010064291130900已保存！\n",
      "求职信息1394: 7539010072881065492已保存！\n",
      "求职信息1395: 7539010081471000084已保存！\n",
      "求职信息1396: 7539010090060934676已保存！\n",
      "求职信息1397: 7539010098650869268已保存！\n",
      "求职信息1398: 7539010107240803860已保存！\n",
      "求职信息1399: 7539010111535771156已保存！\n",
      "求职信息1400: 7539010120125705748已保存！\n",
      "求职信息1401: 7539052794920758804已保存！\n",
      "求职信息1402: 7539052803510693396已保存！\n",
      "求职信息1403: 7539052816395595284已保存！\n",
      "求职信息1404: 7539052824985529876已保存！\n",
      "求职信息1405: 7539052833575464468已保存！\n",
      "求职信息1406: 7539052842165399060已保存！\n",
      "求职信息1407: 7539052850755333652已保存！\n",
      "求职信息1408: 7539052859345268244已保存！\n",
      "求职信息1409: 7539052867935202836已保存！\n",
      "求职信息1410: 7539052876525137428已保存！\n",
      "求职信息1411: 7539052885115072020已保存！\n",
      "求职信息1412: 7539052897999973908已保存！\n",
      "求职信息1413: 7539052906589908500已保存！\n",
      "求职信息1414: 7539052915179843092已保存！\n",
      "求职信息1415: 7539052923769777684已保存！\n",
      "求职信息1416: 7539052932359712276已保存！\n",
      "求职信息1417: 7539052940949646868已保存！\n",
      "求职信息1418: 7539052949539581460已保存！\n",
      "求职信息1419: 7539052953834548756已保存！\n",
      "求职信息1420: 7539052962424483348已保存！\n",
      "求职信息1421: 7539052971014417940已保存！\n",
      "求职信息1422: 7539052983899319828已保存！\n",
      "求职信息1423: 7539052992489254420已保存！\n",
      "求职信息1424: 7539053001079189012已保存！\n",
      "求职信息1425: 7539053009669123604已保存！\n",
      "求职信息1426: 7539053018259058196已保存！\n",
      "求职信息1427: 7539053026848992788已保存！\n",
      "求职信息1428: 7539053035438927380已保存！\n",
      "求职信息1429: 7539095727413849620已保存！\n",
      "求职信息1430: 7539095736003784212已保存！\n",
      "求职信息1431: 7539095744593718804已保存！\n",
      "求职信息1432: 7539095753183653396已保存！\n",
      "求职信息1433: 7539095761773587988已保存！\n",
      "求职信息1434: 7539095770363522580已保存！\n",
      "求职信息1435: 7539095778953457172已保存！\n",
      "求职信息1436: 7539095791838359060已保存！\n",
      "求职信息1437: 7539095800428293652已保存！\n",
      "求职信息1438: 7539095804723260948已保存！\n",
      "求职信息1439: 7539095809018228244已保存！\n",
      "求职信息1440: 7539095817608162836已保存！\n",
      "求职信息1441: 7539095826198097428已保存！\n",
      "求职信息1442: 7539095839082999316已保存！\n",
      "求职信息1443: 7539095847672933908已保存！\n",
      "求职信息1444: 7539095856262868500已保存！\n",
      "求职信息1445: 7539095864852803092已保存！\n",
      "求职信息1446: 7539095873442737684已保存！\n",
      "求职信息1447: 7539095882032672276已保存！\n",
      "求职信息1448: 7539095890622606868已保存！\n",
      "求职信息1449: 7539095899212541460已保存！\n",
      "求职信息1450: 7539095912097443348已保存！\n",
      "求职信息1451: 7539095920687377940已保存！\n",
      "求职信息1452: 7539095929277312532已保存！\n",
      "求职信息1453: 7539095937867247124已保存！\n",
      "求职信息1454: 7539095946457181716已保存！\n",
      "求职信息1455: 7539095955047116308已保存！\n",
      "求职信息1456: 7539095963637050900已保存！\n",
      "求职信息1457: 7539095972226985492已保存！\n",
      "求职信息1458: 7539138655611973140已保存！\n",
      "求职信息1459: 7539138659906940436已保存！\n",
      "求职信息1460: 7539138668496875028已保存！\n",
      "求职信息1461: 7539138677086809620已保存！\n",
      "求职信息1462: 7539138685676744212已保存！\n",
      "求职信息1463: 7539138698561646100已保存！\n",
      "求职信息1464: 7539138707151580692已保存！\n",
      "求职信息1465: 7539138715741515284已保存！\n",
      "求职信息1466: 7539138724331449876已保存！\n",
      "求职信息1467: 7539138732921384468已保存！\n",
      "求职信息1468: 7539138741511319060已保存！\n",
      "求职信息1469: 7539138750101253652已保存！\n",
      "求职信息1470: 7539138762986155540已保存！\n",
      "求职信息1471: 7539138771576090132已保存！\n",
      "求职信息1472: 7539138780166024724已保存！\n",
      "求职信息1473: 7539138788755959316已保存！\n",
      "求职信息1474: 7539138797345893908已保存！\n",
      "求职信息1475: 7539138805935828500已保存！\n",
      "求职信息1476: 7539138814525763092已保存！\n",
      "求职信息1477: 7539138827410664980已保存！\n",
      "求职信息1478: 7539138831705632276已保存！\n",
      "求职信息1479: 7539138836000599572已保存！\n",
      "求职信息1480: 7539138844590534164已保存！\n",
      "求职信息1481: 7539138853180468756已保存！\n",
      "求职信息1482: 7539138861770403348已保存！\n",
      "求职信息1483: 7539138874655305236已保存！\n",
      "求职信息1484: 7539138883245239828已保存！\n",
      "求职信息1485: 7539138891835174420已保存！\n"
     ]
    },
    {
     "name": "stdout",
     "output_type": "stream",
     "text": [
      "求职信息1486: 7539138900425109012已保存！\n",
      "求职信息1487: 7539138909015043604已保存！\n",
      "求职信息1488: 7539181575220162068已保存！\n",
      "求职信息1489: 7539181583810096660已保存！\n",
      "求职信息1490: 7539181592400031252已保存！\n",
      "求职信息1491: 7539181605284933140已保存！\n",
      "求职信息1492: 7539181613874867732已保存！\n",
      "求职信息1493: 7539181622464802324已保存！\n",
      "求职信息1494: 7539181631054736916已保存！\n",
      "求职信息1495: 7539181639644671508已保存！\n",
      "求职信息1496: 7539181648234606100已保存！\n",
      "求职信息1497: 7539181656824540692已保存！\n",
      "求职信息1498: 7539181665414475284已保存！\n",
      "求职信息1499: 7539181669709442580已保存！\n",
      "求职信息1500: 7539181678299377172已保存！\n",
      "求职信息1501: 7539181686889311764已保存！\n",
      "求职信息1502: 7539181695479246356已保存！\n",
      "求职信息1503: 7539181708364148244已保存！\n",
      "求职信息1504: 7539181716954082836已保存！\n",
      "求职信息1505: 7539181725544017428已保存！\n",
      "求职信息1506: 7539181734133952020已保存！\n",
      "求职信息1507: 7539181742723886612已保存！\n",
      "求职信息1508: 7539181751313821204已保存！\n",
      "求职信息1509: 7539181759903755796已保存！\n",
      "求职信息1510: 7539181772788657684已保存！\n",
      "求职信息1511: 7539181781378592276已保存！\n",
      "求职信息1512: 7539181789968526868已保存！\n",
      "求职信息1513: 7539181798558461460已保存！\n",
      "求职信息1514: 7539181807148396052已保存！\n",
      "求职信息1515: 7539181815738330644已保存！\n",
      "求职信息1516: 7539181824328265236已保存！\n",
      "求职信息1517: 7539224512008220180已保存！\n",
      "求职信息1518: 7539224516303187476已保存！\n",
      "求职信息1519: 7539224520598154772已保存！\n",
      "求职信息1520: 7539224529188089364已保存！\n",
      "求职信息1521: 7539224537778023956已保存！\n",
      "求职信息1522: 7539224546367958548已保存！\n",
      "求职信息1523: 7539224559252860436已保存！\n",
      "求职信息1524: 7539224567842795028已保存！\n",
      "求职信息1525: 7539224576432729620已保存！\n",
      "求职信息1526: 7539224585022664212已保存！\n",
      "求职信息1527: 7539224593612598804已保存！\n",
      "求职信息1528: 7539224602202533396已保存！\n",
      "求职信息1529: 7539224610792467988已保存！\n",
      "求职信息1530: 7539224619382402580已保存！\n",
      "求职信息1531: 7539224632267304468已保存！\n",
      "求职信息1532: 7539224640857239060已保存！\n",
      "求职信息1533: 7539224649447173652已保存！\n",
      "求职信息1534: 7539224658037108244已保存！\n",
      "求职信息1535: 7539224666627042836已保存！\n",
      "求职信息1536: 7539224675216977428已保存！\n",
      "求职信息1537: 7539224683806912020已保存！\n",
      "求职信息1538: 7539224692396846612已保存！\n",
      "求职信息1539: 7539224696691813908已保存！\n",
      "求职信息1540: 7539224705281748500已保存！\n",
      "求职信息1541: 7539224713871683092已保存！\n",
      "求职信息1542: 7539224722461617684已保存！\n",
      "求职信息1543: 7539224735346519572已保存！\n",
      "求职信息1544: 7539267444501310996已保存！\n",
      "求职信息1545: 7539267453091245588已保存！\n",
      "求职信息1546: 7539267461681180180已保存！\n",
      "求职信息1547: 7539267470271114772已保存！\n",
      "求职信息1548: 7539267478861049364已保存！\n",
      "求职信息1549: 7539267487450983956已保存！\n",
      "求职信息1550: 7539267496040918548已保存！\n",
      "求职信息1551: 7539267508925820436已保存！\n",
      "求职信息1552: 7539267517515755028已保存！\n",
      "求职信息1553: 7539267526105689620已保存！\n",
      "求职信息1554: 7539267534695624212已保存！\n",
      "求职信息1555: 7539267543285558804已保存！\n",
      "求职信息1556: 7539267551875493396已保存！\n",
      "求职信息1557: 7539267560465427988已保存！\n",
      "求职信息1558: 7539267569055362580已保存！\n",
      "求职信息1559: 7539267573350329876已保存！\n",
      "求职信息1560: 7539267581940264468已保存！\n",
      "求职信息1561: 7539267590530199060已保存！\n",
      "求职信息1562: 7539267603415100948已保存！\n",
      "求职信息1563: 7539267612005035540已保存！\n",
      "求职信息1564: 7539267620594970132已保存！\n",
      "求职信息1565: 7539267629184904724已保存！\n",
      "求职信息1566: 7539267637774839316已保存！\n",
      "求职信息1567: 7539267646364773908已保存！\n",
      "求职信息1568: 7539267654954708500已保存！\n",
      "求职信息1569: 7539267663544643092已保存！\n",
      "求职信息1570: 7539267676429544980已保存！\n",
      "求职信息1571: 7539267685019479572已保存！\n",
      "求职信息1572: 7539310325454794260已保存！\n",
      "求职信息1573: 7539310334044728852已保存！\n",
      "求职信息1574: 7539310342634663444已保存！\n",
      "求职信息1575: 7539310351224598036已保存！\n",
      "求职信息1576: 7539310359814532628已保存！\n",
      "求职信息1577: 7539310372699434516已保存！\n",
      "求职信息1578: 7539310376994401812已保存！\n",
      "求职信息1579: 7539310381289369108已保存！\n",
      "求职信息1580: 7539310389879303700已保存！\n",
      "求职信息1581: 7539310398469238292已保存！\n",
      "求职信息1582: 7539310407059172884已保存！\n",
      "求职信息1583: 7539310419944074772已保存！\n",
      "求职信息1584: 7539310428534009364已保存！\n",
      "求职信息1585: 7539310437123943956已保存！\n",
      "求职信息1586: 7539310445713878548已保存！\n",
      "求职信息1587: 7539310454303813140已保存！\n",
      "求职信息1588: 7539310462893747732已保存！\n",
      "求职信息1589: 7539310471483682324已保存！\n",
      "求职信息1590: 7539310480073616916已保存！\n",
      "求职信息1591: 7539310492958518804已保存！\n",
      "求职信息1592: 7539310501548453396已保存！\n",
      "求职信息1593: 7539310510138387988已保存！\n",
      "求职信息1594: 7539310518728322580已保存！\n",
      "求职信息1595: 7539310527318257172已保存！\n",
      "求职信息1596: 7539310535908191764已保存！\n",
      "求职信息1597: 7539310544498126356已保存！\n",
      "求职信息1598: 7539310553088060948已保存！\n",
      "求职信息1599: 7539310557383028244已保存！\n",
      "求职信息1600: 7539310565972962836已保存！\n",
      "求职信息1601: 7539310574562897428已保存！\n",
      "求职信息1602: 7539310583152832020已保存！\n",
      "求职信息1603: 7539353279422721556已保存！\n",
      "求职信息1604: 7539353288012656148已保存！\n",
      "求职信息1605: 7539353296602590740已保存！\n",
      "求职信息1606: 7539353305192525332已保存！\n",
      "求职信息1607: 7539353313782459924已保存！\n",
      "求职信息1608: 7539353322372394516已保存！\n",
      "求职信息1609: 7539353330962329108已保存！\n",
      "求职信息1610: 7539353339552263700已保存！\n",
      "求职信息1611: 7539353352437165588已保存！\n",
      "求职信息1612: 7539353361027100180已保存！\n",
      "求职信息1613: 7539353369617034772已保存！\n",
      "求职信息1614: 7539353378206969364已保存！\n",
      "求职信息1615: 7539353386796903956已保存！\n",
      "求职信息1616: 7539353395386838548已保存！\n",
      "求职信息1617: 7539353403976773140已保存！\n",
      "求职信息1618: 7539353412566707732已保存！\n",
      "求职信息1619: 7539353416861675028已保存！\n",
      "求职信息1620: 7539353425451609620已保存！\n",
      "求职信息1621: 7539353434041544212已保存！\n",
      "求职信息1622: 7539353442631478804已保存！\n",
      "求职信息1623: 7539353455516380692已保存！\n",
      "求职信息1624: 7539353464106315284已保存！\n",
      "求职信息1625: 7539353472696249876已保存！\n",
      "求职信息1626: 7539353481286184468已保存！\n",
      "求职信息1627: 7539353489876119060已保存！\n",
      "求职信息1628: 7539353498466053652已保存！\n",
      "求职信息1629: 7539353507055988244已保存！\n",
      "求职信息1630: 7539353519940890132已保存！\n",
      "求职信息1631: 7539396186146008596已保存！\n",
      "求职信息1632: 7539396194735943188已保存！\n",
      "求职信息1633: 7539396203325877780已保存！\n",
      "求职信息1634: 7539396211915812372已保存！\n",
      "求职信息1635: 7539396220505746964已保存！\n",
      "求职信息1636: 7539396229095681556已保存！\n",
      "求职信息1637: 7539396237685616148已保存！\n",
      "求职信息1638: 7539396246275550740已保存！\n",
      "求职信息1639: 7539396250570518036已保存！\n",
      "求职信息1640: 7539396259160452628已保存！\n",
      "求职信息1641: 7539396267750387220已保存！\n",
      "求职信息1642: 7539396276340321812已保存！\n",
      "求职信息1643: 7539396284930256404已保存！\n",
      "求职信息1644: 7539396297815158292已保存！\n",
      "求职信息1645: 7539396306405092884已保存！\n",
      "求职信息1646: 7539396314995027476已保存！\n",
      "求职信息1647: 7539396323584962068已保存！\n",
      "求职信息1648: 7539396332174896660已保存！\n",
      "求职信息1649: 7539396340764831252已保存！\n",
      "求职信息1650: 7539396349354765844已保存！\n",
      "求职信息1651: 7539396357944700436已保存！\n",
      "求职信息1652: 7539396370829602324已保存！\n",
      "求职信息1653: 7539396379419536916已保存！\n",
      "求职信息1654: 7539396388009471508已保存！\n",
      "求职信息1655: 7539396396599406100已保存！\n",
      "求职信息1656: 7539396405189340692已保存！\n",
      "求职信息1657: 7539396413779275284已保存！\n",
      "求职信息1658: 7539396422369209876已保存！\n",
      "求职信息1659: 7539396426664177172已保存！\n",
      "求职信息1660: 7539396435254111764已保存！\n",
      "求职信息1661: 7539396443844046356已保存！\n",
      "求职信息1662: 7539439110049164820已保存！\n",
      "求职信息1663: 7539439122934066708已保存！\n",
      "求职信息1664: 7539439131524001300已保存！\n",
      "求职信息1665: 7539439140113935892已保存！\n",
      "求职信息1666: 7539439148703870484已保存！\n",
      "求职信息1667: 7539439157293805076已保存！\n",
      "求职信息1668: 7539439165883739668已保存！\n",
      "求职信息1669: 7539439174473674260已保存！\n",
      "求职信息1670: 7539439183063608852已保存！\n",
      "求职信息1671: 7539439191653543444已保存！\n",
      "求职信息1672: 7539439204538445332已保存！\n",
      "求职信息1673: 7539439213128379924已保存！\n",
      "求职信息1674: 7539439221718314516已保存！\n",
      "求职信息1675: 7539439230308249108已保存！\n",
      "求职信息1676: 7539439238898183700已保存！\n",
      "求职信息1677: 7539439247488118292已保存！\n",
      "求职信息1678: 7539439256078052884已保存！\n",
      "求职信息1679: 7539439260373020180已保存！\n",
      "求职信息1680: 7539439268962954772已保存！\n",
      "求职信息1681: 7539439277552889364已保存！\n",
      "求职信息1682: 7539439286142823956已保存！\n",
      "求职信息1683: 7539439299027725844已保存！\n",
      "求职信息1684: 7539439307617660436已保存！\n",
      "求职信息1685: 7539439316207595028已保存！\n",
      "求职信息1686: 7539439324797529620已保存！\n",
      "求职信息1687: 7539439333387464212已保存！\n",
      "求职信息1688: 7539439341977398804已保存！\n",
      "求职信息1689: 7539439350567333396已保存！\n",
      "求职信息1690: 7539482068312059412已保存！\n",
      "求职信息1691: 7539482076901994004已保存！\n",
      "求职信息1692: 7539482089786895892已保存！\n",
      "求职信息1693: 7539482098376830484已保存！\n",
      "求职信息1694: 7539482106966765076已保存！\n",
      "求职信息1695: 7539482115556699668已保存！\n",
      "求职信息1696: 7539482124146634260已保存！\n",
      "求职信息1697: 7539482132736568852已保存！\n",
      "求职信息1698: 7539482141326503444已保存！\n",
      "求职信息1699: 7539482145621470740已保存！\n",
      "求职信息1700: 7539482154211405332已保存！\n",
      "求职信息1701: 7539482162801339924已保存！\n",
      "求职信息1702: 7539482171391274516已保存！\n",
      "求职信息1703: 7539482184276176404已保存！\n",
      "求职信息1704: 7539482192866110996已保存！\n",
      "求职信息1705: 7539482201456045588已保存！\n",
      "求职信息1706: 7539482210045980180已保存！\n",
      "求职信息1707: 7539482218635914772已保存！\n",
      "求职信息1708: 7539482227225849364已保存！\n",
      "求职信息1709: 7539482235815783956已保存！\n",
      "求职信息1710: 7539482244405718548已保存！\n",
      "求职信息1711: 7539482257290620436已保存！\n",
      "求职信息1712: 7539482265880555028已保存！\n",
      "求职信息1713: 7539482274470489620已保存！\n",
      "求职信息1714: 7539482283060424212已保存！\n",
      "求职信息1715: 7539482291650358804已保存！\n",
      "求职信息1716: 7539482300240293396已保存！\n",
      "求职信息1717: 7539482308830227988已保存！\n",
      "求职信息1718: 7539525584920702484已保存！\n",
      "求职信息1719: 7539525589215669780已保存！\n",
      "求职信息1720: 7539525597805604372已保存！\n",
      "求职信息1721: 7539525606395538964已保存！\n",
      "求职信息1722: 7539525619280440852已保存！\n",
      "求职信息1723: 7539525627870375444已保存！\n",
      "求职信息1724: 7539525636460310036已保存！\n",
      "求职信息1725: 7539525645050244628已保存！\n",
      "求职信息1726: 7539525653640179220已保存！\n"
     ]
    },
    {
     "name": "stdout",
     "output_type": "stream",
     "text": [
      "求职信息1727: 7539525662230113812已保存！\n",
      "求职信息1728: 7539525670820048404已保存！\n",
      "求职信息1729: 7539525683704950292已保存！\n",
      "求职信息1730: 7539525692294884884已保存！\n",
      "求职信息1731: 7539525700884819476已保存！\n",
      "求职信息1732: 7539525709474754068已保存！\n",
      "求职信息1733: 7539525718064688660已保存！\n",
      "求职信息1734: 7539525726654623252已保存！\n",
      "求职信息1735: 7539525735244557844已保存！\n",
      "求职信息1736: 7539525743834492436已保存！\n",
      "求职信息1737: 7539525752424427028已保存！\n",
      "求职信息1738: 7539525761014361620已保存！\n",
      "求职信息1739: 7539525765309328916已保存！\n",
      "求职信息1740: 7539525773899263508已保存！\n",
      "求职信息1741: 7539525782489198100已保存！\n",
      "求职信息1742: 7539525795374099988已保存！\n",
      "求职信息1743: 7539568470169153044已保存！\n",
      "求职信息1744: 7539568478759087636已保存！\n",
      "求职信息1745: 7539568487349022228已保存！\n",
      "求职信息1746: 7539568495938956820已保存！\n",
      "求职信息1747: 7539568504528891412已保存！\n",
      "求职信息1748: 7539568513118826004已保存！\n",
      "求职信息1749: 7539568521708760596已保存！\n",
      "求职信息1750: 7539568534593662484已保存！\n",
      "求职信息1751: 7539568543183597076已保存！\n",
      "求职信息1752: 7539568551773531668已保存！\n",
      "求职信息1753: 7539568560363466260已保存！\n",
      "求职信息1754: 7539568568953400852已保存！\n",
      "求职信息1755: 7539568577543335444已保存！\n",
      "求职信息1756: 7539568586133270036已保存！\n",
      "求职信息1757: 7539568594723204628已保存！\n",
      "求职信息1758: 7539568603313139220已保存！\n",
      "求职信息1759: 7539568607608106516已保存！\n",
      "求职信息1760: 7539568616198041108已保存！\n",
      "求职信息1761: 7539568624787975700已保存！\n",
      "求职信息1762: 7539568633377910292已保存！\n",
      "求职信息1763: 7539568646262812180已保存！\n",
      "求职信息1764: 7539568654852746772已保存！\n",
      "求职信息1765: 7539568663442681364已保存！\n",
      "求职信息1766: 7539568672032615956已保存！\n",
      "求职信息1767: 7539568680622550548已保存！\n",
      "求职信息1768: 7539568689212485140已保存！\n",
      "求职信息1769: 7539568697802419732已保存！\n",
      "求职信息1770: 7539568706392354324已保存！\n",
      "求职信息1771: 7539568714982288916已保存！\n",
      "求职信息1772: 7539611372597472788已保存！\n",
      "求职信息1773: 7539611381187407380已保存！\n",
      "求职信息1774: 7539611389777341972已保存！\n",
      "求职信息1775: 7539611398367276564已保存！\n",
      "求职信息1776: 7539611406957211156已保存！\n",
      "求职信息1777: 7539611415547145748已保存！\n",
      "求职信息1778: 7539611424137080340已保存！\n",
      "求职信息1779: 7539611428432047636已保存！\n",
      "求职信息1780: 7539611437021982228已保存！\n",
      "求职信息1781: 7539611449906884116已保存！\n",
      "求职信息1782: 7539611458496818708已保存！\n",
      "求职信息1783: 7539611467086753300已保存！\n",
      "求职信息1784: 7539611475676687892已保存！\n",
      "求职信息1785: 7539611484266622484已保存！\n",
      "求职信息1786: 7539611492856557076已保存！\n",
      "求职信息1787: 7539611501446491668已保存！\n",
      "求职信息1788: 7539611510036426260已保存！\n",
      "求职信息1789: 7539611518626360852已保存！\n",
      "求职信息1790: 7539611531511262740已保存！\n",
      "求职信息1791: 7539611540101197332已保存！\n",
      "求职信息1792: 7539611548691131924已保存！\n",
      "求职信息1793: 7539611557281066516已保存！\n",
      "求职信息1794: 7539611565871001108已保存！\n",
      "求职信息1795: 7539611574460935700已保存！\n",
      "求职信息1796: 7539611583050870292已保存！\n",
      "求职信息1797: 7539611591640804884已保存！\n",
      "求职信息1798: 7539611600230739476已保存！\n",
      "求职信息1799: 7539611604525706772已保存！\n",
      "求职信息1800: 7539611613115641364已保存！\n",
      "求职信息1801: 7539611621705575956已保存！\n",
      "求职信息1802: 7539653828349193748已保存！\n",
      "求职信息1803: 7539653836939128340已保存！\n",
      "求职信息1804: 7539653849824030228已保存！\n",
      "求职信息1805: 7539653858413964820已保存！\n",
      "求职信息1806: 7539653867003899412已保存！\n",
      "求职信息1807: 7539653875593834004已保存！\n",
      "求职信息1808: 7539653884183768596已保存！\n",
      "求职信息1809: 7539653892773703188已保存！\n",
      "求职信息1810: 7539653905658605076已保存！\n",
      "求职信息1811: 7539653914248539668已保存！\n",
      "求职信息1812: 7539653922838474260已保存！\n",
      "求职信息1813: 7539653931428408852已保存！\n",
      "求职信息1814: 7539653940018343444已保存！\n",
      "求职信息1815: 7539653948608278036已保存！\n",
      "求职信息1816: 7539653957198212628已保存！\n",
      "求职信息1817: 7539653965788147220已保存！\n",
      "求职信息1818: 7539653974378081812已保存！\n",
      "求职信息1819: 7539653978673049108已保存！\n",
      "求职信息1820: 7539653987262983700已保存！\n",
      "求职信息1821: 7539653995852918292已保存！\n",
      "求职信息1822: 7539696674942938644已保存！\n",
      "求职信息1823: 7539696683532873236已保存！\n",
      "求职信息1824: 7539696692122807828已保存！\n",
      "求职信息1825: 7539696700712742420已保存！\n",
      "求职信息1826: 7539696709302677012已保存！\n",
      "求职信息1827: 7539696717892611604已保存！\n",
      "求职信息1828: 7539696726482546196已保存！\n",
      "求职信息1829: 7539696739367448084已保存！\n",
      "求职信息1830: 7539696747957382676已保存！\n",
      "求职信息1831: 7539696756547317268已保存！\n",
      "求职信息1832: 7539696765137251860已保存！\n",
      "求职信息1833: 7539696773727186452已保存！\n",
      "求职信息1834: 7539696782317121044已保存！\n",
      "求职信息1835: 7539696790907055636已保存！\n",
      "求职信息1836: 7539696799496990228已保存！\n",
      "求职信息1837: 7539696812381892116已保存！\n",
      "求职信息1838: 7539696816676859412已保存！\n",
      "求职信息1839: 7539696820971826708已保存！\n",
      "求职信息1840: 7539696829561761300已保存！\n",
      "求职信息1841: 7539696838151695892已保存！\n",
      "求职信息1842: 7539696846741630484已保存！\n",
      "求职信息1843: 7539696855331565076已保存！\n",
      "求职信息1844: 7539696868216466964已保存！\n",
      "求职信息1845: 7539696876806401556已保存！\n",
      "求职信息1846: 7539696885396336148已保存！\n",
      "求职信息1847: 7539696893986270740已保存！\n",
      "求职信息1848: 7539739564486356500已保存！\n",
      "求职信息1849: 7539739573076291092已保存！\n",
      "求职信息1850: 7539739581666225684已保存！\n",
      "求职信息1851: 7539739590256160276已保存！\n",
      "求职信息1852: 7539739598846094868已保存！\n",
      "求职信息1853: 7539739611730996756已保存！\n",
      "求职信息1854: 7539739624615898644已保存！\n",
      "求职信息1855: 7539739637500800532已保存！\n",
      "求职信息1856: 7539739646090735124已保存！\n",
      "求职信息1857: 7539739654680669716已保存！\n",
      "求职信息1858: 7539739658975637012已保存！\n",
      "求职信息1859: 7539739667565571604已保存！\n",
      "求职信息1860: 7539739680450473492已保存！\n",
      "求职信息1861: 7539739689040408084已保存！\n",
      "求职信息1862: 7539739701925309972已保存！\n",
      "求职信息1863: 7539739714810211860已保存！\n",
      "求职信息1864: 7539739723400146452已保存！\n",
      "求职信息1865: 7539739736285048340已保存！\n",
      "求职信息1866: 7539739744874982932已保存！\n",
      "求职信息1867: 7539739757759884820已保存！\n",
      "求职信息1868: 7539739770644786708已保存！\n",
      "求职信息1869: 7539739779234721300已保存！\n",
      "求职信息1870: 7539739792119623188已保存！\n",
      "求职信息1871: 7539739800709557780已保存！\n",
      "求职信息1872: 7539739809299492372已保存！\n",
      "求职信息1873: 7539739817889426964已保存！\n",
      "求职信息1874: 7539782531339185684已保存！\n",
      "求职信息1875: 7539782539929120276已保存！\n",
      "求职信息1876: 7539782544224087572已保存！\n",
      "求职信息1877: 7539782552814022164已保存！\n",
      "求职信息1878: 7539782561403956756已保存！\n",
      "求职信息1879: 7539782569993891348已保存！\n",
      "求职信息1880: 7539782578583825940已保存！\n",
      "求职信息1881: 7539782587173760532已保存！\n",
      "求职信息1882: 7539782595763695124已保存！\n",
      "求职信息1883: 7539782604353629716已保存！\n",
      "求职信息1884: 7539782612943564308已保存！\n",
      "求职信息1885: 7539782621533498900已保存！\n",
      "求职信息1886: 7539782625828466196已保存！\n",
      "求职信息1887: 7539782630123433492已保存！\n",
      "求职信息1888: 7539782634418400788已保存！\n",
      "求职信息1889: 7539782638713368084已保存！\n",
      "求职信息1890: 7539782643008335380已保存！\n",
      "求职信息1891: 7539782647303302676已保存！\n",
      "求职信息1892: 7539782651598269972已保存！\n",
      "求职信息1893: 7539782655893237268已保存！\n",
      "求职信息1894: 7539782660188204564已保存！\n",
      "求职信息1895: 7539782664483171860已保存！\n",
      "求职信息1896: 7539782668778139156已保存！\n",
      "求职信息1897: 7539782673073106452已保存！\n",
      "求职信息1898: 7539782677368073748已保存！\n",
      "求职信息1899: 7539782681663041044已保存！\n",
      "求职信息1900: 7539782685958008340已保存！\n",
      "求职信息1901: 7539782690252975636已保存！\n",
      "求职信息1902: 7539782694547942932已保存！\n",
      "求职信息1903: 7539782698842910228已保存！\n",
      "求职信息1904: 7539782703137877524已保存！\n",
      "求职信息1905: 7539782707432844820已保存！\n",
      "求职信息1906: 7539782711727812116已保存！\n",
      "求职信息1907: 7539782716022779412已保存！\n",
      "求职信息1908: 7539782720317746708已保存！\n",
      "求职信息1909: 7539782724612714004已保存！\n",
      "求职信息1910: 7539782728907681300已保存！\n",
      "求职信息1911: 7539782733202648596已保存！\n",
      "求职信息1912: 7539782737497615892已保存！\n",
      "求职信息1913: 7539782741792583188已保存！\n",
      "求职信息1914: 7539782746087550484已保存！\n",
      "求职信息1915: 7539782750382517780已保存！\n",
      "求职信息1916: 7539782754677485076已保存！\n",
      "求职信息1917: 7539782758972452372已保存！\n",
      "求职信息1918: 7539782763267419668已保存！\n",
      "求职信息1919: 7539782767562386964已保存！\n",
      "求职信息1920: 7539782771857354260已保存！\n",
      "求职信息1921: 7539782776152321556已保存！\n",
      "求职信息1922: 7539825446652407316已保存！\n",
      "求职信息1923: 7539825450947374612已保存！\n",
      "求职信息1924: 7539825455242341908已保存！\n",
      "求职信息1925: 7539825459537309204已保存！\n",
      "求职信息1926: 7539825463832276500已保存！\n",
      "求职信息1927: 7539825468127243796已保存！\n",
      "求职信息1928: 7539825472422211092已保存！\n",
      "求职信息1929: 7539825476717178388已保存！\n",
      "求职信息1930: 7539825481012145684已保存！\n",
      "求职信息1931: 7539825485307112980已保存！\n",
      "求职信息1932: 7539825489602080276已保存！\n",
      "求职信息1933: 7539825493897047572已保存！\n",
      "求职信息1934: 7539825498192014868已保存！\n",
      "求职信息1935: 7539825502486982164已保存！\n",
      "求职信息1936: 7539825506781949460已保存！\n",
      "求职信息1937: 7539825511076916756已保存！\n",
      "求职信息1938: 7539825515371884052已保存！\n",
      "求职信息1939: 7539825519666851348已保存！\n",
      "求职信息1940: 7539825523961818644已保存！\n",
      "求职信息1941: 7539825528256785940已保存！\n",
      "求职信息1942: 7539825532551753236已保存！\n",
      "求职信息1943: 7539825536846720532已保存！\n",
      "求职信息1944: 7539825541141687828已保存！\n",
      "求职信息1945: 7539825545436655124已保存！\n",
      "求职信息1946: 7539825549731622420已保存！\n",
      "求职信息1947: 7539825554026589716已保存！\n",
      "求职信息1948: 7539825558321557012已保存！\n",
      "求职信息1949: 7539825562616524308已保存！\n",
      "求职信息1950: 7539825566911491604已保存！\n",
      "求职信息1951: 7539825571206458900已保存！\n",
      "求职信息1952: 7539825584091360788已保存！\n",
      "求职信息1953: 7539825596976262676已保存！\n",
      "求职信息1954: 7539825605566197268已保存！\n",
      "求职信息1955: 7539825614156131860已保存！\n",
      "求职信息1956: 7539825622746066452已保存！\n",
      "求职信息1957: 7539825635630968340已保存！\n",
      "求职信息1958: 7539825644220902932已保存！\n",
      "求职信息1959: 7539825652810837524已保存！\n",
      "求职信息1960: 7539825661400772116已保存！\n",
      "求职信息1961: 7539825669990706708已保存！\n",
      "求职信息1962: 7539825682875608596已保存！\n",
      "求职信息1963: 7539825691465543188已保存！\n",
      "求职信息1964: 7539868374850530836已保存！\n",
      "求职信息1965: 7539868383440465428已保存！\n",
      "求职信息1966: 7539868396325367316已保存！\n",
      "求职信息1967: 7539868404915301908已保存！\n"
     ]
    },
    {
     "name": "stdout",
     "output_type": "stream",
     "text": [
      "求职信息1968: 7539868413505236500已保存！\n",
      "求职信息1969: 7539868417800203796已保存！\n",
      "求职信息1970: 7539868426390138388已保存！\n",
      "求职信息1971: 7539868434980072980已保存！\n",
      "求职信息1972: 7539868447864974868已保存！\n",
      "求职信息1973: 7539868456454909460已保存！\n",
      "求职信息1974: 7539868465044844052已保存！\n",
      "求职信息1975: 7539868473634778644已保存！\n",
      "求职信息1976: 7539868486519680532已保存！\n",
      "求职信息1977: 7539868495109615124已保存！\n",
      "求职信息1978: 7539868503699549716已保存！\n",
      "求职信息1979: 7539868512289484308已保存！\n",
      "求职信息1980: 7539868520879418900已保存！\n",
      "求职信息1981: 7539868529469353492已保存！\n",
      "求职信息1982: 7539868538059288084已保存！\n",
      "求职信息1983: 7539868546649222676已保存！\n",
      "求职信息1984: 7539868555239157268已保存！\n",
      "求职信息1985: 7539868568124059156已保存！\n",
      "求职信息1986: 7539868576713993748已保存！\n",
      "求职信息1987: 7539868585303928340已保存！\n",
      "求职信息1988: 7539868589598895636已保存！\n",
      "求职信息1989: 7539868593893862932已保存！\n",
      "求职信息1990: 7539868602483797524已保存！\n",
      "求职信息1991: 7539868611073732116已保存！\n",
      "求职信息1992: 7539868619663666708已保存！\n",
      "求职信息1993: 7539911358883229204已保存！\n",
      "求职信息1994: 7539911371768131092已保存！\n",
      "求职信息1995: 7539911380358065684已保存！\n",
      "求职信息1996: 7539911388948000276已保存！\n",
      "求职信息1997: 7539911397537934868已保存！\n",
      "求职信息1998: 7539911419012771348已保存！\n",
      "求职信息1999: 7539911427602705940已保存！\n",
      "求职信息2000: 7539911436192640532已保存！\n",
      "求职信息2001: 7539911444782575124已保存！\n",
      "求职信息2002: 7539911453372509716已保存！\n",
      "求职信息2003: 7539911466257411604已保存！\n",
      "求职信息2004: 7539911474847346196已保存！\n",
      "求职信息2005: 7539911483437280788已保存！\n",
      "求职信息2006: 7539911492027215380已保存！\n",
      "求职信息2007: 7539911500617149972已保存！\n"
     ]
    }
   ],
   "source": [
    "n = 1\n",
    "for i in user_list:\n",
    "    user_id = i['id']\n",
    "    user_name = i['username']\n",
    "    user_exp = i['exp']\n",
    "    user_expectPosition = i['expectPosition']\n",
    "    user_willSalaryEnd = i['willSalaryEnd']\n",
    "    user_willSalaryStart = i['willSalaryStart']\n",
    "    \n",
    "    # 访问二级页面\n",
    "    user_url = 'https://www.5iai.com/api/resume/baseInfo/public/' + user_id\n",
    "    user_Secoond_response = requests.get(user_url)\n",
    "    user_Secoond_dict = user_Secoond_response.json()\n",
    "\n",
    "    if 'data' in user_Secoond_dict.keys():\n",
    "        # 获取学历信息\n",
    "        user_educationExperienceList = ','.join([i['school']+'_'+i['speciality']+'_'+i['educationalBackground']for i in user_Secoond_dict['data']['educationExperienceList']])\n",
    "        # 获取预期工作地点\n",
    "        user_city = user_Secoond_dict['data']['city']\n",
    "        # 获取知识储备/技能\n",
    "        user_skillList = ','.join([i['name']+'_'+i['level'] for i in user_Secoond_dict['data']['skillList']])\n",
    "        # 获取工作经历\n",
    "        user_workExperienceList = ','.join([i['company'] + '_' + i['positionName'] for i in user_Secoond_dict['data']['workExperienceList']])\n",
    "        # 获取项目经历\n",
    "        user_projectExperienceList = ','.join([i['roleName'] for i in user_Secoond_dict['data']['projectExperienceList']])\n",
    "        # 获取竞赛经历\n",
    "        user_competitionExperienceList = ','.join([i['name']+'_'+i['level'] for i in user_Secoond_dict['data']['competitionExperienceList']])\n",
    "        # 获取证书情况\n",
    "        user_certList = ','.join([i['name'] for i in user_Secoond_dict['data']['certList']])\n",
    "        # 获取电子版简历上传情况\n",
    "        user_attachmentList = ','.join([i['name']+'_'+i['file'] for i in user_Secoond_dict['data']['attachmentList']])\n",
    "    else:\n",
    "        # 如果没有岗位详细信息，即二级页面为空\n",
    "        user_educationExperienceList = ''\n",
    "        user_city = ''\n",
    "        user_skillList = ''\n",
    "        user_workExperienceList = \"\"\n",
    "        user_projectExperienceList = \"\"\n",
    "        user_competitionExperienceList = \"\"\n",
    "        user_certList = \"\"\n",
    "        user_attachmentList = \"\"\n",
    "    \n",
    "    user_sql = f\"insert into user values(0, '{user_id}', '{user_name}', '{user_exp}', '{user_expectPosition}', '{user_willSalaryEnd}', '{user_willSalaryStart}', '{user_educationExperienceList}', '{user_city}', '{user_skillList}', '{user_workExperienceList}', '{user_projectExperienceList}', '{user_competitionExperienceList}', '{user_certList}', '{user_attachmentList}');\"\n",
    "    cursor.execute(user_sql)\n",
    "    # 提交数据库\n",
    "    conn.commit()\n",
    "    print(f'求职信息{n}: {user_id}已保存！')\n",
    "    n += 1"
   ]
  },
  {
   "cell_type": "markdown",
   "id": "0f2a9b6c",
   "metadata": {},
   "source": [
    "# 招聘与求职信息分析"
   ]
  },
  {
   "cell_type": "markdown",
   "id": "c8268d7c",
   "metadata": {},
   "source": [
    "## 招聘数据分析"
   ]
  },
  {
   "cell_type": "code",
   "execution_count": 2,
   "id": "cf9a0907",
   "metadata": {
    "ExecuteTime": {
     "end_time": "2023-03-16T09:07:29.546488Z",
     "start_time": "2023-03-16T09:07:29.534488Z"
    }
   },
   "outputs": [],
   "source": [
    "# 查看存储的数据结果\n"
   ]
  },
  {
   "cell_type": "code",
   "execution_count": null,
   "id": "9df5388c",
   "metadata": {},
   "outputs": [],
   "source": []
  },
  {
   "cell_type": "code",
   "execution_count": null,
   "id": "0af8cc4c",
   "metadata": {},
   "outputs": [],
   "source": []
  },
  {
   "cell_type": "code",
   "execution_count": null,
   "id": "c0380147",
   "metadata": {},
   "outputs": [],
   "source": []
  },
  {
   "cell_type": "code",
   "execution_count": null,
   "id": "82bd206f",
   "metadata": {},
   "outputs": [],
   "source": []
  },
  {
   "cell_type": "markdown",
   "id": "ac023b91",
   "metadata": {},
   "source": [
    "## 求职数据分析"
   ]
  },
  {
   "cell_type": "code",
   "execution_count": null,
   "id": "68898a58",
   "metadata": {},
   "outputs": [],
   "source": []
  },
  {
   "cell_type": "code",
   "execution_count": null,
   "id": "7610f44a",
   "metadata": {},
   "outputs": [],
   "source": []
  },
  {
   "cell_type": "code",
   "execution_count": null,
   "id": "13b83daa",
   "metadata": {},
   "outputs": [],
   "source": []
  },
  {
   "cell_type": "code",
   "execution_count": null,
   "id": "b66da682",
   "metadata": {},
   "outputs": [],
   "source": []
  },
  {
   "cell_type": "code",
   "execution_count": null,
   "id": "5d3c6956",
   "metadata": {},
   "outputs": [],
   "source": []
  },
  {
   "cell_type": "markdown",
   "id": "759396f4",
   "metadata": {},
   "source": [
    "# 构建岗位匹配度和求职者满意度的模型"
   ]
  },
  {
   "cell_type": "code",
   "execution_count": null,
   "id": "d3e95095",
   "metadata": {},
   "outputs": [],
   "source": []
  },
  {
   "cell_type": "code",
   "execution_count": null,
   "id": "25cd031a",
   "metadata": {},
   "outputs": [],
   "source": []
  },
  {
   "cell_type": "markdown",
   "id": "034b2235",
   "metadata": {},
   "source": [
    "# 招聘求职双向推荐系统"
   ]
  },
  {
   "cell_type": "code",
   "execution_count": null,
   "id": "09db4ff2",
   "metadata": {},
   "outputs": [],
   "source": []
  },
  {
   "cell_type": "code",
   "execution_count": null,
   "id": "2d5a771d",
   "metadata": {},
   "outputs": [],
   "source": []
  }
 ],
 "metadata": {
  "kernelspec": {
   "display_name": "spider2",
   "language": "python",
   "name": "spider2"
  },
  "language_info": {
   "codemirror_mode": {
    "name": "ipython",
    "version": 3
   },
   "file_extension": ".py",
   "mimetype": "text/x-python",
   "name": "python",
   "nbconvert_exporter": "python",
   "pygments_lexer": "ipython3",
   "version": "3.8.12"
  },
  "toc": {
   "base_numbering": 1,
   "nav_menu": {},
   "number_sections": true,
   "sideBar": true,
   "skip_h1_title": false,
   "title_cell": "Table of Contents",
   "title_sidebar": "Contents",
   "toc_cell": false,
   "toc_position": {
    "height": "calc(100% - 180px)",
    "left": "10px",
    "top": "150px",
    "width": "214.656px"
   },
   "toc_section_display": true,
   "toc_window_display": true
  },
  "varInspector": {
   "cols": {
    "lenName": 16,
    "lenType": 16,
    "lenVar": 40
   },
   "kernels_config": {
    "python": {
     "delete_cmd_postfix": "",
     "delete_cmd_prefix": "del ",
     "library": "var_list.py",
     "varRefreshCmd": "print(var_dic_list())"
    },
    "r": {
     "delete_cmd_postfix": ") ",
     "delete_cmd_prefix": "rm(",
     "library": "var_list.r",
     "varRefreshCmd": "cat(var_dic_list()) "
    }
   },
   "oldHeight": 657.520666,
   "position": {
    "height": "678.844px",
    "left": "32px",
    "right": "20px",
    "top": "311px",
    "width": "800px"
   },
   "types_to_exclude": [
    "module",
    "function",
    "builtin_function_or_method",
    "instance",
    "_Feature"
   ],
   "varInspector_section_display": "block",
   "window_display": false
  }
 },
 "nbformat": 4,
 "nbformat_minor": 5
}
